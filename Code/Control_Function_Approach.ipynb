{
  "nbformat": 4,
  "nbformat_minor": 0,
  "metadata": {
    "colab": {
      "name": "Control Function Approach.ipynb",
      "version": "0.3.2",
      "provenance": []
    },
    "kernelspec": {
      "name": "python3",
      "display_name": "Python 3"
    }
  },
  "cells": [
    {
      "cell_type": "code",
      "metadata": {
        "id": "YqWGrcRYoakm",
        "colab_type": "code",
        "colab": {
          "base_uri": "https://localhost:8080/",
          "height": 229
        },
        "outputId": "c9213772-0d3f-41f6-db71-3df695ad58a0"
      },
      "source": [
        "pip install linearmodels"
      ],
      "execution_count": 1,
      "outputs": [
        {
          "output_type": "stream",
          "text": [
            "Requirement already satisfied: linearmodels in /usr/local/lib/python3.6/dist-packages (4.13)\n",
            "Requirement already satisfied: statsmodels>=0.8 in /usr/local/lib/python3.6/dist-packages (from linearmodels) (0.10.1)\n",
            "Requirement already satisfied: cached-property>=1.5.1 in /usr/local/lib/python3.6/dist-packages (from linearmodels) (1.5.1)\n",
            "Requirement already satisfied: patsy in /usr/local/lib/python3.6/dist-packages (from linearmodels) (0.5.1)\n",
            "Requirement already satisfied: scipy>=0.18 in /usr/local/lib/python3.6/dist-packages (from linearmodels) (1.3.0)\n",
            "Requirement already satisfied: mypy-extensions>=0.4 in /usr/local/lib/python3.6/dist-packages (from linearmodels) (0.4.1)\n",
            "Requirement already satisfied: numpy>=1.13 in /usr/local/lib/python3.6/dist-packages (from linearmodels) (1.16.4)\n",
            "Requirement already satisfied: pandas>=0.20 in /usr/local/lib/python3.6/dist-packages (from linearmodels) (0.24.2)\n",
            "Requirement already satisfied: six in /usr/local/lib/python3.6/dist-packages (from patsy->linearmodels) (1.12.0)\n",
            "Requirement already satisfied: pytz>=2011k in /usr/local/lib/python3.6/dist-packages (from pandas>=0.20->linearmodels) (2018.9)\n",
            "Requirement already satisfied: python-dateutil>=2.5.0 in /usr/local/lib/python3.6/dist-packages (from pandas>=0.20->linearmodels) (2.5.3)\n"
          ],
          "name": "stdout"
        }
      ]
    },
    {
      "cell_type": "code",
      "metadata": {
        "id": "GRr3BOuMobJa",
        "colab_type": "code",
        "colab": {}
      },
      "source": [
        "import pandas as pd\n",
        "from linearmodels import IVGMM"
      ],
      "execution_count": 0,
      "outputs": []
    },
    {
      "cell_type": "code",
      "metadata": {
        "id": "AduNmxKMobSY",
        "colab_type": "code",
        "colab": {
          "base_uri": "https://localhost:8080/",
          "height": 224
        },
        "outputId": "5811d8a4-d06d-4296-d284-f3a9c603c26b"
      },
      "source": [
        "file=\"https://github.com/VitorKamada/ECO7110/raw/master/Data/card.dta\"\n",
        "df = pd.read_stata(file)\n",
        "df.head()"
      ],
      "execution_count": 3,
      "outputs": [
        {
          "output_type": "execute_result",
          "data": {
            "text/html": [
              "<div>\n",
              "<style scoped>\n",
              "    .dataframe tbody tr th:only-of-type {\n",
              "        vertical-align: middle;\n",
              "    }\n",
              "\n",
              "    .dataframe tbody tr th {\n",
              "        vertical-align: top;\n",
              "    }\n",
              "\n",
              "    .dataframe thead th {\n",
              "        text-align: right;\n",
              "    }\n",
              "</style>\n",
              "<table border=\"1\" class=\"dataframe\">\n",
              "  <thead>\n",
              "    <tr style=\"text-align: right;\">\n",
              "      <th></th>\n",
              "      <th>id</th>\n",
              "      <th>nearc2</th>\n",
              "      <th>nearc4</th>\n",
              "      <th>educ</th>\n",
              "      <th>age</th>\n",
              "      <th>fatheduc</th>\n",
              "      <th>motheduc</th>\n",
              "      <th>weight</th>\n",
              "      <th>momdad14</th>\n",
              "      <th>sinmom14</th>\n",
              "      <th>step14</th>\n",
              "      <th>reg661</th>\n",
              "      <th>reg662</th>\n",
              "      <th>reg663</th>\n",
              "      <th>reg664</th>\n",
              "      <th>reg665</th>\n",
              "      <th>reg666</th>\n",
              "      <th>reg667</th>\n",
              "      <th>reg668</th>\n",
              "      <th>reg669</th>\n",
              "      <th>south66</th>\n",
              "      <th>black</th>\n",
              "      <th>smsa</th>\n",
              "      <th>south</th>\n",
              "      <th>smsa66</th>\n",
              "      <th>wage</th>\n",
              "      <th>enroll</th>\n",
              "      <th>kww</th>\n",
              "      <th>iq</th>\n",
              "      <th>married</th>\n",
              "      <th>libcrd14</th>\n",
              "      <th>exper</th>\n",
              "      <th>lwage</th>\n",
              "      <th>expersq</th>\n",
              "    </tr>\n",
              "  </thead>\n",
              "  <tbody>\n",
              "    <tr>\n",
              "      <th>0</th>\n",
              "      <td>2</td>\n",
              "      <td>0</td>\n",
              "      <td>0</td>\n",
              "      <td>7</td>\n",
              "      <td>29</td>\n",
              "      <td>NaN</td>\n",
              "      <td>NaN</td>\n",
              "      <td>158413.0</td>\n",
              "      <td>1</td>\n",
              "      <td>0</td>\n",
              "      <td>0</td>\n",
              "      <td>1</td>\n",
              "      <td>0</td>\n",
              "      <td>0</td>\n",
              "      <td>0</td>\n",
              "      <td>0</td>\n",
              "      <td>0</td>\n",
              "      <td>0</td>\n",
              "      <td>0</td>\n",
              "      <td>0</td>\n",
              "      <td>0</td>\n",
              "      <td>1</td>\n",
              "      <td>1</td>\n",
              "      <td>0</td>\n",
              "      <td>1</td>\n",
              "      <td>548</td>\n",
              "      <td>0</td>\n",
              "      <td>15.0</td>\n",
              "      <td>NaN</td>\n",
              "      <td>1.0</td>\n",
              "      <td>0.0</td>\n",
              "      <td>16</td>\n",
              "      <td>6.306275</td>\n",
              "      <td>256</td>\n",
              "    </tr>\n",
              "    <tr>\n",
              "      <th>1</th>\n",
              "      <td>3</td>\n",
              "      <td>0</td>\n",
              "      <td>0</td>\n",
              "      <td>12</td>\n",
              "      <td>27</td>\n",
              "      <td>8.0</td>\n",
              "      <td>8.0</td>\n",
              "      <td>380166.0</td>\n",
              "      <td>1</td>\n",
              "      <td>0</td>\n",
              "      <td>0</td>\n",
              "      <td>1</td>\n",
              "      <td>0</td>\n",
              "      <td>0</td>\n",
              "      <td>0</td>\n",
              "      <td>0</td>\n",
              "      <td>0</td>\n",
              "      <td>0</td>\n",
              "      <td>0</td>\n",
              "      <td>0</td>\n",
              "      <td>0</td>\n",
              "      <td>0</td>\n",
              "      <td>1</td>\n",
              "      <td>0</td>\n",
              "      <td>1</td>\n",
              "      <td>481</td>\n",
              "      <td>0</td>\n",
              "      <td>35.0</td>\n",
              "      <td>93.0</td>\n",
              "      <td>1.0</td>\n",
              "      <td>1.0</td>\n",
              "      <td>9</td>\n",
              "      <td>6.175867</td>\n",
              "      <td>81</td>\n",
              "    </tr>\n",
              "    <tr>\n",
              "      <th>2</th>\n",
              "      <td>4</td>\n",
              "      <td>0</td>\n",
              "      <td>0</td>\n",
              "      <td>12</td>\n",
              "      <td>34</td>\n",
              "      <td>14.0</td>\n",
              "      <td>12.0</td>\n",
              "      <td>367470.0</td>\n",
              "      <td>1</td>\n",
              "      <td>0</td>\n",
              "      <td>0</td>\n",
              "      <td>1</td>\n",
              "      <td>0</td>\n",
              "      <td>0</td>\n",
              "      <td>0</td>\n",
              "      <td>0</td>\n",
              "      <td>0</td>\n",
              "      <td>0</td>\n",
              "      <td>0</td>\n",
              "      <td>0</td>\n",
              "      <td>0</td>\n",
              "      <td>0</td>\n",
              "      <td>1</td>\n",
              "      <td>0</td>\n",
              "      <td>1</td>\n",
              "      <td>721</td>\n",
              "      <td>0</td>\n",
              "      <td>42.0</td>\n",
              "      <td>103.0</td>\n",
              "      <td>1.0</td>\n",
              "      <td>1.0</td>\n",
              "      <td>16</td>\n",
              "      <td>6.580639</td>\n",
              "      <td>256</td>\n",
              "    </tr>\n",
              "    <tr>\n",
              "      <th>3</th>\n",
              "      <td>5</td>\n",
              "      <td>1</td>\n",
              "      <td>1</td>\n",
              "      <td>11</td>\n",
              "      <td>27</td>\n",
              "      <td>11.0</td>\n",
              "      <td>12.0</td>\n",
              "      <td>380166.0</td>\n",
              "      <td>1</td>\n",
              "      <td>0</td>\n",
              "      <td>0</td>\n",
              "      <td>0</td>\n",
              "      <td>1</td>\n",
              "      <td>0</td>\n",
              "      <td>0</td>\n",
              "      <td>0</td>\n",
              "      <td>0</td>\n",
              "      <td>0</td>\n",
              "      <td>0</td>\n",
              "      <td>0</td>\n",
              "      <td>0</td>\n",
              "      <td>0</td>\n",
              "      <td>1</td>\n",
              "      <td>0</td>\n",
              "      <td>1</td>\n",
              "      <td>250</td>\n",
              "      <td>0</td>\n",
              "      <td>25.0</td>\n",
              "      <td>88.0</td>\n",
              "      <td>1.0</td>\n",
              "      <td>1.0</td>\n",
              "      <td>10</td>\n",
              "      <td>5.521461</td>\n",
              "      <td>100</td>\n",
              "    </tr>\n",
              "    <tr>\n",
              "      <th>4</th>\n",
              "      <td>6</td>\n",
              "      <td>1</td>\n",
              "      <td>1</td>\n",
              "      <td>12</td>\n",
              "      <td>34</td>\n",
              "      <td>8.0</td>\n",
              "      <td>7.0</td>\n",
              "      <td>367470.0</td>\n",
              "      <td>1</td>\n",
              "      <td>0</td>\n",
              "      <td>0</td>\n",
              "      <td>0</td>\n",
              "      <td>1</td>\n",
              "      <td>0</td>\n",
              "      <td>0</td>\n",
              "      <td>0</td>\n",
              "      <td>0</td>\n",
              "      <td>0</td>\n",
              "      <td>0</td>\n",
              "      <td>0</td>\n",
              "      <td>0</td>\n",
              "      <td>0</td>\n",
              "      <td>1</td>\n",
              "      <td>0</td>\n",
              "      <td>1</td>\n",
              "      <td>729</td>\n",
              "      <td>0</td>\n",
              "      <td>34.0</td>\n",
              "      <td>108.0</td>\n",
              "      <td>1.0</td>\n",
              "      <td>0.0</td>\n",
              "      <td>16</td>\n",
              "      <td>6.591674</td>\n",
              "      <td>256</td>\n",
              "    </tr>\n",
              "  </tbody>\n",
              "</table>\n",
              "</div>"
            ],
            "text/plain": [
              "   id  nearc2  nearc4  educ  age  ...  married  libcrd14  exper     lwage  expersq\n",
              "0   2       0       0     7   29  ...      1.0       0.0     16  6.306275      256\n",
              "1   3       0       0    12   27  ...      1.0       1.0      9  6.175867       81\n",
              "2   4       0       0    12   34  ...      1.0       1.0     16  6.580639      256\n",
              "3   5       1       1    11   27  ...      1.0       1.0     10  5.521461      100\n",
              "4   6       1       1    12   34  ...      1.0       0.0     16  6.591674      256\n",
              "\n",
              "[5 rows x 34 columns]"
            ]
          },
          "metadata": {
            "tags": []
          },
          "execution_count": 3
        }
      ]
    },
    {
      "cell_type": "code",
      "metadata": {
        "id": "aLRLlRxNr87j",
        "colab_type": "code",
        "colab": {}
      },
      "source": [
        "df['const'] = 1\n",
        "Demo = ['const', 'black', 'exper', 'expersq', \n",
        "        'south','smsa','smsa66']\n",
        "Region = ['reg662', 'reg663', 'reg664', 'reg665', \n",
        "          'reg666', 'reg667', 'reg668','reg669']\n",
        "df['blackeduc'] = df['educ']*df['black']\n",
        "df['blacknearc4'] = df['black']*df['nearc4']"
      ],
      "execution_count": 0,
      "outputs": []
    },
    {
      "cell_type": "code",
      "metadata": {
        "id": "geZYrdcJKDSE",
        "colab_type": "code",
        "colab": {
          "base_uri": "https://localhost:8080/",
          "height": 174
        },
        "outputId": "383c17b1-bef1-4a74-9542-9206567b38d5"
      },
      "source": [
        "# Reduce decimal points to 2\n",
        "pd.options.display.float_format = '{:,.2f}'.format\n",
        "\n",
        "print(df[['lwage','educ','nearc4'] + \n",
        "           Demo].describe(percentiles=[]))"
      ],
      "execution_count": 5,
      "outputs": [
        {
          "output_type": "stream",
          "text": [
            "         lwage     educ   nearc4    const  ...  expersq    south     smsa   smsa66\n",
            "count 3,010.00 3,010.00 3,010.00 3,010.00  ... 3,010.00 3,010.00 3,010.00 3,010.00\n",
            "mean      6.26    13.26     0.68     1.00  ...    95.58     0.40     0.71     0.65\n",
            "std       0.44     2.68     0.47     0.00  ...    84.62     0.49     0.45     0.48\n",
            "min       4.61     1.00     0.00     1.00  ...     0.00     0.00     0.00     0.00\n",
            "50%       6.29    13.00     1.00     1.00  ...    64.00     0.00     1.00     1.00\n",
            "max       7.78    18.00     1.00     1.00  ...   529.00     1.00     1.00     1.00\n",
            "\n",
            "[6 rows x 10 columns]\n"
          ],
          "name": "stdout"
        }
      ]
    },
    {
      "cell_type": "code",
      "metadata": {
        "id": "fZVerlzOobVx",
        "colab_type": "code",
        "colab": {
          "base_uri": "https://localhost:8080/",
          "height": 559
        },
        "outputId": "076bfb90-64c6-4fec-fd7b-49c500718657"
      },
      "source": [
        "OLS = IVGMM(df.lwage, df[['educ']+['blackeduc']+Demo+Region],\n",
        "            None, None).fit()\n",
        "print(OLS)"
      ],
      "execution_count": 6,
      "outputs": [
        {
          "output_type": "stream",
          "text": [
            "                            OLS Estimation Summary                            \n",
            "==============================================================================\n",
            "Dep. Variable:                  lwage   R-squared:                      0.3017\n",
            "Estimator:                        OLS   Adj. R-squared:                 0.2980\n",
            "No. Observations:                3010   F-statistic:                    1404.0\n",
            "Date:                Tue, Aug 06 2019   P-value (F-stat)                0.0000\n",
            "Time:                        18:23:02   Distribution:                 chi2(16)\n",
            "Cov. Estimator:                robust                                         \n",
            "                                                                              \n",
            "                             Parameter Estimates                              \n",
            "==============================================================================\n",
            "            Parameter  Std. Err.     T-stat    P-value    Lower CI    Upper CI\n",
            "------------------------------------------------------------------------------\n",
            "educ           0.0708     0.0039     18.070     0.0000      0.0631      0.0785\n",
            "blackeduc      0.0179     0.0060     2.9607     0.0031      0.0060      0.0297\n",
            "const          4.6846     0.0772     60.676     0.0000      4.5333      4.8359\n",
            "black         -0.4191     0.0769    -5.4532     0.0000     -0.5697     -0.2685\n",
            "exper          0.0822     0.0068     12.168     0.0000      0.0689      0.0954\n",
            "expersq       -0.0021     0.0003    -6.6535     0.0000     -0.0028     -0.0015\n",
            "south         -0.1442     0.0281    -5.1293     0.0000     -0.1993     -0.0891\n",
            "smsa           0.1341     0.0192     6.9873     0.0000      0.0965      0.1717\n",
            "smsa66         0.0250     0.0185     1.3480     0.1777     -0.0113      0.0613\n",
            "reg662         0.0989     0.0351     2.8151     0.0049      0.0300      0.1677\n",
            "reg663         0.1453     0.0338     4.2962     0.0000      0.0790      0.2115\n",
            "reg664         0.0555     0.0411     1.3486     0.1775     -0.0252      0.1361\n",
            "reg665         0.1254     0.0429     2.9229     0.0035      0.0413      0.2096\n",
            "reg666         0.1373     0.0451     3.0427     0.0023      0.0489      0.2257\n",
            "reg667         0.1147     0.0456     2.5148     0.0119      0.0253      0.2041\n",
            "reg668        -0.0535     0.0505    -1.0605     0.2889     -0.1525      0.0454\n",
            "reg669         0.1222     0.0388     3.1490     0.0016      0.0461      0.1982\n",
            "==============================================================================\n"
          ],
          "name": "stdout"
        }
      ]
    },
    {
      "cell_type": "code",
      "metadata": {
        "id": "fNZYupD8obeY",
        "colab_type": "code",
        "colab": {
          "base_uri": "https://localhost:8080/",
          "height": 664
        },
        "outputId": "42d17035-157e-4fb2-8de3-8eafd1e4997c"
      },
      "source": [
        "IV = IVGMM(df.lwage, df[Demo+Region], df[['educ','blackeduc']],\n",
        "           df[['nearc4','blacknearc4']]).fit()\n",
        "print(IV)"
      ],
      "execution_count": 7,
      "outputs": [
        {
          "output_type": "stream",
          "text": [
            "                          IV-GMM Estimation Summary                           \n",
            "==============================================================================\n",
            "Dep. Variable:                  lwage   R-squared:                      0.2435\n",
            "Estimator:                     IV-GMM   Adj. R-squared:                 0.2395\n",
            "No. Observations:                3010   F-statistic:                    842.36\n",
            "Date:                Tue, Aug 06 2019   P-value (F-stat)                0.0000\n",
            "Time:                        18:23:02   Distribution:                 chi2(16)\n",
            "Cov. Estimator:                robust                                         \n",
            "                                                                              \n",
            "                             Parameter Estimates                              \n",
            "==============================================================================\n",
            "            Parameter  Std. Err.     T-stat    P-value    Lower CI    Upper CI\n",
            "------------------------------------------------------------------------------\n",
            "const          3.7346     0.9410     3.9688     0.0001      1.8903      5.5790\n",
            "black         -0.2828     0.4998    -0.5658     0.5716     -1.2623      0.6968\n",
            "exper          0.1059     0.0249     4.2576     0.0000      0.0572      0.1547\n",
            "expersq       -0.0022     0.0005    -4.5839     0.0000     -0.0032     -0.0013\n",
            "south         -0.1425     0.0298    -4.7795     0.0000     -0.2009     -0.0841\n",
            "smsa           0.1112     0.0310     3.5890     0.0003      0.0505      0.1719\n",
            "smsa66         0.0180     0.0205     0.8775     0.3802     -0.0222      0.0582\n",
            "reg662         0.1022     0.0366     2.7917     0.0052      0.0304      0.1739\n",
            "reg663         0.1486     0.0354     4.2002     0.0000      0.0793      0.2179\n",
            "reg664         0.0503     0.0433     1.1610     0.2457     -0.0346      0.1352\n",
            "reg665         0.1441     0.0495     2.9133     0.0036      0.0472      0.2411\n",
            "reg666         0.1602     0.0528     3.0359     0.0024      0.0568      0.2637\n",
            "reg667         0.1320     0.0509     2.5923     0.0095      0.0322      0.2319\n",
            "reg668        -0.0805     0.0575    -1.4002     0.1614     -0.1932      0.0322\n",
            "reg669         0.1103     0.0417     2.6439     0.0082      0.0285      0.1922\n",
            "educ           0.1274     0.0560     2.2741     0.0230      0.0176      0.2371\n",
            "blackeduc      0.0109     0.0398     0.2739     0.7842     -0.0671      0.0889\n",
            "==============================================================================\n",
            "\n",
            "Endogenous: educ, blackeduc\n",
            "Instruments: nearc4, blacknearc4\n",
            "GMM Covariance\n",
            "Debiased: False\n",
            "Robust (Heteroskedastic)\n"
          ],
          "name": "stdout"
        }
      ]
    },
    {
      "cell_type": "code",
      "metadata": {
        "id": "D1SuRmAD4HZs",
        "colab_type": "code",
        "colab": {
          "base_uri": "https://localhost:8080/",
          "height": 559
        },
        "outputId": "0aebd45b-de44-4bd6-f0bb-bc2282ada8ab"
      },
      "source": [
        "First1 = IVGMM(df.educ, df[['nearc4']+['blacknearc4']+Demo+Region],\n",
        "               None, None).fit()\n",
        "df['Res1'] = First1.resids\n",
        "print(First1)"
      ],
      "execution_count": 8,
      "outputs": [
        {
          "output_type": "stream",
          "text": [
            "                            OLS Estimation Summary                            \n",
            "==============================================================================\n",
            "Dep. Variable:                   educ   R-squared:                      0.4771\n",
            "Estimator:                        OLS   Adj. R-squared:                 0.4743\n",
            "No. Observations:                3010   F-statistic:                    3697.3\n",
            "Date:                Tue, Aug 06 2019   P-value (F-stat)                0.0000\n",
            "Time:                        18:23:02   Distribution:                 chi2(16)\n",
            "Cov. Estimator:                robust                                         \n",
            "                                                                              \n",
            "                              Parameter Estimates                              \n",
            "===============================================================================\n",
            "             Parameter  Std. Err.     T-stat    P-value    Lower CI    Upper CI\n",
            "-------------------------------------------------------------------------------\n",
            "nearc4          0.3192     0.0956     3.3391     0.0008      0.1318      0.5065\n",
            "blacknearc4     0.0030     0.1695     0.0176     0.9860     -0.3292      0.3351\n",
            "const           16.639     0.2193     75.877     0.0000      16.209      17.069\n",
            "black          -0.9375     0.1462    -6.4119     0.0000     -1.2240     -0.6509\n",
            "exper          -0.4126     0.0321    -12.866     0.0000     -0.4754     -0.3497\n",
            "expersq         0.0009     0.0017     0.5094     0.6105     -0.0025      0.0042\n",
            "south          -0.0517     0.1419    -0.3645     0.7155     -0.3299      0.2264\n",
            "smsa            0.4021     0.1107     3.6311     0.0003      0.1851      0.6192\n",
            "smsa66          0.0254     0.1105     0.2303     0.8179     -0.1911      0.2420\n",
            "reg662         -0.0786     0.1854    -0.4242     0.6715     -0.4420      0.2847\n",
            "reg663         -0.0281     0.1789    -0.1569     0.8753     -0.3786      0.3225\n",
            "reg664          0.1170     0.2074     0.5641     0.5727     -0.2895      0.5235\n",
            "reg665         -0.2726     0.2238    -1.2181     0.2232     -0.7112      0.1660\n",
            "reg666         -0.3027     0.2363    -1.2808     0.2003     -0.7658      0.1605\n",
            "reg667         -0.2169     0.2388    -0.9082     0.3638     -0.6849      0.2511\n",
            "reg668          0.5238     0.2564     2.0429     0.0411      0.0213      1.0263\n",
            "reg669          0.2102     0.1988     1.0574     0.2903     -0.1795      0.5999\n",
            "===============================================================================\n"
          ],
          "name": "stdout"
        }
      ]
    },
    {
      "cell_type": "code",
      "metadata": {
        "id": "9UgmdG5G4HmJ",
        "colab_type": "code",
        "colab": {
          "base_uri": "https://localhost:8080/",
          "height": 559
        },
        "outputId": "dd9d2186-c571-4040-a6fc-25890af1790b"
      },
      "source": [
        "First2 = IVGMM(df.blackeduc, df[['nearc4']+['blacknearc4']+Demo+Region],\n",
        "               None, None).fit()\n",
        "df['Res2'] = First2.resids\n",
        "print(First2)"
      ],
      "execution_count": 9,
      "outputs": [
        {
          "output_type": "stream",
          "text": [
            "                            OLS Estimation Summary                            \n",
            "==============================================================================\n",
            "Dep. Variable:              blackeduc   R-squared:                      0.9516\n",
            "Estimator:                        OLS   Adj. R-squared:                 0.9514\n",
            "No. Observations:                3010   F-statistic:                 2.365e+04\n",
            "Date:                Tue, Aug 06 2019   P-value (F-stat)                0.0000\n",
            "Time:                        18:23:02   Distribution:                 chi2(16)\n",
            "Cov. Estimator:                robust                                         \n",
            "                                                                              \n",
            "                              Parameter Estimates                              \n",
            "===============================================================================\n",
            "             Parameter  Std. Err.     T-stat    P-value    Lower CI    Upper CI\n",
            "-------------------------------------------------------------------------------\n",
            "nearc4         -0.0909     0.0327    -2.7798     0.0054     -0.1550     -0.0268\n",
            "blacknearc4     0.8747     0.1806     4.8445     0.0000      0.5208      1.2286\n",
            "const           0.2570     0.1398     1.8375     0.0661     -0.0171      0.5311\n",
            "black           11.550     0.1523     75.816     0.0000      11.251      11.848\n",
            "exper           0.0533     0.0303     1.7622     0.0780     -0.0060      0.1126\n",
            "expersq        -0.0079     0.0017    -4.7835     0.0000     -0.0112     -0.0047\n",
            "south          -0.2528     0.0959    -2.6367     0.0084     -0.4407     -0.0649\n",
            "smsa            0.1953     0.0634     3.0780     0.0021      0.0709      0.3196\n",
            "smsa66          0.0469     0.0683     0.6874     0.4918     -0.0869      0.1808\n",
            "reg662         -0.1564     0.0655    -2.3872     0.0170     -0.2849     -0.0280\n",
            "reg663         -0.0761     0.0664    -1.1458     0.2519     -0.2062      0.0540\n",
            "reg664         -0.0488     0.0731    -0.6680     0.5042     -0.1921      0.0944\n",
            "reg665          0.0994     0.1105     0.8997     0.3683     -0.1171      0.3160\n",
            "reg666          0.1726     0.1404     1.2290     0.2191     -0.1027      0.4479\n",
            "reg667          0.1341     0.1298     1.0330     0.3016     -0.1204      0.3886\n",
            "reg668         -0.0625     0.1058    -0.5913     0.5543     -0.2699      0.1448\n",
            "reg669         -0.1621     0.0668    -2.4280     0.0152     -0.2930     -0.0313\n",
            "===============================================================================\n"
          ],
          "name": "stdout"
        }
      ]
    },
    {
      "cell_type": "code",
      "metadata": {
        "id": "WtmhXIha4Ho5",
        "colab_type": "code",
        "colab": {
          "base_uri": "https://localhost:8080/",
          "height": 594
        },
        "outputId": "052b672c-6a0f-46ab-af46-ac8de39fe15d"
      },
      "source": [
        "Exog = df[['educ']+['blackeduc']+['Res1']+['Res2']+Demo+Region]\n",
        "CF = IVGMM(df.lwage, Exog, None, None).fit()\n",
        "print(CF)"
      ],
      "execution_count": 10,
      "outputs": [
        {
          "output_type": "stream",
          "text": [
            "                            OLS Estimation Summary                            \n",
            "==============================================================================\n",
            "Dep. Variable:                  lwage   R-squared:                      0.3020\n",
            "Estimator:                        OLS   Adj. R-squared:                 0.2978\n",
            "No. Observations:                3010   F-statistic:                    1407.0\n",
            "Date:                Tue, Aug 06 2019   P-value (F-stat)                0.0000\n",
            "Time:                        18:23:02   Distribution:                 chi2(18)\n",
            "Cov. Estimator:                robust                                         \n",
            "                                                                              \n",
            "                             Parameter Estimates                              \n",
            "==============================================================================\n",
            "            Parameter  Std. Err.     T-stat    P-value    Lower CI    Upper CI\n",
            "------------------------------------------------------------------------------\n",
            "educ           0.1274     0.0536     2.3766     0.0175      0.0223      0.2324\n",
            "blackeduc      0.0109     0.0380     0.2871     0.7740     -0.0635      0.0853\n",
            "Res1          -0.0568     0.0538    -1.0562     0.2909     -0.1623      0.0486\n",
            "Res2           0.0070     0.0387     0.1812     0.8562     -0.0688      0.0829\n",
            "const          3.7346     0.9004     4.1479     0.0000      1.9700      5.4993\n",
            "black         -0.2828     0.4769    -0.5930     0.5532     -1.2174      0.6519\n",
            "exper          0.1059     0.0238     4.4566     0.0000      0.0593      0.1525\n",
            "expersq       -0.0022     0.0005    -4.8625     0.0000     -0.0031     -0.0013\n",
            "south         -0.1425     0.0288    -4.9429     0.0000     -0.1990     -0.0860\n",
            "smsa           0.1112     0.0293     3.7965     0.0001      0.0538      0.1685\n",
            "smsa66         0.0180     0.0200     0.9009     0.3676     -0.0212      0.0572\n",
            "reg662         0.1022     0.0356     2.8697     0.0041      0.0324      0.1720\n",
            "reg663         0.1486     0.0340     4.3714     0.0000      0.0820      0.2152\n",
            "reg664         0.0503     0.0412     1.2207     0.2222     -0.0305      0.1311\n",
            "reg665         0.1441     0.0471     3.0625     0.0022      0.0519      0.2364\n",
            "reg666         0.1602     0.0505     3.1745     0.0015      0.0613      0.2592\n",
            "reg667         0.1320     0.0490     2.6965     0.0070      0.0361      0.2280\n",
            "reg668        -0.0805     0.0555    -1.4509     0.1468     -0.1892      0.0282\n",
            "reg669         0.1103     0.0405     2.7250     0.0064      0.0310      0.1897\n",
            "==============================================================================\n"
          ],
          "name": "stdout"
        }
      ]
    },
    {
      "cell_type": "code",
      "metadata": {
        "id": "eIUDkvsg4Hrh",
        "colab_type": "code",
        "colab": {}
      },
      "source": [
        ""
      ],
      "execution_count": 0,
      "outputs": []
    }
  ]
}