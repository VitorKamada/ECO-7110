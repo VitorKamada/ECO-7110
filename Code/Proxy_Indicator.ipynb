{
  "nbformat": 4,
  "nbformat_minor": 0,
  "metadata": {
    "colab": {
      "name": "Proxy_Indicator.ipynb",
      "version": "0.3.2",
      "provenance": []
    },
    "kernelspec": {
      "name": "python3",
      "display_name": "Python 3"
    }
  },
  "cells": [
    {
      "cell_type": "code",
      "metadata": {
        "id": "F8khaOqzHhkS",
        "colab_type": "code",
        "colab": {
          "base_uri": "https://localhost:8080/",
          "height": 229
        },
        "outputId": "ee063b5b-3a94-4ce0-a399-10dec8d2770f"
      },
      "source": [
        "pip install linearmodels"
      ],
      "execution_count": 1,
      "outputs": [
        {
          "output_type": "stream",
          "text": [
            "Requirement already satisfied: linearmodels in /usr/local/lib/python3.6/dist-packages (4.13)\n",
            "Requirement already satisfied: mypy-extensions>=0.4 in /usr/local/lib/python3.6/dist-packages (from linearmodels) (0.4.1)\n",
            "Requirement already satisfied: pandas>=0.20 in /usr/local/lib/python3.6/dist-packages (from linearmodels) (0.24.2)\n",
            "Requirement already satisfied: statsmodels>=0.8 in /usr/local/lib/python3.6/dist-packages (from linearmodels) (0.10.1)\n",
            "Requirement already satisfied: patsy in /usr/local/lib/python3.6/dist-packages (from linearmodels) (0.5.1)\n",
            "Requirement already satisfied: numpy>=1.13 in /usr/local/lib/python3.6/dist-packages (from linearmodels) (1.16.4)\n",
            "Requirement already satisfied: cached-property>=1.5.1 in /usr/local/lib/python3.6/dist-packages (from linearmodels) (1.5.1)\n",
            "Requirement already satisfied: scipy>=0.18 in /usr/local/lib/python3.6/dist-packages (from linearmodels) (1.3.0)\n",
            "Requirement already satisfied: python-dateutil>=2.5.0 in /usr/local/lib/python3.6/dist-packages (from pandas>=0.20->linearmodels) (2.5.3)\n",
            "Requirement already satisfied: pytz>=2011k in /usr/local/lib/python3.6/dist-packages (from pandas>=0.20->linearmodels) (2018.9)\n",
            "Requirement already satisfied: six in /usr/local/lib/python3.6/dist-packages (from patsy->linearmodels) (1.12.0)\n"
          ],
          "name": "stdout"
        }
      ]
    },
    {
      "cell_type": "code",
      "metadata": {
        "id": "GrKEquh_HiFU",
        "colab_type": "code",
        "colab": {}
      },
      "source": [
        "import pandas as pd\n",
        "from linearmodels import IVGMM"
      ],
      "execution_count": 0,
      "outputs": []
    },
    {
      "cell_type": "code",
      "metadata": {
        "id": "JBsibk71HiID",
        "colab_type": "code",
        "colab": {
          "base_uri": "https://localhost:8080/",
          "height": 224
        },
        "outputId": "37bf4318-5eac-4013-900a-2b3d45d4ab17"
      },
      "source": [
        "file=\"https://github.com/VitorKamada/ECO7110/raw/master/Data/nls80.dta\"\n",
        "df = pd.read_stata(file)\n",
        "df.head()"
      ],
      "execution_count": 3,
      "outputs": [
        {
          "output_type": "execute_result",
          "data": {
            "text/html": [
              "<div>\n",
              "<style scoped>\n",
              "    .dataframe tbody tr th:only-of-type {\n",
              "        vertical-align: middle;\n",
              "    }\n",
              "\n",
              "    .dataframe tbody tr th {\n",
              "        vertical-align: top;\n",
              "    }\n",
              "\n",
              "    .dataframe thead th {\n",
              "        text-align: right;\n",
              "    }\n",
              "</style>\n",
              "<table border=\"1\" class=\"dataframe\">\n",
              "  <thead>\n",
              "    <tr style=\"text-align: right;\">\n",
              "      <th></th>\n",
              "      <th>wage</th>\n",
              "      <th>hours</th>\n",
              "      <th>iq</th>\n",
              "      <th>kww</th>\n",
              "      <th>educ</th>\n",
              "      <th>exper</th>\n",
              "      <th>tenure</th>\n",
              "      <th>age</th>\n",
              "      <th>married</th>\n",
              "      <th>black</th>\n",
              "      <th>south</th>\n",
              "      <th>urban</th>\n",
              "      <th>sibs</th>\n",
              "      <th>brthord</th>\n",
              "      <th>meduc</th>\n",
              "      <th>feduc</th>\n",
              "      <th>lwage</th>\n",
              "    </tr>\n",
              "  </thead>\n",
              "  <tbody>\n",
              "    <tr>\n",
              "      <th>0</th>\n",
              "      <td>769</td>\n",
              "      <td>40</td>\n",
              "      <td>93</td>\n",
              "      <td>35</td>\n",
              "      <td>12</td>\n",
              "      <td>11</td>\n",
              "      <td>2</td>\n",
              "      <td>31</td>\n",
              "      <td>1</td>\n",
              "      <td>0</td>\n",
              "      <td>0</td>\n",
              "      <td>1</td>\n",
              "      <td>1</td>\n",
              "      <td>2.0</td>\n",
              "      <td>8.0</td>\n",
              "      <td>8.0</td>\n",
              "      <td>6.645091</td>\n",
              "    </tr>\n",
              "    <tr>\n",
              "      <th>1</th>\n",
              "      <td>808</td>\n",
              "      <td>50</td>\n",
              "      <td>119</td>\n",
              "      <td>41</td>\n",
              "      <td>18</td>\n",
              "      <td>11</td>\n",
              "      <td>16</td>\n",
              "      <td>37</td>\n",
              "      <td>1</td>\n",
              "      <td>0</td>\n",
              "      <td>0</td>\n",
              "      <td>1</td>\n",
              "      <td>1</td>\n",
              "      <td>NaN</td>\n",
              "      <td>14.0</td>\n",
              "      <td>14.0</td>\n",
              "      <td>6.694562</td>\n",
              "    </tr>\n",
              "    <tr>\n",
              "      <th>2</th>\n",
              "      <td>825</td>\n",
              "      <td>40</td>\n",
              "      <td>108</td>\n",
              "      <td>46</td>\n",
              "      <td>14</td>\n",
              "      <td>11</td>\n",
              "      <td>9</td>\n",
              "      <td>33</td>\n",
              "      <td>1</td>\n",
              "      <td>0</td>\n",
              "      <td>0</td>\n",
              "      <td>1</td>\n",
              "      <td>1</td>\n",
              "      <td>2.0</td>\n",
              "      <td>14.0</td>\n",
              "      <td>14.0</td>\n",
              "      <td>6.715384</td>\n",
              "    </tr>\n",
              "    <tr>\n",
              "      <th>3</th>\n",
              "      <td>650</td>\n",
              "      <td>40</td>\n",
              "      <td>96</td>\n",
              "      <td>32</td>\n",
              "      <td>12</td>\n",
              "      <td>13</td>\n",
              "      <td>7</td>\n",
              "      <td>32</td>\n",
              "      <td>1</td>\n",
              "      <td>0</td>\n",
              "      <td>0</td>\n",
              "      <td>1</td>\n",
              "      <td>4</td>\n",
              "      <td>3.0</td>\n",
              "      <td>12.0</td>\n",
              "      <td>12.0</td>\n",
              "      <td>6.476973</td>\n",
              "    </tr>\n",
              "    <tr>\n",
              "      <th>4</th>\n",
              "      <td>562</td>\n",
              "      <td>40</td>\n",
              "      <td>74</td>\n",
              "      <td>27</td>\n",
              "      <td>11</td>\n",
              "      <td>14</td>\n",
              "      <td>5</td>\n",
              "      <td>34</td>\n",
              "      <td>1</td>\n",
              "      <td>0</td>\n",
              "      <td>0</td>\n",
              "      <td>1</td>\n",
              "      <td>10</td>\n",
              "      <td>6.0</td>\n",
              "      <td>6.0</td>\n",
              "      <td>11.0</td>\n",
              "      <td>6.331502</td>\n",
              "    </tr>\n",
              "  </tbody>\n",
              "</table>\n",
              "</div>"
            ],
            "text/plain": [
              "   wage  hours   iq  kww  educ  ...  sibs  brthord  meduc  feduc     lwage\n",
              "0   769     40   93   35    12  ...     1      2.0    8.0    8.0  6.645091\n",
              "1   808     50  119   41    18  ...     1      NaN   14.0   14.0  6.694562\n",
              "2   825     40  108   46    14  ...     1      2.0   14.0   14.0  6.715384\n",
              "3   650     40   96   32    12  ...     4      3.0   12.0   12.0  6.476973\n",
              "4   562     40   74   27    11  ...    10      6.0    6.0   11.0  6.331502\n",
              "\n",
              "[5 rows x 17 columns]"
            ]
          },
          "metadata": {
            "tags": []
          },
          "execution_count": 3
        }
      ]
    },
    {
      "cell_type": "code",
      "metadata": {
        "id": "NTw2ch8VHiK2",
        "colab_type": "code",
        "colab": {
          "base_uri": "https://localhost:8080/",
          "height": 174
        },
        "outputId": "2da38e99-736e-4db2-cfbb-e94acfae2236"
      },
      "source": [
        "Xs = ['exper', 'tenure', 'married', 'south','urban','black']\n",
        "print(df[['lwage','educ','iq','kww'] + \n",
        "           Xs].describe(percentiles=[]))"
      ],
      "execution_count": 4,
      "outputs": [
        {
          "output_type": "stream",
          "text": [
            "            lwage        educ          iq  ...       south       urban       black\n",
            "count  935.000000  935.000000  935.000000  ...  935.000000  935.000000  935.000000\n",
            "mean     6.779002   13.468449  101.282353  ...    0.341176    0.717647    0.128342\n",
            "std      0.421144    2.196654   15.052636  ...    0.474358    0.450385    0.334650\n",
            "min      4.744932    9.000000   50.000000  ...    0.000000    0.000000    0.000000\n",
            "50%      6.807935   12.000000  102.000000  ...    0.000000    1.000000    0.000000\n",
            "max      8.032035   18.000000  145.000000  ...    1.000000    1.000000    1.000000\n",
            "\n",
            "[6 rows x 10 columns]\n"
          ],
          "name": "stdout"
        }
      ]
    },
    {
      "cell_type": "code",
      "metadata": {
        "id": "PFvkHyzYHiNL",
        "colab_type": "code",
        "colab": {}
      },
      "source": [
        "df['const'] = 1\n",
        "Xs = ['const'] + Xs"
      ],
      "execution_count": 0,
      "outputs": []
    },
    {
      "cell_type": "code",
      "metadata": {
        "id": "SwCW5-DTJQlu",
        "colab_type": "code",
        "colab": {
          "base_uri": "https://localhost:8080/",
          "height": 402
        },
        "outputId": "005280ce-595d-4136-891b-81a78a47a896"
      },
      "source": [
        "OLS = IVGMM(df.lwage, df[Xs+['educ']],\n",
        "            None, None).fit()\n",
        "print(OLS)"
      ],
      "execution_count": 6,
      "outputs": [
        {
          "output_type": "stream",
          "text": [
            "                            OLS Estimation Summary                            \n",
            "==============================================================================\n",
            "Dep. Variable:                  lwage   R-squared:                      0.2526\n",
            "Estimator:                        OLS   Adj. R-squared:                 0.2469\n",
            "No. Observations:                 935   F-statistic:                    358.89\n",
            "Date:                Tue, Aug 06 2019   P-value (F-stat)                0.0000\n",
            "Time:                        14:32:22   Distribution:                  chi2(7)\n",
            "Cov. Estimator:                robust                                         \n",
            "                                                                              \n",
            "                             Parameter Estimates                              \n",
            "==============================================================================\n",
            "            Parameter  Std. Err.     T-stat    P-value    Lower CI    Upper CI\n",
            "------------------------------------------------------------------------------\n",
            "const          5.3955     0.1126     47.899     0.0000      5.1747      5.6163\n",
            "exper          0.0140     0.0032     4.3548     0.0000      0.0077      0.0204\n",
            "tenure         0.0117     0.0025     4.6472     0.0000      0.0068      0.0167\n",
            "married        0.1994     0.0395     5.0455     0.0000      0.1220      0.2769\n",
            "south         -0.0909     0.0272    -3.3364     0.0008     -0.1443     -0.0375\n",
            "urban          0.1839     0.0270     6.8125     0.0000      0.1310      0.2368\n",
            "black         -0.1883     0.0365    -5.1537     0.0000     -0.2600     -0.1167\n",
            "educ           0.0654     0.0064     10.253     0.0000      0.0529      0.0779\n",
            "==============================================================================\n"
          ],
          "name": "stdout"
        }
      ]
    },
    {
      "cell_type": "code",
      "metadata": {
        "id": "BILjaR3MJQo8",
        "colab_type": "code",
        "colab": {
          "base_uri": "https://localhost:8080/",
          "height": 419
        },
        "outputId": "5b7d6f5f-d211-4399-fdf5-27450e8babcb"
      },
      "source": [
        "Proxy = IVGMM(df.lwage, df[Xs+['educ']+['iq']],\n",
        "              None, None).fit()\n",
        "print(Proxy)"
      ],
      "execution_count": 7,
      "outputs": [
        {
          "output_type": "stream",
          "text": [
            "                            OLS Estimation Summary                            \n",
            "==============================================================================\n",
            "Dep. Variable:                  lwage   R-squared:                      0.2628\n",
            "Estimator:                        OLS   Adj. R-squared:                 0.2564\n",
            "No. Observations:                 935   F-statistic:                    391.81\n",
            "Date:                Tue, Aug 06 2019   P-value (F-stat)                0.0000\n",
            "Time:                        14:32:22   Distribution:                  chi2(8)\n",
            "Cov. Estimator:                robust                                         \n",
            "                                                                              \n",
            "                             Parameter Estimates                              \n",
            "==============================================================================\n",
            "            Parameter  Std. Err.     T-stat    P-value    Lower CI    Upper CI\n",
            "------------------------------------------------------------------------------\n",
            "const          5.1764     0.1206     42.909     0.0000      4.9400      5.4129\n",
            "exper          0.0141     0.0032     4.3896     0.0000      0.0078      0.0205\n",
            "tenure         0.0114     0.0025     4.5138     0.0000      0.0064      0.0163\n",
            "married        0.1998     0.0389     5.1352     0.0000      0.1235      0.2760\n",
            "south         -0.0802     0.0276    -2.9042     0.0037     -0.1343     -0.0261\n",
            "urban          0.1819     0.0266     6.8368     0.0000      0.1298      0.2341\n",
            "black         -0.1431     0.0375    -3.8203     0.0001     -0.2166     -0.0697\n",
            "educ           0.0544     0.0072     7.5175     0.0000      0.0402      0.0686\n",
            "iq             0.0036     0.0010     3.7394     0.0002      0.0017      0.0054\n",
            "==============================================================================\n"
          ],
          "name": "stdout"
        }
      ]
    },
    {
      "cell_type": "code",
      "metadata": {
        "id": "2Yglc9qLJQsU",
        "colab_type": "code",
        "colab": {
          "base_uri": "https://localhost:8080/",
          "height": 507
        },
        "outputId": "19431b2c-5f07-4bdb-9a52-3f96173cef58"
      },
      "source": [
        "IV_IQ = IVGMM(df.lwage, df[Xs],\n",
        "     df.educ, df[['iq']]).fit()\n",
        "print(IV_IQ)"
      ],
      "execution_count": 8,
      "outputs": [
        {
          "output_type": "stream",
          "text": [
            "                          IV-GMM Estimation Summary                           \n",
            "==============================================================================\n",
            "Dep. Variable:                  lwage   R-squared:                      0.2106\n",
            "Estimator:                     IV-GMM   Adj. R-squared:                 0.2047\n",
            "No. Observations:                 935   F-statistic:                    285.63\n",
            "Date:                Tue, Aug 06 2019   P-value (F-stat)                0.0000\n",
            "Time:                        14:32:22   Distribution:                  chi2(7)\n",
            "Cov. Estimator:                robust                                         \n",
            "                                                                              \n",
            "                             Parameter Estimates                              \n",
            "==============================================================================\n",
            "            Parameter  Std. Err.     T-stat    P-value    Lower CI    Upper CI\n",
            "------------------------------------------------------------------------------\n",
            "const          4.6730     0.2194     21.300     0.0000      4.2430      5.1030\n",
            "exper          0.0244     0.0043     5.7388     0.0000      0.0161      0.0327\n",
            "tenure         0.0105     0.0026     4.0037     0.0001      0.0053      0.0156\n",
            "married        0.2055     0.0417     4.9297     0.0000      0.1238      0.2872\n",
            "south         -0.0820     0.0277    -2.9593     0.0031     -0.1364     -0.0277\n",
            "urban          0.1712     0.0279     6.1361     0.0000      0.1165      0.2259\n",
            "black         -0.1458     0.0391    -3.7309     0.0002     -0.2224     -0.0692\n",
            "educ           0.1105     0.0132     8.3428     0.0000      0.0845      0.1365\n",
            "==============================================================================\n",
            "\n",
            "Endogenous: educ\n",
            "Instruments: iq\n",
            "GMM Covariance\n",
            "Debiased: False\n",
            "Robust (Heteroskedastic)\n"
          ],
          "name": "stdout"
        }
      ]
    },
    {
      "cell_type": "code",
      "metadata": {
        "id": "PNMqaCRnJQu7",
        "colab_type": "code",
        "colab": {
          "base_uri": "https://localhost:8080/",
          "height": 507
        },
        "outputId": "fe327829-285b-4209-9c3c-73c46f909350"
      },
      "source": [
        "IV_IQ_KWW = IVGMM(df.lwage, df[Xs],\n",
        "   df.educ, df[['iq','kww']]).fit()\n",
        "print(IV_IQ_KWW)"
      ],
      "execution_count": 9,
      "outputs": [
        {
          "output_type": "stream",
          "text": [
            "                          IV-GMM Estimation Summary                           \n",
            "==============================================================================\n",
            "Dep. Variable:                  lwage   R-squared:                      0.2152\n",
            "Estimator:                     IV-GMM   Adj. R-squared:                 0.2092\n",
            "No. Observations:                 935   F-statistic:                    310.47\n",
            "Date:                Tue, Aug 06 2019   P-value (F-stat)                0.0000\n",
            "Time:                        14:32:22   Distribution:                  chi2(7)\n",
            "Cov. Estimator:                robust                                         \n",
            "                                                                              \n",
            "                             Parameter Estimates                              \n",
            "==============================================================================\n",
            "            Parameter  Std. Err.     T-stat    P-value    Lower CI    Upper CI\n",
            "------------------------------------------------------------------------------\n",
            "const          4.7120     0.1982     23.778     0.0000      4.3236      5.1005\n",
            "exper          0.0239     0.0040     5.9135     0.0000      0.0160      0.0318\n",
            "tenure         0.0104     0.0026     4.0035     0.0001      0.0053      0.0155\n",
            "married        0.2076     0.0412     5.0389     0.0000      0.1269      0.2884\n",
            "south         -0.0827     0.0276    -2.9947     0.0027     -0.1369     -0.0286\n",
            "urban          0.1716     0.0278     6.1709     0.0000      0.1171      0.2261\n",
            "black         -0.1470     0.0388    -3.7860     0.0002     -0.2232     -0.0709\n",
            "educ           0.1080     0.0118     9.1599     0.0000      0.0849      0.1311\n",
            "==============================================================================\n",
            "\n",
            "Endogenous: educ\n",
            "Instruments: iq, kww\n",
            "GMM Covariance\n",
            "Debiased: False\n",
            "Robust (Heteroskedastic)\n"
          ],
          "name": "stdout"
        }
      ]
    },
    {
      "cell_type": "code",
      "metadata": {
        "id": "X5FxW20IJQxr",
        "colab_type": "code",
        "colab": {
          "base_uri": "https://localhost:8080/",
          "height": 664
        },
        "outputId": "9f11ff9e-6b49-4ceb-9a27-3b1ba1f004eb"
      },
      "source": [
        "from linearmodels.iv.results import compare\n",
        "print(compare({'OLS':OLS,'Proxy': Proxy,\n",
        "   'IV_IQ': IV_IQ, 'IV_IQ_KWW': IV_IQ_KWW}))"
      ],
      "execution_count": 10,
      "outputs": [
        {
          "output_type": "stream",
          "text": [
            "                              Model Comparison                              \n",
            "============================================================================\n",
            "                             IV_IQ     IV_IQ_KWW           OLS         Proxy\n",
            "----------------------------------------------------------------------------\n",
            "Dep. Variable                lwage         lwage         lwage         lwage\n",
            "Estimator                   IV-GMM        IV-GMM           OLS           OLS\n",
            "No. Observations               935           935           935           935\n",
            "Cov. Est.                   robust        robust        robust        robust\n",
            "R-squared                   0.2106        0.2152        0.2526        0.2628\n",
            "Adj. R-squared              0.2047        0.2092        0.2469        0.2564\n",
            "F-statistic                 285.63        310.47        358.89        391.81\n",
            "P-value (F-stat)            0.0000        0.0000        0.0000        0.0000\n",
            "==================     ===========   ===========   ===========   ===========\n",
            "const                       4.6730        4.7120        5.3955        5.1764\n",
            "                          (21.300)      (23.778)      (47.899)      (42.909)\n",
            "exper                       0.0244        0.0239        0.0140        0.0141\n",
            "                          (5.7388)      (5.9135)      (4.3548)      (4.3896)\n",
            "tenure                      0.0105        0.0104        0.0117        0.0114\n",
            "                          (4.0037)      (4.0035)      (4.6472)      (4.5138)\n",
            "married                     0.2055        0.2076        0.1994        0.1998\n",
            "                          (4.9297)      (5.0389)      (5.0455)      (5.1352)\n",
            "south                      -0.0820       -0.0827       -0.0909       -0.0802\n",
            "                         (-2.9593)     (-2.9947)     (-3.3364)     (-2.9042)\n",
            "urban                       0.1712        0.1716        0.1839        0.1819\n",
            "                          (6.1361)      (6.1709)      (6.8125)      (6.8368)\n",
            "black                      -0.1458       -0.1470       -0.1883       -0.1431\n",
            "                         (-3.7309)     (-3.7860)     (-5.1537)     (-3.8203)\n",
            "educ                        0.1105        0.1080        0.0654        0.0544\n",
            "                          (8.3428)      (9.1599)      (10.253)      (7.5175)\n",
            "iq                                                                    0.0036\n",
            "                                                                    (3.7394)\n",
            "==================== ============= ============= ============= =============\n",
            "Instruments                     iq            iq                            \n",
            "                                             kww                            \n",
            "----------------------------------------------------------------------------\n",
            "\n",
            "T-stats reported in parentheses\n"
          ],
          "name": "stdout"
        }
      ]
    },
    {
      "cell_type": "code",
      "metadata": {
        "id": "kXcP_qqpJQ0M",
        "colab_type": "code",
        "colab": {
          "base_uri": "https://localhost:8080/",
          "height": 524
        },
        "outputId": "22d6467c-c7f3-4932-a28c-539feb1a51dd"
      },
      "source": [
        "KWWasIVforIQ = IVGMM(df.lwage, df[Xs+['educ']], \n",
        "                     df.iq, df['kww']).fit()\n",
        "print(KWWasIVforIQ)"
      ],
      "execution_count": 11,
      "outputs": [
        {
          "output_type": "stream",
          "text": [
            "                          IV-GMM Estimation Summary                           \n",
            "==============================================================================\n",
            "Dep. Variable:                  lwage   R-squared:                      0.1900\n",
            "Estimator:                     IV-GMM   Adj. R-squared:                 0.1830\n",
            "No. Observations:                 935   F-statistic:                    356.33\n",
            "Date:                Tue, Aug 06 2019   P-value (F-stat)                0.0000\n",
            "Time:                        14:32:22   Distribution:                  chi2(8)\n",
            "Cov. Estimator:                robust                                         \n",
            "                                                                              \n",
            "                             Parameter Estimates                              \n",
            "==============================================================================\n",
            "            Parameter  Std. Err.     T-stat    P-value    Lower CI    Upper CI\n",
            "------------------------------------------------------------------------------\n",
            "const          4.5925     0.3501     13.117     0.0000      3.9063      5.2786\n",
            "exper          0.0144     0.0034     4.2234     0.0000      0.0077      0.0211\n",
            "tenure         0.0105     0.0028     3.7258     0.0002      0.0050      0.0160\n",
            "married        0.2007     0.0404     4.9616     0.0000      0.1214      0.2800\n",
            "south         -0.0516     0.0339    -1.5201     0.1285     -0.1180      0.0149\n",
            "urban          0.1767     0.0274     6.4470     0.0000      0.1230      0.2304\n",
            "black         -0.0226     0.0798    -0.2826     0.7775     -0.1790      0.1339\n",
            "educ           0.0250     0.0187     1.3410     0.1799     -0.0116      0.0616\n",
            "iq             0.0130     0.0055     2.3835     0.0171      0.0023      0.0238\n",
            "==============================================================================\n",
            "\n",
            "Endogenous: iq\n",
            "Instruments: kww\n",
            "GMM Covariance\n",
            "Debiased: False\n",
            "Robust (Heteroskedastic)\n"
          ],
          "name": "stdout"
        }
      ]
    },
    {
      "cell_type": "code",
      "metadata": {
        "id": "TZoNYZBBTmeK",
        "colab_type": "code",
        "colab": {
          "base_uri": "https://localhost:8080/",
          "height": 524
        },
        "outputId": "8fd75d89-9ed2-493a-a8a7-6a52b83bbe97"
      },
      "source": [
        "IQasIVforKWW = IVGMM(df.lwage, df[Xs+['educ']],\n",
        "                     df.kww, df['iq']).fit()\n",
        "print(IQasIVforKWW)"
      ],
      "execution_count": 12,
      "outputs": [
        {
          "output_type": "stream",
          "text": [
            "                          IV-GMM Estimation Summary                           \n",
            "==============================================================================\n",
            "Dep. Variable:                  lwage   R-squared:                      0.0968\n",
            "Estimator:                     IV-GMM   Adj. R-squared:                 0.0890\n",
            "No. Observations:                 935   F-statistic:                    298.50\n",
            "Date:                Tue, Aug 06 2019   P-value (F-stat)                0.0000\n",
            "Time:                        14:32:22   Distribution:                  chi2(8)\n",
            "Cov. Estimator:                robust                                         \n",
            "                                                                              \n",
            "                             Parameter Estimates                              \n",
            "==============================================================================\n",
            "            Parameter  Std. Err.     T-stat    P-value    Lower CI    Upper CI\n",
            "------------------------------------------------------------------------------\n",
            "const          5.1700     0.1357     38.095     0.0000      4.9040      5.4360\n",
            "exper          0.0029     0.0049     0.5892     0.5557     -0.0067      0.0125\n",
            "tenure         0.0076     0.0031     2.4707     0.0135      0.0016      0.0136\n",
            "married        0.1382     0.0480     2.8792     0.0040      0.0441      0.2324\n",
            "south         -0.0952     0.0299    -3.1789     0.0015     -0.1539     -0.0365\n",
            "urban          0.1325     0.0315     4.2086     0.0000      0.0708      0.1942\n",
            "black         -0.0404     0.0606    -0.6662     0.5053     -0.1592      0.0784\n",
            "educ           0.0175     0.0161     1.0893     0.2760     -0.0140      0.0490\n",
            "kww            0.0309     0.0091     3.4107     0.0006      0.0131      0.0486\n",
            "==============================================================================\n",
            "\n",
            "Endogenous: kww\n",
            "Instruments: iq\n",
            "GMM Covariance\n",
            "Debiased: False\n",
            "Robust (Heteroskedastic)\n"
          ],
          "name": "stdout"
        }
      ]
    }
  ]
}