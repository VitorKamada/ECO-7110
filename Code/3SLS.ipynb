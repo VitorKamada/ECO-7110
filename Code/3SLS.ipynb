{
  "nbformat": 4,
  "nbformat_minor": 0,
  "metadata": {
    "colab": {
      "name": "3SLS.ipynb",
      "version": "0.3.2",
      "provenance": []
    },
    "kernelspec": {
      "name": "python3",
      "display_name": "Python 3"
    }
  },
  "cells": [
    {
      "cell_type": "code",
      "metadata": {
        "id": "JQuOsBrgvZ6x",
        "colab_type": "code",
        "colab": {
          "base_uri": "https://localhost:8080/",
          "height": 207
        },
        "outputId": "0c767d50-4e5f-43e0-8762-947be0380a08"
      },
      "source": [
        "pip install linearmodels"
      ],
      "execution_count": 1,
      "outputs": [
        {
          "output_type": "stream",
          "text": [
            "Requirement already satisfied: linearmodels in /usr/local/lib/python3.6/dist-packages (4.13)\n",
            "Requirement already satisfied: scipy>=0.18 in /usr/local/lib/python3.6/dist-packages (from linearmodels) (1.3.0)\n",
            "Requirement already satisfied: mypy-extensions>=0.4 in /usr/local/lib/python3.6/dist-packages (from linearmodels) (0.4.1)\n",
            "Requirement already satisfied: statsmodels>=0.8 in /usr/local/lib/python3.6/dist-packages (from linearmodels) (0.10.1)\n",
            "Requirement already satisfied: numpy>=1.13 in /usr/local/lib/python3.6/dist-packages (from linearmodels) (1.16.4)\n",
            "Requirement already satisfied: cached-property>=1.5.1 in /usr/local/lib/python3.6/dist-packages (from linearmodels) (1.5.1)\n",
            "Requirement already satisfied: pandas>=0.20 in /usr/local/lib/python3.6/dist-packages (from linearmodels) (0.24.2)\n",
            "Requirement already satisfied: patsy in /usr/local/lib/python3.6/dist-packages (from linearmodels) (0.5.1)\n",
            "Requirement already satisfied: python-dateutil>=2.5.0 in /usr/local/lib/python3.6/dist-packages (from pandas>=0.20->linearmodels) (2.5.3)\n",
            "Requirement already satisfied: pytz>=2011k in /usr/local/lib/python3.6/dist-packages (from pandas>=0.20->linearmodels) (2018.9)\n",
            "Requirement already satisfied: six in /usr/local/lib/python3.6/dist-packages (from patsy->linearmodels) (1.12.0)\n"
          ],
          "name": "stdout"
        }
      ]
    },
    {
      "cell_type": "code",
      "metadata": {
        "id": "27OYM8GnvafN",
        "colab_type": "code",
        "colab": {}
      },
      "source": [
        "import pandas as pd\n",
        "from linearmodels import IV2SLS, IV3SLS, IVSystemGMM"
      ],
      "execution_count": 0,
      "outputs": []
    },
    {
      "cell_type": "code",
      "metadata": {
        "id": "WYNG6Ujpvah8",
        "colab_type": "code",
        "colab": {
          "base_uri": "https://localhost:8080/",
          "height": 226
        },
        "outputId": "4356c92c-9edf-4f1f-b468-3789884225ac"
      },
      "source": [
        "file=\"https://github.com/VitorKamada/ECO7110/raw/master/Data/mroz.dta\"\n",
        "df = pd.read_stata(file)\n",
        "df.head()"
      ],
      "execution_count": 3,
      "outputs": [
        {
          "output_type": "execute_result",
          "data": {
            "text/html": [
              "<div>\n",
              "<style scoped>\n",
              "    .dataframe tbody tr th:only-of-type {\n",
              "        vertical-align: middle;\n",
              "    }\n",
              "\n",
              "    .dataframe tbody tr th {\n",
              "        vertical-align: top;\n",
              "    }\n",
              "\n",
              "    .dataframe thead th {\n",
              "        text-align: right;\n",
              "    }\n",
              "</style>\n",
              "<table border=\"1\" class=\"dataframe\">\n",
              "  <thead>\n",
              "    <tr style=\"text-align: right;\">\n",
              "      <th></th>\n",
              "      <th>inlf</th>\n",
              "      <th>hours</th>\n",
              "      <th>kidslt6</th>\n",
              "      <th>kidsge6</th>\n",
              "      <th>age</th>\n",
              "      <th>educ</th>\n",
              "      <th>wage</th>\n",
              "      <th>repwage</th>\n",
              "      <th>hushrs</th>\n",
              "      <th>husage</th>\n",
              "      <th>huseduc</th>\n",
              "      <th>huswage</th>\n",
              "      <th>faminc</th>\n",
              "      <th>mtr</th>\n",
              "      <th>motheduc</th>\n",
              "      <th>fatheduc</th>\n",
              "      <th>unem</th>\n",
              "      <th>city</th>\n",
              "      <th>exper</th>\n",
              "      <th>nwifeinc</th>\n",
              "      <th>lwage</th>\n",
              "      <th>expersq</th>\n",
              "    </tr>\n",
              "  </thead>\n",
              "  <tbody>\n",
              "    <tr>\n",
              "      <th>0</th>\n",
              "      <td>1</td>\n",
              "      <td>1610</td>\n",
              "      <td>1</td>\n",
              "      <td>0</td>\n",
              "      <td>32</td>\n",
              "      <td>12</td>\n",
              "      <td>3.3540</td>\n",
              "      <td>2.65</td>\n",
              "      <td>2708</td>\n",
              "      <td>34</td>\n",
              "      <td>12</td>\n",
              "      <td>4.0288</td>\n",
              "      <td>16310.0</td>\n",
              "      <td>0.7215</td>\n",
              "      <td>12</td>\n",
              "      <td>7</td>\n",
              "      <td>5.0</td>\n",
              "      <td>0</td>\n",
              "      <td>14</td>\n",
              "      <td>10.910060</td>\n",
              "      <td>1.210154</td>\n",
              "      <td>196</td>\n",
              "    </tr>\n",
              "    <tr>\n",
              "      <th>1</th>\n",
              "      <td>1</td>\n",
              "      <td>1656</td>\n",
              "      <td>0</td>\n",
              "      <td>2</td>\n",
              "      <td>30</td>\n",
              "      <td>12</td>\n",
              "      <td>1.3889</td>\n",
              "      <td>2.65</td>\n",
              "      <td>2310</td>\n",
              "      <td>30</td>\n",
              "      <td>9</td>\n",
              "      <td>8.4416</td>\n",
              "      <td>21800.0</td>\n",
              "      <td>0.6615</td>\n",
              "      <td>7</td>\n",
              "      <td>7</td>\n",
              "      <td>11.0</td>\n",
              "      <td>1</td>\n",
              "      <td>5</td>\n",
              "      <td>19.499981</td>\n",
              "      <td>0.328512</td>\n",
              "      <td>25</td>\n",
              "    </tr>\n",
              "    <tr>\n",
              "      <th>2</th>\n",
              "      <td>1</td>\n",
              "      <td>1980</td>\n",
              "      <td>1</td>\n",
              "      <td>3</td>\n",
              "      <td>35</td>\n",
              "      <td>12</td>\n",
              "      <td>4.5455</td>\n",
              "      <td>4.04</td>\n",
              "      <td>3072</td>\n",
              "      <td>40</td>\n",
              "      <td>12</td>\n",
              "      <td>3.5807</td>\n",
              "      <td>21040.0</td>\n",
              "      <td>0.6915</td>\n",
              "      <td>12</td>\n",
              "      <td>7</td>\n",
              "      <td>5.0</td>\n",
              "      <td>0</td>\n",
              "      <td>15</td>\n",
              "      <td>12.039910</td>\n",
              "      <td>1.514138</td>\n",
              "      <td>225</td>\n",
              "    </tr>\n",
              "    <tr>\n",
              "      <th>3</th>\n",
              "      <td>1</td>\n",
              "      <td>456</td>\n",
              "      <td>0</td>\n",
              "      <td>3</td>\n",
              "      <td>34</td>\n",
              "      <td>12</td>\n",
              "      <td>1.0965</td>\n",
              "      <td>3.25</td>\n",
              "      <td>1920</td>\n",
              "      <td>53</td>\n",
              "      <td>10</td>\n",
              "      <td>3.5417</td>\n",
              "      <td>7300.0</td>\n",
              "      <td>0.7815</td>\n",
              "      <td>7</td>\n",
              "      <td>7</td>\n",
              "      <td>5.0</td>\n",
              "      <td>0</td>\n",
              "      <td>6</td>\n",
              "      <td>6.799996</td>\n",
              "      <td>0.092123</td>\n",
              "      <td>36</td>\n",
              "    </tr>\n",
              "    <tr>\n",
              "      <th>4</th>\n",
              "      <td>1</td>\n",
              "      <td>1568</td>\n",
              "      <td>1</td>\n",
              "      <td>2</td>\n",
              "      <td>31</td>\n",
              "      <td>14</td>\n",
              "      <td>4.5918</td>\n",
              "      <td>3.60</td>\n",
              "      <td>2000</td>\n",
              "      <td>32</td>\n",
              "      <td>12</td>\n",
              "      <td>10.0000</td>\n",
              "      <td>27300.0</td>\n",
              "      <td>0.6215</td>\n",
              "      <td>12</td>\n",
              "      <td>14</td>\n",
              "      <td>9.5</td>\n",
              "      <td>1</td>\n",
              "      <td>7</td>\n",
              "      <td>20.100058</td>\n",
              "      <td>1.524272</td>\n",
              "      <td>49</td>\n",
              "    </tr>\n",
              "  </tbody>\n",
              "</table>\n",
              "</div>"
            ],
            "text/plain": [
              "   inlf  hours  kidslt6  kidsge6  ...  exper   nwifeinc     lwage  expersq\n",
              "0     1   1610        1        0  ...     14  10.910060  1.210154      196\n",
              "1     1   1656        0        2  ...      5  19.499981  0.328512       25\n",
              "2     1   1980        1        3  ...     15  12.039910  1.514138      225\n",
              "3     1    456        0        3  ...      6   6.799996  0.092123       36\n",
              "4     1   1568        1        2  ...      7  20.100058  1.524272       49\n",
              "\n",
              "[5 rows x 22 columns]"
            ]
          },
          "metadata": {
            "tags": []
          },
          "execution_count": 3
        }
      ]
    },
    {
      "cell_type": "code",
      "metadata": {
        "id": "hQ0zDKgK4eiR",
        "colab_type": "code",
        "colab": {
          "base_uri": "https://localhost:8080/",
          "height": 485
        },
        "outputId": "128ed765-5986-4206-bf88-49b9c05ad0cb"
      },
      "source": [
        "Eq1 = 'hours ~ educ + age + kidslt6 + nwifeinc + [lwage ~ exper + expersq]'\n",
        "Hours = IV2SLS.from_formula(Eq1, df).fit()\n",
        "print(Hours)"
      ],
      "execution_count": 4,
      "outputs": [
        {
          "output_type": "stream",
          "text": [
            "                          IV-2SLS Estimation Summary                          \n",
            "==============================================================================\n",
            "Dep. Variable:                  hours   R-squared:                      0.1903\n",
            "Estimator:                    IV-2SLS   Adj. R-squared:                 0.1807\n",
            "No. Observations:                 428   F-statistic:                    475.41\n",
            "Date:                Fri, Aug 09 2019   P-value (F-stat)                0.0000\n",
            "Time:                        15:04:14   Distribution:                  chi2(5)\n",
            "Cov. Estimator:                robust                                         \n",
            "                                                                              \n",
            "                             Parameter Estimates                              \n",
            "==============================================================================\n",
            "            Parameter  Std. Err.     T-stat    P-value    Lower CI    Upper CI\n",
            "------------------------------------------------------------------------------\n",
            "educ          -99.304     53.620    -1.8520     0.0640     -204.40      5.7897\n",
            "age            19.429     5.9719     3.2534     0.0011      7.7244      31.134\n",
            "kidslt6       -51.608     209.01    -0.2469     0.8050     -461.26      358.05\n",
            "nwifeinc      -11.444     5.2296    -2.1882     0.0287     -21.694     -1.1938\n",
            "lwage          1626.4     588.44     2.7638     0.0057      473.03      2779.7\n",
            "==============================================================================\n",
            "\n",
            "Endogenous: lwage\n",
            "Instruments: exper, expersq\n",
            "Robust Covariance (Heteroskedastic)\n",
            "Debiased: False\n"
          ],
          "name": "stdout"
        },
        {
          "output_type": "stream",
          "text": [
            "/usr/local/lib/python3.6/dist-packages/linearmodels/utility.py:478: MissingValueWarning: \n",
            "Inputs contain missing values. Dropping rows with missing observations.\n",
            "  warnings.warn(missing_value_warning_msg, MissingValueWarning)\n"
          ],
          "name": "stderr"
        }
      ]
    },
    {
      "cell_type": "code",
      "metadata": {
        "id": "fL1lDNY05P-b",
        "colab_type": "code",
        "colab": {
          "base_uri": "https://localhost:8080/",
          "height": 467
        },
        "outputId": "9688cba5-d134-4fc9-d20d-700c255e6621"
      },
      "source": [
        "Eq2 = 'lwage ~ educ + exper + expersq + [hours ~ age + kidslt6 + nwifeinc]'\n",
        "Lwage = IV2SLS.from_formula(Eq2, df).fit()\n",
        "print(Lwage)"
      ],
      "execution_count": 5,
      "outputs": [
        {
          "output_type": "stream",
          "text": [
            "                          IV-2SLS Estimation Summary                          \n",
            "==============================================================================\n",
            "Dep. Variable:                  lwage   R-squared:                      0.7582\n",
            "Estimator:                    IV-2SLS   Adj. R-squared:                 0.7559\n",
            "No. Observations:                 428   F-statistic:                    1514.9\n",
            "Date:                Fri, Aug 09 2019   P-value (F-stat)                0.0000\n",
            "Time:                        15:04:14   Distribution:                  chi2(4)\n",
            "Cov. Estimator:                robust                                         \n",
            "                                                                              \n",
            "                             Parameter Estimates                              \n",
            "==============================================================================\n",
            "            Parameter  Std. Err.     T-stat    P-value    Lower CI    Upper CI\n",
            "------------------------------------------------------------------------------\n",
            "educ           0.0875     0.0181     4.8376     0.0000      0.0520      0.1229\n",
            "exper          0.0524     0.0338     1.5479     0.1216     -0.0139      0.1187\n",
            "expersq       -0.0009     0.0007    -1.3496     0.1772     -0.0023      0.0004\n",
            "hours         -0.0003     0.0004    -0.7751     0.4383     -0.0010      0.0004\n",
            "==============================================================================\n",
            "\n",
            "Endogenous: hours\n",
            "Instruments: age, kidslt6, nwifeinc\n",
            "Robust Covariance (Heteroskedastic)\n",
            "Debiased: False\n"
          ],
          "name": "stdout"
        },
        {
          "output_type": "stream",
          "text": [
            "/usr/local/lib/python3.6/dist-packages/linearmodels/utility.py:478: MissingValueWarning: \n",
            "Inputs contain missing values. Dropping rows with missing observations.\n",
            "  warnings.warn(missing_value_warning_msg, MissingValueWarning)\n"
          ],
          "name": "stderr"
        }
      ]
    },
    {
      "cell_type": "code",
      "metadata": {
        "id": "oo2k2TMivaks",
        "colab_type": "code",
        "colab": {}
      },
      "source": [
        "Eq = dict(hours= Eq1, lwage = Eq2)"
      ],
      "execution_count": 0,
      "outputs": []
    },
    {
      "cell_type": "code",
      "metadata": {
        "id": "vKIApAtVvanL",
        "colab_type": "code",
        "colab": {
          "base_uri": "https://localhost:8080/",
          "height": 769
        },
        "outputId": "796a4676-1757-4857-b932-f7b2a7329614"
      },
      "source": [
        "IV3SLS = IV3SLS.from_formula(Eq, df).fit(method='gls')\n",
        "print(IV3SLS)"
      ],
      "execution_count": 7,
      "outputs": [
        {
          "output_type": "stream",
          "text": [
            "/usr/local/lib/python3.6/dist-packages/linearmodels/utility.py:478: MissingValueWarning: \n",
            "Inputs contain missing values. Dropping rows with missing observations.\n",
            "  warnings.warn(missing_value_warning_msg, MissingValueWarning)\n"
          ],
          "name": "stderr"
        },
        {
          "output_type": "stream",
          "text": [
            "                        System GLS Estimation Summary                         \n",
            "==============================================================================\n",
            "Estimator:                        GLS   Overall R-squared:              0.0120\n",
            "No. Equations.:                     2   Cov. Estimator:                 robust\n",
            "No. Observations:                 428   Num. Constraints:                 None\n",
            "Date:                Fri, Aug 09 2019                                         \n",
            "Time:                        15:04:15                                         \n",
            "                                                                              \n",
            "                                                                              \n",
            "                  Equation: hours, Dependent Variable: hours                  \n",
            "==============================================================================\n",
            "            Parameter  Std. Err.     T-stat    P-value    Lower CI    Upper CI\n",
            "------------------------------------------------------------------------------\n",
            "educ          -109.90     11.982    -9.1722     0.0000     -133.38     -86.417\n",
            "age            13.651     4.2605     3.2041     0.0014      5.3007      22.002\n",
            "kidslt6       -196.61     101.76    -1.9320     0.0534     -396.06      2.8437\n",
            "nwifeinc      -6.4128     4.7852    -1.3401     0.1802     -15.792      2.9660\n",
            "lwage          1872.7     144.99     12.916     0.0000      1588.6      2156.9\n",
            "                                                                              \n",
            "==============\n",
            " Instruments  \n",
            "--------------\n",
            "exper, expersq\n",
            "              \n",
            "                  Equation: lwage, Dependent Variable: lwage                  \n",
            "==============================================================================\n",
            "            Parameter  Std. Err.     T-stat    P-value    Lower CI    Upper CI\n",
            "------------------------------------------------------------------------------\n",
            "educ           0.0859     0.0250     3.4288     0.0006      0.0368      0.1349\n",
            "exper          0.0550     0.0484     1.1368     0.2556     -0.0398      0.1497\n",
            "expersq       -0.0010     0.0010    -1.0477     0.2948     -0.0030      0.0009\n",
            "hours         -0.0003     0.0005    -0.5235     0.6006     -0.0013      0.0008\n",
            "======================\n",
            "     Instruments      \n",
            "----------------------\n",
            "age, kidslt6, nwifeinc\n",
            "----------------------\n",
            "\n",
            "Covariance Estimator:\n",
            "Heteroskedastic (Robust) Covariance (Debiased: False, GLS: True)\n"
          ],
          "name": "stdout"
        }
      ]
    },
    {
      "cell_type": "code",
      "metadata": {
        "id": "MhpUEPV5vap3",
        "colab_type": "code",
        "colab": {
          "base_uri": "https://localhost:8080/",
          "height": 804
        },
        "outputId": "86e1608b-b62b-4042-88ab-4ca463752bc8"
      },
      "source": [
        "GMM = IVSystemGMM.from_formula(Eq, df, \n",
        "  weight_type='robust').fit(cov_type='robust')\n",
        "print(GMM)"
      ],
      "execution_count": 8,
      "outputs": [
        {
          "output_type": "stream",
          "text": [
            "                 System 2-Step System GMM Estimation Summary                  \n",
            "==============================================================================\n",
            "Estimator:          2-Step System GMM   Overall R-squared:             -0.0791\n",
            "No. Equations.:                     2   Cov. Estimator:                 robust\n",
            "No. Observations:                 428   Num. Constraints:                 None\n",
            "Date:                Fri, Aug 09 2019                                         \n",
            "Time:                        15:04:15                                         \n",
            "                                                                              \n",
            "                                                                              \n",
            "                  Equation: hours, Dependent Variable: hours                  \n",
            "==============================================================================\n",
            "            Parameter  Std. Err.     T-stat    P-value    Lower CI    Upper CI\n",
            "------------------------------------------------------------------------------\n",
            "educ          -122.62     58.608    -2.0922     0.0364     -237.49     -7.7503\n",
            "age            14.728     6.0138     2.4491     0.0143      2.9415      26.515\n",
            "kidslt6       -227.73     218.43    -1.0426     0.2971     -655.85      200.39\n",
            "nwifeinc      -8.2514     5.3129    -1.5531     0.1204     -18.664      2.1617\n",
            "lwage          1989.5     600.74     3.3117     0.0009      812.06      3166.9\n",
            "                                                                              \n",
            "==============\n",
            " Instruments  \n",
            "--------------\n",
            "exper, expersq\n",
            "              \n",
            "                  Equation: lwage, Dependent Variable: lwage                  \n",
            "==============================================================================\n",
            "            Parameter  Std. Err.     T-stat    P-value    Lower CI    Upper CI\n",
            "------------------------------------------------------------------------------\n",
            "educ           0.0954     0.0185     5.1535     0.0000      0.0591      0.1317\n",
            "exper          0.0676     0.0355     1.9034     0.0570     -0.0020      0.1373\n",
            "expersq       -0.0013     0.0007    -1.7878     0.0738     -0.0026      0.0001\n",
            "hours         -0.0005     0.0004    -1.1472     0.2513     -0.0012      0.0003\n",
            "======================\n",
            "     Instruments      \n",
            "----------------------\n",
            "age, kidslt6, nwifeinc\n",
            "----------------------\n",
            "\n",
            "Covariance Estimator:\n",
            "GMM Heteroskedastic (Robust) Covariance\n",
            "Weight Estimator:\n",
            "Heteroskedastic (Robust) Weighting (Debiased: False, Center: False)\n"
          ],
          "name": "stdout"
        },
        {
          "output_type": "stream",
          "text": [
            "/usr/local/lib/python3.6/dist-packages/linearmodels/utility.py:478: MissingValueWarning: \n",
            "Inputs contain missing values. Dropping rows with missing observations.\n",
            "  warnings.warn(missing_value_warning_msg, MissingValueWarning)\n"
          ],
          "name": "stderr"
        }
      ]
    },
    {
      "cell_type": "code",
      "metadata": {
        "id": "5q7OnDo3vasT",
        "colab_type": "code",
        "colab": {}
      },
      "source": [
        ""
      ],
      "execution_count": 0,
      "outputs": []
    }
  ]
}