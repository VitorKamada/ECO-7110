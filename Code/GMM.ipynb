{
  "nbformat": 4,
  "nbformat_minor": 0,
  "metadata": {
    "colab": {
      "name": "GMM.ipynb",
      "version": "0.3.2",
      "provenance": []
    },
    "kernelspec": {
      "name": "python3",
      "display_name": "Python 3"
    }
  },
  "cells": [
    {
      "cell_type": "code",
      "metadata": {
        "id": "SCAOBTY-cByC",
        "colab_type": "code",
        "colab": {
          "base_uri": "https://localhost:8080/",
          "height": 229
        },
        "outputId": "f5792f3c-3172-4f1e-fc92-3bd30382909f"
      },
      "source": [
        "pip install linearmodels"
      ],
      "execution_count": 1,
      "outputs": [
        {
          "output_type": "stream",
          "text": [
            "Requirement already satisfied: linearmodels in /usr/local/lib/python3.6/dist-packages (4.13)\n",
            "Requirement already satisfied: numpy>=1.13 in /usr/local/lib/python3.6/dist-packages (from linearmodels) (1.16.4)\n",
            "Requirement already satisfied: statsmodels>=0.8 in /usr/local/lib/python3.6/dist-packages (from linearmodels) (0.10.0)\n",
            "Requirement already satisfied: mypy-extensions>=0.4 in /usr/local/lib/python3.6/dist-packages (from linearmodels) (0.4.1)\n",
            "Requirement already satisfied: scipy>=0.18 in /usr/local/lib/python3.6/dist-packages (from linearmodels) (1.3.0)\n",
            "Requirement already satisfied: patsy in /usr/local/lib/python3.6/dist-packages (from linearmodels) (0.5.1)\n",
            "Requirement already satisfied: pandas>=0.20 in /usr/local/lib/python3.6/dist-packages (from linearmodels) (0.24.2)\n",
            "Requirement already satisfied: cached-property>=1.5.1 in /usr/local/lib/python3.6/dist-packages (from linearmodels) (1.5.1)\n",
            "Requirement already satisfied: six in /usr/local/lib/python3.6/dist-packages (from patsy->linearmodels) (1.12.0)\n",
            "Requirement already satisfied: python-dateutil>=2.5.0 in /usr/local/lib/python3.6/dist-packages (from pandas>=0.20->linearmodels) (2.5.3)\n",
            "Requirement already satisfied: pytz>=2011k in /usr/local/lib/python3.6/dist-packages (from pandas>=0.20->linearmodels) (2018.9)\n"
          ],
          "name": "stdout"
        }
      ]
    },
    {
      "cell_type": "code",
      "metadata": {
        "id": "g9wT6n3yhg9t",
        "colab_type": "code",
        "colab": {}
      },
      "source": [
        "import numpy as np\n",
        "import pandas as pd\n",
        "import matplotlib.pyplot as plt\n",
        "from linearmodels import IV2SLS, IVLIML, IVGMM"
      ],
      "execution_count": 0,
      "outputs": []
    },
    {
      "cell_type": "code",
      "metadata": {
        "id": "9olDM5OehpVX",
        "colab_type": "code",
        "colab": {
          "base_uri": "https://localhost:8080/",
          "height": 224
        },
        "outputId": "24add5c6-8d3c-4681-817d-017d07acf4a0"
      },
      "source": [
        "file=\"https://github.com/VitorKamada/ECO7110/raw/master/Data/mus06data.dta\"\n",
        "data = pd.read_stata(file)\n",
        "data.head()"
      ],
      "execution_count": 3,
      "outputs": [
        {
          "output_type": "execute_result",
          "data": {
            "text/html": [
              "<div>\n",
              "<style scoped>\n",
              "    .dataframe tbody tr th:only-of-type {\n",
              "        vertical-align: middle;\n",
              "    }\n",
              "\n",
              "    .dataframe tbody tr th {\n",
              "        vertical-align: top;\n",
              "    }\n",
              "\n",
              "    .dataframe thead th {\n",
              "        text-align: right;\n",
              "    }\n",
              "</style>\n",
              "<table border=\"1\" class=\"dataframe\">\n",
              "  <thead>\n",
              "    <tr style=\"text-align: right;\">\n",
              "      <th></th>\n",
              "      <th>ssiratio</th>\n",
              "      <th>age</th>\n",
              "      <th>educyr</th>\n",
              "      <th>drugexp</th>\n",
              "      <th>private</th>\n",
              "      <th>female</th>\n",
              "      <th>hisp</th>\n",
              "      <th>marry</th>\n",
              "      <th>vegood</th>\n",
              "      <th>good</th>\n",
              "      <th>fair</th>\n",
              "      <th>poor</th>\n",
              "      <th>poverty</th>\n",
              "      <th>lowincome</th>\n",
              "      <th>midincome</th>\n",
              "      <th>msa</th>\n",
              "      <th>firmsz</th>\n",
              "      <th>multlc</th>\n",
              "      <th>income</th>\n",
              "      <th>priolist</th>\n",
              "      <th>totchr</th>\n",
              "      <th>black</th>\n",
              "      <th>hi_empunion</th>\n",
              "      <th>ldrugexp</th>\n",
              "      <th>age2</th>\n",
              "      <th>linc</th>\n",
              "      <th>vgh</th>\n",
              "      <th>fph</th>\n",
              "      <th>blhisp</th>\n",
              "      <th>_est_reg1</th>\n",
              "      <th>_est_reg2</th>\n",
              "      <th>_est_reg3</th>\n",
              "      <th>_est_reg4</th>\n",
              "      <th>_est_OLS</th>\n",
              "      <th>_est_ivreg2_0</th>\n",
              "      <th>_est_ivreg2_1</th>\n",
              "      <th>_est_ivreg2_2</th>\n",
              "      <th>_est_ivreg2_3</th>\n",
              "    </tr>\n",
              "  </thead>\n",
              "  <tbody>\n",
              "    <tr>\n",
              "      <th>0</th>\n",
              "      <td>0.149877</td>\n",
              "      <td>74</td>\n",
              "      <td>16</td>\n",
              "      <td>595</td>\n",
              "      <td>1</td>\n",
              "      <td>1</td>\n",
              "      <td>0</td>\n",
              "      <td>1</td>\n",
              "      <td>0</td>\n",
              "      <td>1</td>\n",
              "      <td>0</td>\n",
              "      <td>0</td>\n",
              "      <td>0</td>\n",
              "      <td>0</td>\n",
              "      <td>0</td>\n",
              "      <td>0</td>\n",
              "      <td>0.0</td>\n",
              "      <td>0</td>\n",
              "      <td>94.545891</td>\n",
              "      <td>1</td>\n",
              "      <td>0</td>\n",
              "      <td>0</td>\n",
              "      <td>1</td>\n",
              "      <td>6.388561</td>\n",
              "      <td>5476.0</td>\n",
              "      <td>4.549085</td>\n",
              "      <td>1.0</td>\n",
              "      <td>0.0</td>\n",
              "      <td>0.0</td>\n",
              "      <td>1</td>\n",
              "      <td>1</td>\n",
              "      <td>1</td>\n",
              "      <td>1</td>\n",
              "      <td>1</td>\n",
              "      <td>1</td>\n",
              "      <td>1</td>\n",
              "      <td>1</td>\n",
              "      <td>1</td>\n",
              "    </tr>\n",
              "    <tr>\n",
              "      <th>1</th>\n",
              "      <td>0.395856</td>\n",
              "      <td>73</td>\n",
              "      <td>8</td>\n",
              "      <td>1783</td>\n",
              "      <td>1</td>\n",
              "      <td>0</td>\n",
              "      <td>0</td>\n",
              "      <td>1</td>\n",
              "      <td>0</td>\n",
              "      <td>1</td>\n",
              "      <td>0</td>\n",
              "      <td>0</td>\n",
              "      <td>0</td>\n",
              "      <td>0</td>\n",
              "      <td>0</td>\n",
              "      <td>0</td>\n",
              "      <td>0.1</td>\n",
              "      <td>0</td>\n",
              "      <td>35.796379</td>\n",
              "      <td>1</td>\n",
              "      <td>3</td>\n",
              "      <td>0</td>\n",
              "      <td>1</td>\n",
              "      <td>7.486053</td>\n",
              "      <td>5329.0</td>\n",
              "      <td>3.577847</td>\n",
              "      <td>1.0</td>\n",
              "      <td>0.0</td>\n",
              "      <td>0.0</td>\n",
              "      <td>1</td>\n",
              "      <td>1</td>\n",
              "      <td>1</td>\n",
              "      <td>1</td>\n",
              "      <td>1</td>\n",
              "      <td>1</td>\n",
              "      <td>1</td>\n",
              "      <td>1</td>\n",
              "      <td>1</td>\n",
              "    </tr>\n",
              "    <tr>\n",
              "      <th>2</th>\n",
              "      <td>1.000000</td>\n",
              "      <td>80</td>\n",
              "      <td>12</td>\n",
              "      <td>176</td>\n",
              "      <td>0</td>\n",
              "      <td>1</td>\n",
              "      <td>0</td>\n",
              "      <td>0</td>\n",
              "      <td>0</td>\n",
              "      <td>0</td>\n",
              "      <td>0</td>\n",
              "      <td>0</td>\n",
              "      <td>1</td>\n",
              "      <td>0</td>\n",
              "      <td>0</td>\n",
              "      <td>1</td>\n",
              "      <td>0.0</td>\n",
              "      <td>0</td>\n",
              "      <td>9.600000</td>\n",
              "      <td>1</td>\n",
              "      <td>1</td>\n",
              "      <td>0</td>\n",
              "      <td>0</td>\n",
              "      <td>5.170484</td>\n",
              "      <td>6400.0</td>\n",
              "      <td>2.261763</td>\n",
              "      <td>0.0</td>\n",
              "      <td>0.0</td>\n",
              "      <td>0.0</td>\n",
              "      <td>1</td>\n",
              "      <td>1</td>\n",
              "      <td>1</td>\n",
              "      <td>1</td>\n",
              "      <td>1</td>\n",
              "      <td>1</td>\n",
              "      <td>1</td>\n",
              "      <td>1</td>\n",
              "      <td>1</td>\n",
              "    </tr>\n",
              "    <tr>\n",
              "      <th>3</th>\n",
              "      <td>0.206639</td>\n",
              "      <td>70</td>\n",
              "      <td>17</td>\n",
              "      <td>2437</td>\n",
              "      <td>1</td>\n",
              "      <td>0</td>\n",
              "      <td>0</td>\n",
              "      <td>1</td>\n",
              "      <td>0</td>\n",
              "      <td>1</td>\n",
              "      <td>0</td>\n",
              "      <td>0</td>\n",
              "      <td>0</td>\n",
              "      <td>0</td>\n",
              "      <td>0</td>\n",
              "      <td>1</td>\n",
              "      <td>0.0</td>\n",
              "      <td>0</td>\n",
              "      <td>38.714771</td>\n",
              "      <td>1</td>\n",
              "      <td>5</td>\n",
              "      <td>0</td>\n",
              "      <td>1</td>\n",
              "      <td>7.798523</td>\n",
              "      <td>4900.0</td>\n",
              "      <td>3.656221</td>\n",
              "      <td>1.0</td>\n",
              "      <td>0.0</td>\n",
              "      <td>0.0</td>\n",
              "      <td>1</td>\n",
              "      <td>1</td>\n",
              "      <td>1</td>\n",
              "      <td>1</td>\n",
              "      <td>1</td>\n",
              "      <td>1</td>\n",
              "      <td>1</td>\n",
              "      <td>1</td>\n",
              "      <td>1</td>\n",
              "    </tr>\n",
              "    <tr>\n",
              "      <th>4</th>\n",
              "      <td>0.537192</td>\n",
              "      <td>91</td>\n",
              "      <td>16</td>\n",
              "      <td>330</td>\n",
              "      <td>0</td>\n",
              "      <td>0</td>\n",
              "      <td>0</td>\n",
              "      <td>1</td>\n",
              "      <td>1</td>\n",
              "      <td>0</td>\n",
              "      <td>0</td>\n",
              "      <td>0</td>\n",
              "      <td>0</td>\n",
              "      <td>0</td>\n",
              "      <td>1</td>\n",
              "      <td>1</td>\n",
              "      <td>0.0</td>\n",
              "      <td>0</td>\n",
              "      <td>8.725000</td>\n",
              "      <td>1</td>\n",
              "      <td>3</td>\n",
              "      <td>0</td>\n",
              "      <td>0</td>\n",
              "      <td>5.799093</td>\n",
              "      <td>8281.0</td>\n",
              "      <td>2.166193</td>\n",
              "      <td>1.0</td>\n",
              "      <td>0.0</td>\n",
              "      <td>0.0</td>\n",
              "      <td>1</td>\n",
              "      <td>1</td>\n",
              "      <td>1</td>\n",
              "      <td>1</td>\n",
              "      <td>1</td>\n",
              "      <td>1</td>\n",
              "      <td>1</td>\n",
              "      <td>1</td>\n",
              "      <td>1</td>\n",
              "    </tr>\n",
              "  </tbody>\n",
              "</table>\n",
              "</div>"
            ],
            "text/plain": [
              "   ssiratio  age  educyr  ...  _est_ivreg2_1  _est_ivreg2_2  _est_ivreg2_3\n",
              "0  0.149877   74      16  ...              1              1              1\n",
              "1  0.395856   73       8  ...              1              1              1\n",
              "2  1.000000   80      12  ...              1              1              1\n",
              "3  0.206639   70      17  ...              1              1              1\n",
              "4  0.537192   91      16  ...              1              1              1\n",
              "\n",
              "[5 rows x 38 columns]"
            ]
          },
          "metadata": {
            "tags": []
          },
          "execution_count": 3
        }
      ]
    },
    {
      "cell_type": "code",
      "metadata": {
        "id": "PBG4ZnoecQoX",
        "colab_type": "code",
        "colab": {
          "base_uri": "https://localhost:8080/",
          "height": 174
        },
        "outputId": "0a943570-b5b2-4868-aafe-ab45b0f56ed4"
      },
      "source": [
        "controls = ['totchr', 'female', 'age', 'linc','blhisp']\n",
        "print(data[['ldrugexp','hi_empunion'] + \n",
        "           controls].describe(percentiles=[]))"
      ],
      "execution_count": 4,
      "outputs": [
        {
          "output_type": "stream",
          "text": [
            "           ldrugexp   hi_empunion  ...          linc        blhisp\n",
            "count  10391.000000  10391.000000  ...  10089.000000  10391.000000\n",
            "mean       6.479664      0.379655  ...      2.743271      0.170340\n",
            "std        1.363393      0.485324  ...      0.913144      0.375956\n",
            "min        0.000000      0.000000  ...     -6.907755      0.000000\n",
            "50%        6.677083      0.000000  ...      2.743160      0.000000\n",
            "max       10.180172      1.000000  ...      5.744476      1.000000\n",
            "\n",
            "[6 rows x 7 columns]\n"
          ],
          "name": "stdout"
        }
      ]
    },
    {
      "cell_type": "code",
      "metadata": {
        "id": "066344OPdvKS",
        "colab_type": "code",
        "colab": {
          "base_uri": "https://localhost:8080/",
          "height": 139
        },
        "outputId": "e7162294-01a0-49e0-d2c6-efccd7bb106a"
      },
      "source": [
        "instruments = ['ssiratio', 'lowincome', 'multlc', 'firmsz']\n",
        "print(data[instruments].describe(percentiles=[]))"
      ],
      "execution_count": 5,
      "outputs": [
        {
          "output_type": "stream",
          "text": [
            "           ssiratio     lowincome        multlc        firmsz\n",
            "count  10391.000000  10391.000000  10391.000000  10391.000000\n",
            "mean       0.520628      0.185641      0.060341      0.136501\n",
            "std        0.374589      0.388836      0.238128      2.138914\n",
            "min       -2.100647      0.000000      0.000000      0.000000\n",
            "50%        0.490139      0.000000      0.000000      0.000000\n",
            "max        9.250620      1.000000      1.000000     50.000000\n"
          ],
          "name": "stdout"
        }
      ]
    },
    {
      "cell_type": "code",
      "metadata": {
        "id": "ztOK0fc_ivqw",
        "colab_type": "code",
        "colab": {
          "base_uri": "https://localhost:8080/",
          "height": 204
        },
        "outputId": "ef8953d4-2680-48e1-c0d3-5783183bb3fa"
      },
      "source": [
        "data[['hi_empunion'] + instruments].corr()"
      ],
      "execution_count": 6,
      "outputs": [
        {
          "output_type": "execute_result",
          "data": {
            "text/html": [
              "<div>\n",
              "<style scoped>\n",
              "    .dataframe tbody tr th:only-of-type {\n",
              "        vertical-align: middle;\n",
              "    }\n",
              "\n",
              "    .dataframe tbody tr th {\n",
              "        vertical-align: top;\n",
              "    }\n",
              "\n",
              "    .dataframe thead th {\n",
              "        text-align: right;\n",
              "    }\n",
              "</style>\n",
              "<table border=\"1\" class=\"dataframe\">\n",
              "  <thead>\n",
              "    <tr style=\"text-align: right;\">\n",
              "      <th></th>\n",
              "      <th>hi_empunion</th>\n",
              "      <th>ssiratio</th>\n",
              "      <th>lowincome</th>\n",
              "      <th>multlc</th>\n",
              "      <th>firmsz</th>\n",
              "    </tr>\n",
              "  </thead>\n",
              "  <tbody>\n",
              "    <tr>\n",
              "      <th>hi_empunion</th>\n",
              "      <td>1.000000</td>\n",
              "      <td>-0.196284</td>\n",
              "      <td>-0.114425</td>\n",
              "      <td>0.119054</td>\n",
              "      <td>0.037173</td>\n",
              "    </tr>\n",
              "    <tr>\n",
              "      <th>ssiratio</th>\n",
              "      <td>-0.196284</td>\n",
              "      <td>1.000000</td>\n",
              "      <td>0.249820</td>\n",
              "      <td>-0.174394</td>\n",
              "      <td>-0.040481</td>\n",
              "    </tr>\n",
              "    <tr>\n",
              "      <th>lowincome</th>\n",
              "      <td>-0.114425</td>\n",
              "      <td>0.249820</td>\n",
              "      <td>1.000000</td>\n",
              "      <td>-0.060701</td>\n",
              "      <td>-0.007802</td>\n",
              "    </tr>\n",
              "    <tr>\n",
              "      <th>multlc</th>\n",
              "      <td>0.119054</td>\n",
              "      <td>-0.174394</td>\n",
              "      <td>-0.060701</td>\n",
              "      <td>1.000000</td>\n",
              "      <td>0.187394</td>\n",
              "    </tr>\n",
              "    <tr>\n",
              "      <th>firmsz</th>\n",
              "      <td>0.037173</td>\n",
              "      <td>-0.040481</td>\n",
              "      <td>-0.007802</td>\n",
              "      <td>0.187394</td>\n",
              "      <td>1.000000</td>\n",
              "    </tr>\n",
              "  </tbody>\n",
              "</table>\n",
              "</div>"
            ],
            "text/plain": [
              "             hi_empunion  ssiratio  lowincome    multlc    firmsz\n",
              "hi_empunion     1.000000 -0.196284  -0.114425  0.119054  0.037173\n",
              "ssiratio       -0.196284  1.000000   0.249820 -0.174394 -0.040481\n",
              "lowincome      -0.114425  0.249820   1.000000 -0.060701 -0.007802\n",
              "multlc          0.119054 -0.174394  -0.060701  1.000000  0.187394\n",
              "firmsz          0.037173 -0.040481  -0.007802  0.187394  1.000000"
            ]
          },
          "metadata": {
            "tags": []
          },
          "execution_count": 6
        }
      ]
    },
    {
      "cell_type": "code",
      "metadata": {
        "id": "_0iucbRmiv4X",
        "colab_type": "code",
        "colab": {}
      },
      "source": [
        "from statsmodels.api import OLS, add_constant\n",
        "data['const'] = 1\n",
        "controls = ['const'] + controls"
      ],
      "execution_count": 0,
      "outputs": []
    },
    {
      "cell_type": "code",
      "metadata": {
        "id": "gzkYc5ziiwA_",
        "colab_type": "code",
        "colab": {
          "base_uri": "https://localhost:8080/",
          "height": 437
        },
        "outputId": "c066492a-7fdf-45db-faea-f6e02a3312a4"
      },
      "source": [
        "ivolsmod = IV2SLS(data.ldrugexp, \n",
        "     data[['hi_empunion'] + controls], None, None)\n",
        "res_ols = ivolsmod.fit()\n",
        "print(res_ols)"
      ],
      "execution_count": 8,
      "outputs": [
        {
          "output_type": "stream",
          "text": [
            "                            OLS Estimation Summary                            \n",
            "==============================================================================\n",
            "Dep. Variable:               ldrugexp   R-squared:                      0.1770\n",
            "Estimator:                        OLS   Adj. R-squared:                 0.1765\n",
            "No. Observations:               10089   F-statistic:                    2262.6\n",
            "Date:                Wed, Jul 31 2019   P-value (F-stat)                0.0000\n",
            "Time:                        19:17:46   Distribution:                  chi2(6)\n",
            "Cov. Estimator:                robust                                         \n",
            "                                                                              \n",
            "                              Parameter Estimates                              \n",
            "===============================================================================\n",
            "             Parameter  Std. Err.     T-stat    P-value    Lower CI    Upper CI\n",
            "-------------------------------------------------------------------------------\n",
            "hi_empunion     0.0739     0.0260     2.8441     0.0045      0.0230      0.1248\n",
            "const           5.8611     0.1570     37.320     0.0000      5.5533      6.1689\n",
            "totchr          0.4404     0.0094     47.049     0.0000      0.4220      0.4587\n",
            "female          0.0578     0.0254     2.2797     0.0226      0.0081      0.1075\n",
            "age            -0.0035     0.0019    -1.8228     0.0683     -0.0073      0.0003\n",
            "linc            0.0105     0.0137     0.7646     0.4445     -0.0164      0.0373\n",
            "blhisp         -0.1513     0.0341    -4.4353     0.0000     -0.2182     -0.0844\n",
            "===============================================================================\n"
          ],
          "name": "stdout"
        },
        {
          "output_type": "stream",
          "text": [
            "/usr/local/lib/python3.6/dist-packages/linearmodels/utility.py:478: MissingValueWarning: \n",
            "Inputs contain missing values. Dropping rows with missing observations.\n",
            "  warnings.warn(missing_value_warning_msg, MissingValueWarning)\n"
          ],
          "name": "stderr"
        }
      ]
    },
    {
      "cell_type": "code",
      "metadata": {
        "id": "Z8X0qsHwiwGg",
        "colab_type": "code",
        "colab": {
          "base_uri": "https://localhost:8080/",
          "height": 524
        },
        "outputId": "b4e314df-c73c-4d9d-9782-629a4bcc898f"
      },
      "source": [
        "ivmod = IV2SLS(data.ldrugexp, data[controls],\n",
        "  data.hi_empunion, data[['ssiratio','multlc']])\n",
        "res_2sls = ivmod.fit()\n",
        "print(res_2sls.summary)"
      ],
      "execution_count": 9,
      "outputs": [
        {
          "output_type": "stream",
          "text": [
            "/usr/local/lib/python3.6/dist-packages/linearmodels/utility.py:478: MissingValueWarning: \n",
            "Inputs contain missing values. Dropping rows with missing observations.\n",
            "  warnings.warn(missing_value_warning_msg, MissingValueWarning)\n"
          ],
          "name": "stderr"
        },
        {
          "output_type": "stream",
          "text": [
            "                          IV-2SLS Estimation Summary                          \n",
            "==============================================================================\n",
            "Dep. Variable:               ldrugexp   R-squared:                      0.0414\n",
            "Estimator:                    IV-2SLS   Adj. R-squared:                 0.0409\n",
            "No. Observations:               10089   F-statistic:                    1955.4\n",
            "Date:                Wed, Jul 31 2019   P-value (F-stat)                0.0000\n",
            "Time:                        19:17:46   Distribution:                  chi2(6)\n",
            "Cov. Estimator:                robust                                         \n",
            "                                                                              \n",
            "                              Parameter Estimates                              \n",
            "===============================================================================\n",
            "             Parameter  Std. Err.     T-stat    P-value    Lower CI    Upper CI\n",
            "-------------------------------------------------------------------------------\n",
            "const           6.8752     0.2579     26.660     0.0000      6.3697      7.3806\n",
            "totchr          0.4512     0.0103     43.769     0.0000      0.4310      0.4714\n",
            "female         -0.0278     0.0322    -0.8653     0.3869     -0.0909      0.0352\n",
            "age            -0.0141     0.0029    -4.8753     0.0000     -0.0198     -0.0085\n",
            "linc            0.0943     0.0219     4.3079     0.0000      0.0514      0.1372\n",
            "blhisp         -0.2237     0.0396    -5.6514     0.0000     -0.3013     -0.1461\n",
            "hi_empunion    -0.9899     0.2046    -4.8386     0.0000     -1.3909     -0.5889\n",
            "===============================================================================\n",
            "\n",
            "Endogenous: hi_empunion\n",
            "Instruments: ssiratio, multlc\n",
            "Robust Covariance (Heteroskedastic)\n",
            "Debiased: False\n"
          ],
          "name": "stdout"
        }
      ]
    },
    {
      "cell_type": "code",
      "metadata": {
        "id": "Zqa8LHwMiwOP",
        "colab_type": "code",
        "colab": {
          "base_uri": "https://localhost:8080/",
          "height": 542
        },
        "outputId": "46d1cf9a-ba23-4fab-cd4e-ad9377f1e775"
      },
      "source": [
        "ivmod = IVGMM(data.ldrugexp, data[controls], \n",
        "  data.hi_empunion, data[['ssiratio','multlc']])\n",
        "res_gmm = ivmod.fit()\n",
        "print(res_gmm)"
      ],
      "execution_count": 10,
      "outputs": [
        {
          "output_type": "stream",
          "text": [
            "/usr/local/lib/python3.6/dist-packages/linearmodels/utility.py:478: MissingValueWarning: \n",
            "Inputs contain missing values. Dropping rows with missing observations.\n",
            "  warnings.warn(missing_value_warning_msg, MissingValueWarning)\n"
          ],
          "name": "stderr"
        },
        {
          "output_type": "stream",
          "text": [
            "                          IV-GMM Estimation Summary                           \n",
            "==============================================================================\n",
            "Dep. Variable:               ldrugexp   R-squared:                      0.0406\n",
            "Estimator:                     IV-GMM   Adj. R-squared:                 0.0400\n",
            "No. Observations:               10089   F-statistic:                    1952.6\n",
            "Date:                Wed, Jul 31 2019   P-value (F-stat)                0.0000\n",
            "Time:                        19:17:47   Distribution:                  chi2(6)\n",
            "Cov. Estimator:                robust                                         \n",
            "                                                                              \n",
            "                              Parameter Estimates                              \n",
            "===============================================================================\n",
            "             Parameter  Std. Err.     T-stat    P-value    Lower CI    Upper CI\n",
            "-------------------------------------------------------------------------------\n",
            "const           6.8778     0.2580     26.658     0.0000      6.3722      7.3835\n",
            "totchr          0.4510     0.0103     43.738     0.0000      0.4307      0.4712\n",
            "female         -0.0282     0.0322    -0.8752     0.3815     -0.0913      0.0349\n",
            "age            -0.0142     0.0029    -4.8773     0.0000     -0.0198     -0.0085\n",
            "linc            0.0945     0.0219     4.3142     0.0000      0.0515      0.1374\n",
            "blhisp         -0.2231     0.0396    -5.6344     0.0000     -0.3007     -0.1455\n",
            "hi_empunion    -0.9933     0.2047    -4.8530     0.0000     -1.3944     -0.5921\n",
            "===============================================================================\n",
            "\n",
            "Endogenous: hi_empunion\n",
            "Instruments: ssiratio, multlc\n",
            "GMM Covariance\n",
            "Debiased: False\n",
            "Robust (Heteroskedastic)\n"
          ],
          "name": "stdout"
        }
      ]
    },
    {
      "cell_type": "code",
      "metadata": {
        "id": "Wn7336Z8YP5s",
        "colab_type": "code",
        "colab": {
          "base_uri": "https://localhost:8080/",
          "height": 559
        },
        "outputId": "650c4c84-7f29-4b74-82f8-615c92cae9b7"
      },
      "source": [
        "print(res_gmm.first_stage)"
      ],
      "execution_count": 11,
      "outputs": [
        {
          "output_type": "stream",
          "text": [
            "    First Stage Estimation Results    \n",
            "======================================\n",
            "                           hi_empunion\n",
            "--------------------------------------\n",
            "R-squared                       0.0794\n",
            "Partial R-squared               0.0215\n",
            "Shea's R-squared                0.0215\n",
            "Partial F-statistic             117.32\n",
            "P-value (Partial F-stat)        0.0000\n",
            "Partial F-stat Distn           chi2(2)\n",
            "========================== ===========\n",
            "const                           0.9834\n",
            "                              (16.780)\n",
            "totchr                          0.0133\n",
            "                              (3.6234)\n",
            "female                         -0.0727\n",
            "                             (-7.5644)\n",
            "age                            -0.0081\n",
            "                             (-11.311)\n",
            "linc                            0.0444\n",
            "                              (6.7838)\n",
            "blhisp                         -0.0679\n",
            "                             (-5.5484)\n",
            "ssiratio                       -0.1823\n",
            "                             (-7.8326)\n",
            "multlc                          0.1209\n",
            "                              (5.8212)\n",
            "--------------------------------------\n",
            "\n",
            "T-stats reported in parentheses\n",
            "T-stats use same covariance type as original model\n"
          ],
          "name": "stdout"
        }
      ]
    },
    {
      "cell_type": "code",
      "metadata": {
        "id": "M43uJa8mpnU0",
        "colab_type": "code",
        "colab": {
          "base_uri": "https://localhost:8080/",
          "height": 647
        },
        "outputId": "3f98007e-b2f7-4ecb-c745-8f7fe932def8"
      },
      "source": [
        "ivmod = IVLIML(data.ldrugexp, data[controls], \n",
        "               data.hi_empunion, data[['ssiratio','multlc']])\n",
        "res_liml = ivmod.fit(cov_type='robust')\n",
        "from linearmodels.iv.results import compare\n",
        "print(compare({'2SLS':res_2sls,'LIML': res_liml, 'GMM': res_gmm}))"
      ],
      "execution_count": 12,
      "outputs": [
        {
          "output_type": "stream",
          "text": [
            "                       Model Comparison                       \n",
            "==============================================================\n",
            "                              2SLS           GMM          LIML\n",
            "--------------------------------------------------------------\n",
            "Dep. Variable             ldrugexp      ldrugexp      ldrugexp\n",
            "Estimator                  IV-2SLS        IV-GMM       IV-LIML\n",
            "No. Observations             10089         10089         10089\n",
            "Cov. Est.                   robust        robust        robust\n",
            "R-squared                   0.0414        0.0406        0.0400\n",
            "Adj. R-squared              0.0409        0.0400        0.0394\n",
            "F-statistic                 1955.4        1952.6        1952.3\n",
            "P-value (F-stat)            0.0000        0.0000        0.0000\n",
            "==================     ===========   ===========   ===========\n",
            "const                       6.8752        6.8778        6.8807\n",
            "                          (26.660)      (26.658)      (26.577)\n",
            "totchr                      0.4512        0.4510        0.4513\n",
            "                          (43.769)      (43.738)      (43.730)\n",
            "female                     -0.0278       -0.0282       -0.0283\n",
            "                         (-0.8653)     (-0.8752)     (-0.8776)\n",
            "age                        -0.0141       -0.0142       -0.0142\n",
            "                         (-4.8753)     (-4.8773)     (-4.8781)\n",
            "linc                        0.0943        0.0945        0.0947\n",
            "                          (4.3079)      (4.3142)      (4.3114)\n",
            "blhisp                     -0.2237       -0.2231       -0.2241\n",
            "                         (-5.6514)     (-5.6344)     (-5.6531)\n",
            "hi_empunion                -0.9899       -0.9933       -0.9957\n",
            "                         (-4.8386)     (-4.8530)     (-4.8361)\n",
            "==================== ============= ============= =============\n",
            "Instruments               ssiratio      ssiratio      ssiratio\n",
            "                            multlc        multlc        multlc\n",
            "--------------------------------------------------------------\n",
            "\n",
            "T-stats reported in parentheses\n"
          ],
          "name": "stdout"
        },
        {
          "output_type": "stream",
          "text": [
            "/usr/local/lib/python3.6/dist-packages/linearmodels/utility.py:478: MissingValueWarning: \n",
            "Inputs contain missing values. Dropping rows with missing observations.\n",
            "  warnings.warn(missing_value_warning_msg, MissingValueWarning)\n"
          ],
          "name": "stderr"
        }
      ]
    },
    {
      "cell_type": "code",
      "metadata": {
        "id": "AgeoADuXqJcf",
        "colab_type": "code",
        "colab": {
          "base_uri": "https://localhost:8080/",
          "height": 104
        },
        "outputId": "2ab92476-e308-4f58-8e2f-3d7e36978ba0"
      },
      "source": [
        "res_gmm.j_stat"
      ],
      "execution_count": 13,
      "outputs": [
        {
          "output_type": "execute_result",
          "data": {
            "text/plain": [
              "H0: Expected moment conditions are equal to 0\n",
              "Statistic: 1.0475\n",
              "P-value: 0.3061\n",
              "Distributed: chi2(1)\n",
              "WaldTestStatistic, id: 0x7f99d2b90128"
            ]
          },
          "metadata": {
            "tags": []
          },
          "execution_count": 13
        }
      ]
    },
    {
      "cell_type": "code",
      "metadata": {
        "id": "Gv0LlH-6BpFg",
        "colab_type": "code",
        "colab": {
          "base_uri": "https://localhost:8080/",
          "height": 69
        },
        "outputId": "59ee4cdb-cd09-4201-af09-dca00ea22e19"
      },
      "source": [
        "ivmod = IVGMM(data.ldrugexp, data[controls],\n",
        "        data.hi_empunion, data[instruments])\n",
        "res_gmm_all = ivmod.fit()"
      ],
      "execution_count": 14,
      "outputs": [
        {
          "output_type": "stream",
          "text": [
            "/usr/local/lib/python3.6/dist-packages/linearmodels/utility.py:478: MissingValueWarning: \n",
            "Inputs contain missing values. Dropping rows with missing observations.\n",
            "  warnings.warn(missing_value_warning_msg, MissingValueWarning)\n"
          ],
          "name": "stderr"
        }
      ]
    },
    {
      "cell_type": "code",
      "metadata": {
        "id": "vDunCXx0cZwX",
        "colab_type": "code",
        "colab": {
          "base_uri": "https://localhost:8080/",
          "height": 489
        },
        "outputId": "5d015165-142e-4e20-e613-cb9494e8ac6c"
      },
      "source": [
        "print(res_gmm_all)"
      ],
      "execution_count": 15,
      "outputs": [
        {
          "output_type": "stream",
          "text": [
            "                          IV-GMM Estimation Summary                           \n",
            "==============================================================================\n",
            "Dep. Variable:               ldrugexp   R-squared:                      0.0829\n",
            "Estimator:                     IV-GMM   Adj. R-squared:                 0.0824\n",
            "No. Observations:               10089   F-statistic:                    2042.1\n",
            "Date:                Wed, Jul 31 2019   P-value (F-stat)                0.0000\n",
            "Time:                        19:17:49   Distribution:                  chi2(6)\n",
            "Cov. Estimator:                robust                                         \n",
            "                                                                              \n",
            "                              Parameter Estimates                              \n",
            "===============================================================================\n",
            "             Parameter  Std. Err.     T-stat    P-value    Lower CI    Upper CI\n",
            "-------------------------------------------------------------------------------\n",
            "const           6.7126     0.2426     27.670     0.0000      6.2371      7.1881\n",
            "totchr          0.4495     0.0100     44.738     0.0000      0.4298      0.4692\n",
            "female         -0.0105     0.0307    -0.3406     0.7334     -0.0706      0.0497\n",
            "age            -0.0125     0.0027    -4.5364     0.0000     -0.0178     -0.0071\n",
            "linc            0.0797     0.0203     3.9162     0.0001      0.0398      0.1195\n",
            "blhisp         -0.2061     0.0383    -5.3828     0.0000     -0.2811     -0.1311\n",
            "hi_empunion    -0.8124     0.1846    -4.3999     0.0000     -1.1743     -0.4505\n",
            "===============================================================================\n",
            "\n",
            "Endogenous: hi_empunion\n",
            "Instruments: ssiratio, lowincome, multlc, firmsz\n",
            "GMM Covariance\n",
            "Debiased: False\n",
            "Robust (Heteroskedastic)\n"
          ],
          "name": "stdout"
        }
      ]
    },
    {
      "cell_type": "code",
      "metadata": {
        "id": "eJy8-o2JcnZj",
        "colab_type": "code",
        "colab": {
          "base_uri": "https://localhost:8080/",
          "height": 629
        },
        "outputId": "f3611ec6-7224-4688-8f74-c0ca5a17d01e"
      },
      "source": [
        "print(res_gmm_all.first_stage)"
      ],
      "execution_count": 16,
      "outputs": [
        {
          "output_type": "stream",
          "text": [
            "    First Stage Estimation Results    \n",
            "======================================\n",
            "                           hi_empunion\n",
            "--------------------------------------\n",
            "R-squared                       0.0821\n",
            "Partial R-squared               0.0243\n",
            "Shea's R-squared                0.0243\n",
            "Partial F-statistic             179.47\n",
            "P-value (Partial F-stat)        0.0000\n",
            "Partial F-stat Distn           chi2(4)\n",
            "========================== ===========\n",
            "const                           0.9899\n",
            "                              (16.959)\n",
            "totchr                          0.0133\n",
            "                              (3.6494)\n",
            "female                         -0.0724\n",
            "                             (-7.5497)\n",
            "age                            -0.0080\n",
            "                             (-11.206)\n",
            "linc                            0.0410\n",
            "                              (6.3552)\n",
            "blhisp                         -0.0676\n",
            "                             (-5.5369)\n",
            "ssiratio                       -0.1690\n",
            "                             (-7.3289)\n",
            "lowincome                      -0.0637\n",
            "                             (-5.1947)\n",
            "multlc                          0.1151\n",
            "                              (5.4799)\n",
            "firmsz                          0.0037\n",
            "                              (1.9286)\n",
            "--------------------------------------\n",
            "\n",
            "T-stats reported in parentheses\n",
            "T-stats use same covariance type as original model\n"
          ],
          "name": "stdout"
        }
      ]
    },
    {
      "cell_type": "code",
      "metadata": {
        "id": "MD018fs8c8wj",
        "colab_type": "code",
        "colab": {
          "base_uri": "https://localhost:8080/",
          "height": 104
        },
        "outputId": "12376d06-0478-46fb-cd2c-bdccdeb21e1f"
      },
      "source": [
        "res_gmm_all.j_stat"
      ],
      "execution_count": 17,
      "outputs": [
        {
          "output_type": "execute_result",
          "data": {
            "text/plain": [
              "H0: Expected moment conditions are equal to 0\n",
              "Statistic: 11.5903\n",
              "P-value: 0.0089\n",
              "Distributed: chi2(3)\n",
              "WaldTestStatistic, id: 0x7f99d2bfccc0"
            ]
          },
          "metadata": {
            "tags": []
          },
          "execution_count": 17
        }
      ]
    }
  ]
}