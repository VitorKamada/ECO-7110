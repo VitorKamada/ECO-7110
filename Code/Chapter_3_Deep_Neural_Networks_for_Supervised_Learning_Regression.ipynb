{
  "nbformat": 4,
  "nbformat_minor": 0,
  "metadata": {
    "kernelspec": {
      "display_name": "Python 3",
      "language": "python",
      "name": "python3"
    },
    "language_info": {
      "codemirror_mode": {
        "name": "ipython",
        "version": 3
      },
      "file_extension": ".py",
      "mimetype": "text/x-python",
      "name": "python",
      "nbconvert_exporter": "python",
      "pygments_lexer": "ipython3",
      "version": "3.6.5"
    },
    "colab": {
      "name": "Chapter 3 - Deep Neural Networks for Supervised Learning - Regression.ipynb",
      "provenance": []
    }
  },
  "cells": [
    {
      "cell_type": "markdown",
      "metadata": {
        "id": "HdpOrfCgwyau",
        "colab_type": "text"
      },
      "source": [
        "# Learn Keras for Deep Neural Networks\n",
        "## Chapter 3 - Deep Neural Networks for Supervised Learning - Regression"
      ]
    },
    {
      "cell_type": "code",
      "metadata": {
        "id": "DeIu0Bljwyav",
        "colab_type": "code",
        "colab": {}
      },
      "source": [
        "import pandas as pd\n",
        "import seaborn as sns\n",
        "import numpy as np\n",
        "%matplotlib inline\n",
        "from sklearn.model_selection import train_test_split\n",
        "from sklearn.preprocessing import LabelEncoder, OneHotEncoder\n",
        "\n"
      ],
      "execution_count": 0,
      "outputs": []
    },
    {
      "cell_type": "code",
      "metadata": {
        "id": "7o0GSSDBw0ee",
        "colab_type": "code",
        "colab": {
          "base_uri": "https://localhost:8080/",
          "height": 71
        },
        "outputId": "94ed7030-06bd-4fe5-a912-11f6f01d3698"
      },
      "source": [
        "file = \"https://github.com/VitorKamada/ECO7110/raw/master/Data/Rossmann/train.zip\" \n",
        "df  = pd.read_csv(file)"
      ],
      "execution_count": 9,
      "outputs": [
        {
          "output_type": "stream",
          "text": [
            "/usr/local/lib/python3.6/dist-packages/IPython/core/interactiveshell.py:2718: DtypeWarning: Columns (7) have mixed types. Specify dtype option on import or set low_memory=False.\n",
            "  interactivity=interactivity, compiler=compiler, result=result)\n"
          ],
          "name": "stderr"
        }
      ]
    },
    {
      "cell_type": "code",
      "metadata": {
        "id": "5g7DqVGlwya0",
        "colab_type": "code",
        "colab": {
          "base_uri": "https://localhost:8080/",
          "height": 220
        },
        "outputId": "c596a76a-5ad1-4d25-fe49-ba6e75190adf"
      },
      "source": [
        "print(\"Shape of the Dataset:\",df.shape)\n",
        "#the head method displays the first 5 rows of the data\n",
        "df.head(5)  \n"
      ],
      "execution_count": 10,
      "outputs": [
        {
          "output_type": "stream",
          "text": [
            "Shape of the Dataset: (1017209, 9)\n"
          ],
          "name": "stdout"
        },
        {
          "output_type": "execute_result",
          "data": {
            "text/html": [
              "<div>\n",
              "<style scoped>\n",
              "    .dataframe tbody tr th:only-of-type {\n",
              "        vertical-align: middle;\n",
              "    }\n",
              "\n",
              "    .dataframe tbody tr th {\n",
              "        vertical-align: top;\n",
              "    }\n",
              "\n",
              "    .dataframe thead th {\n",
              "        text-align: right;\n",
              "    }\n",
              "</style>\n",
              "<table border=\"1\" class=\"dataframe\">\n",
              "  <thead>\n",
              "    <tr style=\"text-align: right;\">\n",
              "      <th></th>\n",
              "      <th>Store</th>\n",
              "      <th>DayOfWeek</th>\n",
              "      <th>Date</th>\n",
              "      <th>Sales</th>\n",
              "      <th>Customers</th>\n",
              "      <th>Open</th>\n",
              "      <th>Promo</th>\n",
              "      <th>StateHoliday</th>\n",
              "      <th>SchoolHoliday</th>\n",
              "    </tr>\n",
              "  </thead>\n",
              "  <tbody>\n",
              "    <tr>\n",
              "      <th>0</th>\n",
              "      <td>1</td>\n",
              "      <td>5</td>\n",
              "      <td>2015-07-31</td>\n",
              "      <td>5263</td>\n",
              "      <td>555</td>\n",
              "      <td>1</td>\n",
              "      <td>1</td>\n",
              "      <td>0</td>\n",
              "      <td>1</td>\n",
              "    </tr>\n",
              "    <tr>\n",
              "      <th>1</th>\n",
              "      <td>2</td>\n",
              "      <td>5</td>\n",
              "      <td>2015-07-31</td>\n",
              "      <td>6064</td>\n",
              "      <td>625</td>\n",
              "      <td>1</td>\n",
              "      <td>1</td>\n",
              "      <td>0</td>\n",
              "      <td>1</td>\n",
              "    </tr>\n",
              "    <tr>\n",
              "      <th>2</th>\n",
              "      <td>3</td>\n",
              "      <td>5</td>\n",
              "      <td>2015-07-31</td>\n",
              "      <td>8314</td>\n",
              "      <td>821</td>\n",
              "      <td>1</td>\n",
              "      <td>1</td>\n",
              "      <td>0</td>\n",
              "      <td>1</td>\n",
              "    </tr>\n",
              "    <tr>\n",
              "      <th>3</th>\n",
              "      <td>4</td>\n",
              "      <td>5</td>\n",
              "      <td>2015-07-31</td>\n",
              "      <td>13995</td>\n",
              "      <td>1498</td>\n",
              "      <td>1</td>\n",
              "      <td>1</td>\n",
              "      <td>0</td>\n",
              "      <td>1</td>\n",
              "    </tr>\n",
              "    <tr>\n",
              "      <th>4</th>\n",
              "      <td>5</td>\n",
              "      <td>5</td>\n",
              "      <td>2015-07-31</td>\n",
              "      <td>4822</td>\n",
              "      <td>559</td>\n",
              "      <td>1</td>\n",
              "      <td>1</td>\n",
              "      <td>0</td>\n",
              "      <td>1</td>\n",
              "    </tr>\n",
              "  </tbody>\n",
              "</table>\n",
              "</div>"
            ],
            "text/plain": [
              "   Store  DayOfWeek        Date  Sales  ...  Open  Promo  StateHoliday SchoolHoliday\n",
              "0      1          5  2015-07-31   5263  ...     1      1             0             1\n",
              "1      2          5  2015-07-31   6064  ...     1      1             0             1\n",
              "2      3          5  2015-07-31   8314  ...     1      1             0             1\n",
              "3      4          5  2015-07-31  13995  ...     1      1             0             1\n",
              "4      5          5  2015-07-31   4822  ...     1      1             0             1\n",
              "\n",
              "[5 rows x 9 columns]"
            ]
          },
          "metadata": {
            "tags": []
          },
          "execution_count": 10
        }
      ]
    },
    {
      "cell_type": "code",
      "metadata": {
        "id": "HTNHC65bwya3",
        "colab_type": "code",
        "colab": {
          "base_uri": "https://localhost:8080/",
          "height": 240
        },
        "outputId": "095f0679-1d8a-4925-f2ad-a713a24baa71"
      },
      "source": [
        "store  = pd.read_csv(\"https://github.com/VitorKamada/ECO7110/raw/master/Data/Rossmann/store.csv\")\n",
        "print(\"Shape of the Dataset:\",store.shape)\n",
        "\n",
        "#Display the first 5 rows of data using the head method of pandas dataframe\n",
        "store.head(5)\n"
      ],
      "execution_count": 11,
      "outputs": [
        {
          "output_type": "stream",
          "text": [
            "Shape of the Dataset: (1115, 10)\n"
          ],
          "name": "stdout"
        },
        {
          "output_type": "execute_result",
          "data": {
            "text/html": [
              "<div>\n",
              "<style scoped>\n",
              "    .dataframe tbody tr th:only-of-type {\n",
              "        vertical-align: middle;\n",
              "    }\n",
              "\n",
              "    .dataframe tbody tr th {\n",
              "        vertical-align: top;\n",
              "    }\n",
              "\n",
              "    .dataframe thead th {\n",
              "        text-align: right;\n",
              "    }\n",
              "</style>\n",
              "<table border=\"1\" class=\"dataframe\">\n",
              "  <thead>\n",
              "    <tr style=\"text-align: right;\">\n",
              "      <th></th>\n",
              "      <th>Store</th>\n",
              "      <th>StoreType</th>\n",
              "      <th>Assortment</th>\n",
              "      <th>CompetitionDistance</th>\n",
              "      <th>CompetitionOpenSinceMonth</th>\n",
              "      <th>CompetitionOpenSinceYear</th>\n",
              "      <th>Promo2</th>\n",
              "      <th>Promo2SinceWeek</th>\n",
              "      <th>Promo2SinceYear</th>\n",
              "      <th>PromoInterval</th>\n",
              "    </tr>\n",
              "  </thead>\n",
              "  <tbody>\n",
              "    <tr>\n",
              "      <th>0</th>\n",
              "      <td>1</td>\n",
              "      <td>c</td>\n",
              "      <td>a</td>\n",
              "      <td>1270.0</td>\n",
              "      <td>9.0</td>\n",
              "      <td>2008.0</td>\n",
              "      <td>0</td>\n",
              "      <td>NaN</td>\n",
              "      <td>NaN</td>\n",
              "      <td>NaN</td>\n",
              "    </tr>\n",
              "    <tr>\n",
              "      <th>1</th>\n",
              "      <td>2</td>\n",
              "      <td>a</td>\n",
              "      <td>a</td>\n",
              "      <td>570.0</td>\n",
              "      <td>11.0</td>\n",
              "      <td>2007.0</td>\n",
              "      <td>1</td>\n",
              "      <td>13.0</td>\n",
              "      <td>2010.0</td>\n",
              "      <td>Jan,Apr,Jul,Oct</td>\n",
              "    </tr>\n",
              "    <tr>\n",
              "      <th>2</th>\n",
              "      <td>3</td>\n",
              "      <td>a</td>\n",
              "      <td>a</td>\n",
              "      <td>14130.0</td>\n",
              "      <td>12.0</td>\n",
              "      <td>2006.0</td>\n",
              "      <td>1</td>\n",
              "      <td>14.0</td>\n",
              "      <td>2011.0</td>\n",
              "      <td>Jan,Apr,Jul,Oct</td>\n",
              "    </tr>\n",
              "    <tr>\n",
              "      <th>3</th>\n",
              "      <td>4</td>\n",
              "      <td>c</td>\n",
              "      <td>c</td>\n",
              "      <td>620.0</td>\n",
              "      <td>9.0</td>\n",
              "      <td>2009.0</td>\n",
              "      <td>0</td>\n",
              "      <td>NaN</td>\n",
              "      <td>NaN</td>\n",
              "      <td>NaN</td>\n",
              "    </tr>\n",
              "    <tr>\n",
              "      <th>4</th>\n",
              "      <td>5</td>\n",
              "      <td>a</td>\n",
              "      <td>a</td>\n",
              "      <td>29910.0</td>\n",
              "      <td>4.0</td>\n",
              "      <td>2015.0</td>\n",
              "      <td>0</td>\n",
              "      <td>NaN</td>\n",
              "      <td>NaN</td>\n",
              "      <td>NaN</td>\n",
              "    </tr>\n",
              "  </tbody>\n",
              "</table>\n",
              "</div>"
            ],
            "text/plain": [
              "   Store StoreType  ... Promo2SinceYear    PromoInterval\n",
              "0      1         c  ...             NaN              NaN\n",
              "1      2         a  ...          2010.0  Jan,Apr,Jul,Oct\n",
              "2      3         a  ...          2011.0  Jan,Apr,Jul,Oct\n",
              "3      4         c  ...             NaN              NaN\n",
              "4      5         a  ...             NaN              NaN\n",
              "\n",
              "[5 rows x 10 columns]"
            ]
          },
          "metadata": {
            "tags": []
          },
          "execution_count": 11
        }
      ]
    },
    {
      "cell_type": "markdown",
      "metadata": {
        "id": "NsGEzSm5wya7",
        "colab_type": "text"
      },
      "source": [
        "# Metadata\n",
        "*\t**Store** - a unique Id for each store\n",
        "*\t**Sales** - the turnover for a given day (Our target y variable)\n",
        "*\t**Customers** - the number of customers on a given day\n",
        "*\t**Open** - an indicator for whether the store was open: 0 = closed, 1 = open\n",
        "*\t**StateHoliday** - indicates a state holiday. Normally all stores, with few exceptions, are closed on state holidays. Note that all schools are closed on public holidays and weekends. a = public holiday, b = Easter holiday, c = Christmas, 0 = None\n",
        "*\t**SchoolHoliday** - indicates if the (Store, Date) was affected by the closure of public schools\n",
        "*\t**StoreType** - differentiates between 4 different store models: a, b, c, d\n",
        "*\t**Assortment** - describes an assortment level: a = basic, b = extra, c = extended\n",
        "*\t**CompetitionDistance** - distance in meters to the nearest competitor store\n",
        "*\t**CompetitionOpenSince[Month/Year]** - gives the approximate year and month of the time the nearest competitor was opened\n",
        "*\t**Promo **- indicates whether a store is running a promo on that day\n",
        "*\t**Promo2** - Promo2 is a continuing and consecutive promotion for some stores: 0 = store is not participating, 1 = store is participating\n",
        "*\t**Promo2Since[Year/Week]** - describes the year and calendar week when the store started participating in Promo2\n",
        "*\t**PromoInterval** - describes the consecutive intervals Promo2 is started, naming the months the promotion is started anew. E.g. \"Feb,May,Aug,Nov\" means each round starts in February, May, August, November of any given year for that store\n"
      ]
    },
    {
      "cell_type": "markdown",
      "metadata": {
        "id": "D2qRiwy6wya8",
        "colab_type": "text"
      },
      "source": [
        "### Data Exploration"
      ]
    },
    {
      "cell_type": "code",
      "metadata": {
        "id": "P3-W9Hpqwya9",
        "colab_type": "code",
        "colab": {
          "base_uri": "https://localhost:8080/",
          "height": 34
        },
        "outputId": "2668e636-1c79-462c-9bb4-d9dee24395b3"
      },
      "source": [
        "df_new = df.merge(store,on=[\"Store\"], how=\"inner\")\n",
        "print(df_new.shape)\n"
      ],
      "execution_count": 12,
      "outputs": [
        {
          "output_type": "stream",
          "text": [
            "(1017209, 18)\n"
          ],
          "name": "stdout"
        }
      ]
    },
    {
      "cell_type": "code",
      "metadata": {
        "id": "ipK3x1bOwya_",
        "colab_type": "code",
        "colab": {
          "base_uri": "https://localhost:8080/",
          "height": 68
        },
        "outputId": "e6c8e7c6-e2f6-4aa2-c735-602617aca188"
      },
      "source": [
        "print(\"Distinct number of Stores :\", len(df_new[\"Store\"].unique()))\n",
        "print(\"Distinct number of Days :\", len(df_new[\"Date\"].unique()))\n",
        "print(\"Average daily sales of all stores : \",round(df_new[\"Sales\"].mean(),2))\n"
      ],
      "execution_count": 13,
      "outputs": [
        {
          "output_type": "stream",
          "text": [
            "Distinct number of Stores : 1115\n",
            "Distinct number of Days : 942\n",
            "Average daily sales of all stores :  5773.82\n"
          ],
          "name": "stdout"
        }
      ]
    },
    {
      "cell_type": "code",
      "metadata": {
        "id": "4ZhMFgq8wybC",
        "colab_type": "code",
        "colab": {
          "base_uri": "https://localhost:8080/",
          "height": 345
        },
        "outputId": "5913c2b5-18cf-4d2a-e9f0-7cbb434f76f9"
      },
      "source": [
        "df_new.dtypes"
      ],
      "execution_count": 14,
      "outputs": [
        {
          "output_type": "execute_result",
          "data": {
            "text/plain": [
              "Store                          int64\n",
              "DayOfWeek                      int64\n",
              "Date                          object\n",
              "Sales                          int64\n",
              "Customers                      int64\n",
              "Open                           int64\n",
              "Promo                          int64\n",
              "StateHoliday                  object\n",
              "SchoolHoliday                  int64\n",
              "StoreType                     object\n",
              "Assortment                    object\n",
              "CompetitionDistance          float64\n",
              "CompetitionOpenSinceMonth    float64\n",
              "CompetitionOpenSinceYear     float64\n",
              "Promo2                         int64\n",
              "Promo2SinceWeek              float64\n",
              "Promo2SinceYear              float64\n",
              "PromoInterval                 object\n",
              "dtype: object"
            ]
          },
          "metadata": {
            "tags": []
          },
          "execution_count": 14
        }
      ]
    },
    {
      "cell_type": "code",
      "metadata": {
        "id": "8YcnXSzrwybE",
        "colab_type": "code",
        "colab": {
          "base_uri": "https://localhost:8080/",
          "height": 155
        },
        "outputId": "2663054a-62a5-4232-8679-a98f2e169363"
      },
      "source": [
        "df_new[\"DayOfWeek\"].value_counts()"
      ],
      "execution_count": 15,
      "outputs": [
        {
          "output_type": "execute_result",
          "data": {
            "text/plain": [
              "5    145845\n",
              "4    145845\n",
              "3    145665\n",
              "2    145664\n",
              "7    144730\n",
              "6    144730\n",
              "1    144730\n",
              "Name: DayOfWeek, dtype: int64"
            ]
          },
          "metadata": {
            "tags": []
          },
          "execution_count": 15
        }
      ]
    },
    {
      "cell_type": "code",
      "metadata": {
        "id": "rR9qCy0zwybG",
        "colab_type": "code",
        "colab": {
          "base_uri": "https://localhost:8080/",
          "height": 120
        },
        "outputId": "948e848b-e6fc-4c53-d4b0-4528219c06d5"
      },
      "source": [
        "#We can extract all date properties from a datetime datatype \n",
        "df_new[\"Date\"] = pd.to_datetime(df_new[\"Date\"])\n",
        "df_new[\"Month\"] = df_new[\"Date\"].dt.month\n",
        "df_new[\"Quarter\"] = df_new[\"Date\"].dt.quarter\n",
        "df_new[\"Year\"] = df_new[\"Date\"].dt.year\n",
        "df_new[\"Day\"] = df_new[\"Date\"].dt.day\n",
        "df_new[\"Week\"] = df_new[\"Date\"].dt.week\n",
        "\n",
        "df_new[\"Season\"] = np.where(df_new[\"Month\"].isin([3,4,5]),\"Spring\",\n",
        "                        np.where(df_new[\"Month\"].isin([6,7,8]),\"Summer\",\n",
        "                            np.where(df_new[\"Month\"].isin([9,10,11]),\"Fall\",\n",
        "                                np.where(df_new[\"Month\"].isin([12,1,2]),\"Winter\",\"None\"))))\n",
        "\n",
        "#Using the head command to view (only) the data and the newly engineered features\n",
        "print(df_new[[\"Date\",\"Year\",\"Month\",\"Day\",\"Week\",\"Quarter\",\"Season\"]].head())\n"
      ],
      "execution_count": 16,
      "outputs": [
        {
          "output_type": "stream",
          "text": [
            "        Date  Year  Month  Day  Week  Quarter  Season\n",
            "0 2015-07-31  2015      7   31    31        3  Summer\n",
            "1 2015-07-30  2015      7   30    31        3  Summer\n",
            "2 2015-07-29  2015      7   29    31        3  Summer\n",
            "3 2015-07-28  2015      7   28    31        3  Summer\n",
            "4 2015-07-27  2015      7   27    31        3  Summer\n"
          ],
          "name": "stdout"
        }
      ]
    },
    {
      "cell_type": "code",
      "metadata": {
        "id": "-BsNQAmLwybH",
        "colab_type": "code",
        "colab": {
          "base_uri": "https://localhost:8080/",
          "height": 513
        },
        "outputId": "9808f910-ab84-4723-d240-837e39d68dc1"
      },
      "source": [
        "#Import matplotlib, python most popular data visualizing library\n",
        "import matplotlib.pyplot as plt\n",
        "%matplotlib inline\n",
        "\n",
        "#Create a histogram to study the Daily Sales for the stores\n",
        "plt.figure(figsize=(15,8)) \n",
        "plt.hist(df_new[\"Sales\"])  \n",
        "plt.title(\"Histogram for Store Sales\")\n",
        "plt.xlabel(\"bins\")\n",
        "plt.xlabel(\"Frequency\")\n",
        "plt.show()\n"
      ],
      "execution_count": 17,
      "outputs": [
        {
          "output_type": "display_data",
          "data": {
            "image/png": "[encoded data removed]",
            "text/plain": [
              "<Figure size 1080x576 with 1 Axes>"
            ]
          },
          "metadata": {
            "tags": []
          }
        }
      ]
    },
    {
      "cell_type": "code",
      "metadata": {
        "id": "wXqJqaC-wybJ",
        "colab_type": "code",
        "colab": {
          "base_uri": "https://localhost:8080/",
          "height": 989
        },
        "outputId": "6943bd3d-9254-4bcc-8243-644fb1a300e6"
      },
      "source": [
        "#Use the  histogram function provided by the Pandas object\n",
        "#The function returns a cross-tab histogram plot for all numeric columns in the data\n",
        "df_new.hist(figsize=(20,10))\n"
      ],
      "execution_count": 18,
      "outputs": [
        {
          "output_type": "execute_result",
          "data": {
            "text/plain": [
              "array([[<matplotlib.axes._subplots.AxesSubplot object at 0x7ffb3931fa20>,\n",
              "        <matplotlib.axes._subplots.AxesSubplot object at 0x7ffb356949b0>,\n",
              "        <matplotlib.axes._subplots.AxesSubplot object at 0x7ffb356c2f60>,\n",
              "        <matplotlib.axes._subplots.AxesSubplot object at 0x7ffb3567b550>],\n",
              "       [<matplotlib.axes._subplots.AxesSubplot object at 0x7ffb3562ab00>,\n",
              "        <matplotlib.axes._subplots.AxesSubplot object at 0x7ffb355e40f0>,\n",
              "        <matplotlib.axes._subplots.AxesSubplot object at 0x7ffb355916a0>,\n",
              "        <matplotlib.axes._subplots.AxesSubplot object at 0x7ffb355c1c88>],\n",
              "       [<matplotlib.axes._subplots.AxesSubplot object at 0x7ffb355c1cc0>,\n",
              "        <matplotlib.axes._subplots.AxesSubplot object at 0x7ffb3552a7f0>,\n",
              "        <matplotlib.axes._subplots.AxesSubplot object at 0x7ffb354deda0>,\n",
              "        <matplotlib.axes._subplots.AxesSubplot object at 0x7ffb3549c390>],\n",
              "       [<matplotlib.axes._subplots.AxesSubplot object at 0x7ffb3544a940>,\n",
              "        <matplotlib.axes._subplots.AxesSubplot object at 0x7ffb3547eef0>,\n",
              "        <matplotlib.axes._subplots.AxesSubplot object at 0x7ffb3543a4e0>,\n",
              "        <matplotlib.axes._subplots.AxesSubplot object at 0x7ffb353eaa90>],\n",
              "       [<matplotlib.axes._subplots.AxesSubplot object at 0x7ffb353ac080>,\n",
              "        <matplotlib.axes._subplots.AxesSubplot object at 0x7ffb35359630>,\n",
              "        <matplotlib.axes._subplots.AxesSubplot object at 0x7ffb3530cbe0>,\n",
              "        <matplotlib.axes._subplots.AxesSubplot object at 0x7ffb352c91d0>]],\n",
              "      dtype=object)"
            ]
          },
          "metadata": {
            "tags": []
          },
          "execution_count": 18
        },
        {
          "output_type": "display_data",
          "data": {
            "image/png": "[encoded data removed]",
            "text/plain": [
              "<Figure size 1440x720 with 20 Axes>"
            ]
          },
          "metadata": {
            "tags": []
          }
        }
      ]
    },
    {
      "cell_type": "code",
      "metadata": {
        "id": "cC7AsDGJwybL",
        "colab_type": "code",
        "colab": {
          "base_uri": "https://localhost:8080/",
          "height": 448
        },
        "outputId": "8164cd06-021b-42d2-db72-75c3d1d9cff1"
      },
      "source": [
        "df_new.isnull().sum()/df_new.shape[0] * 100"
      ],
      "execution_count": 19,
      "outputs": [
        {
          "output_type": "execute_result",
          "data": {
            "text/plain": [
              "Store                         0.000000\n",
              "DayOfWeek                     0.000000\n",
              "Date                          0.000000\n",
              "Sales                         0.000000\n",
              "Customers                     0.000000\n",
              "Open                          0.000000\n",
              "Promo                         0.000000\n",
              "StateHoliday                  0.000000\n",
              "SchoolHoliday                 0.000000\n",
              "StoreType                     0.000000\n",
              "Assortment                    0.000000\n",
              "CompetitionDistance           0.259730\n",
              "CompetitionOpenSinceMonth    31.787764\n",
              "CompetitionOpenSinceYear     31.787764\n",
              "Promo2                        0.000000\n",
              "Promo2SinceWeek              49.943620\n",
              "Promo2SinceYear              49.943620\n",
              "PromoInterval                49.943620\n",
              "Month                         0.000000\n",
              "Quarter                       0.000000\n",
              "Year                          0.000000\n",
              "Day                           0.000000\n",
              "Week                          0.000000\n",
              "Season                        0.000000\n",
              "dtype: float64"
            ]
          },
          "metadata": {
            "tags": []
          },
          "execution_count": 19
        }
      ]
    },
    {
      "cell_type": "code",
      "metadata": {
        "id": "yIEZdACiwybN",
        "colab_type": "code",
        "colab": {
          "base_uri": "https://localhost:8080/",
          "height": 34
        },
        "outputId": "129f8bfe-eb62-47dd-cd00-787a426c278c"
      },
      "source": [
        "#Replace nulls with the mode\n",
        "df_new[\"CompetitionDistance\"]= df_new[\"CompetitionDistance\"].fillna(df_new[\"CompetitionDistance\"].mode()[0])\n",
        "\n",
        "#Double check if we still see nulls for the column\n",
        "df_new[\"CompetitionDistance\"].isnull().sum()/df_new.shape[0] * 100\n"
      ],
      "execution_count": 20,
      "outputs": [
        {
          "output_type": "execute_result",
          "data": {
            "text/plain": [
              "0.0"
            ]
          },
          "metadata": {
            "tags": []
          },
          "execution_count": 20
        }
      ]
    },
    {
      "cell_type": "code",
      "metadata": {
        "id": "LBV7U3h8wybO",
        "colab_type": "code",
        "colab": {
          "base_uri": "https://localhost:8080/",
          "height": 285
        },
        "outputId": "d8fd6833-d6df-468d-be2e-216b7faac2a2"
      },
      "source": [
        "import seaborn as sns  #Seaborn is another powerful visulization library for Python\n",
        "sns.set(style=\"whitegrid\")\n",
        "\n",
        "#Create the bar plot for Average Sales acrss different Seasons\n",
        "ax = sns.barplot(x=\"Season\", y=\"Sales\", data=df_new) \n",
        "\n"
      ],
      "execution_count": 21,
      "outputs": [
        {
          "output_type": "display_data",
          "data": {
            "image/png": "[encoded data removed]",
            "text/plain": [
              "<Figure size 432x288 with 1 Axes>"
            ]
          },
          "metadata": {
            "tags": []
          }
        }
      ]
    },
    {
      "cell_type": "code",
      "metadata": {
        "id": "QXWcI5wDwybQ",
        "colab_type": "code",
        "colab": {
          "base_uri": "https://localhost:8080/",
          "height": 285
        },
        "outputId": "fdd7543e-8b71-4064-9e50-d5e9cd8792e7"
      },
      "source": [
        "#Create the bar plot for Average Sales acrss different Assortments\n",
        "ax = sns.barplot(x=\"Assortment\", y=\"Sales\", data=df_new) \n"
      ],
      "execution_count": 22,
      "outputs": [
        {
          "output_type": "display_data",
          "data": {
            "image/png": "[encoded data removed]",
            "text/plain": [
              "<Figure size 432x288 with 1 Axes>"
            ]
          },
          "metadata": {
            "tags": []
          }
        }
      ]
    },
    {
      "cell_type": "code",
      "metadata": {
        "id": "adNtMZ2BwybS",
        "colab_type": "code",
        "colab": {
          "base_uri": "https://localhost:8080/",
          "height": 285
        },
        "outputId": "e16ac449-072b-4c63-9be6-00470d3ba402"
      },
      "source": [
        "#Create the bar plot for Average Sales acrss different Store Types\n",
        "ax = sns.barplot(x=\"StoreType\", y=\"Sales\", data=df_new) \n"
      ],
      "execution_count": 23,
      "outputs": [
        {
          "output_type": "display_data",
          "data": {
            "image/png": "[encoded data removed]",
            "text/plain": [
              "<Figure size 432x288 with 1 Axes>"
            ]
          },
          "metadata": {
            "tags": []
          }
        }
      ]
    },
    {
      "cell_type": "code",
      "metadata": {
        "id": "rWjCm10QwybT",
        "colab_type": "code",
        "colab": {
          "base_uri": "https://localhost:8080/",
          "height": 285
        },
        "outputId": "148cf404-de2f-44aa-9003-641e5c27842b"
      },
      "source": [
        "ax = sns.barplot(x=\"Season\", y=\"Sales\", data=df_new,estimator=np.size) "
      ],
      "execution_count": 24,
      "outputs": [
        {
          "output_type": "display_data",
          "data": {
            "image/png": "[encoded data removed]",
            "text/plain": [
              "<Figure size 432x288 with 1 Axes>"
            ]
          },
          "metadata": {
            "tags": []
          }
        }
      ]
    },
    {
      "cell_type": "code",
      "metadata": {
        "id": "QnH4zFnqwybV",
        "colab_type": "code",
        "colab": {
          "base_uri": "https://localhost:8080/",
          "height": 285
        },
        "outputId": "85e0e0a1-f4cd-4cda-9595-58e431aad2ab"
      },
      "source": [
        "ax = sns.barplot(x=\"Assortment\", y=\"Sales\", data=df_new,estimator=np.size) "
      ],
      "execution_count": 25,
      "outputs": [
        {
          "output_type": "display_data",
          "data": {
            "image/png": "[encoded data removed]",
            "text/plain": [
              "<Figure size 432x288 with 1 Axes>"
            ]
          },
          "metadata": {
            "tags": []
          }
        }
      ]
    },
    {
      "cell_type": "code",
      "metadata": {
        "id": "HPoroNVIwybX",
        "colab_type": "code",
        "colab": {
          "base_uri": "https://localhost:8080/",
          "height": 285
        },
        "outputId": "9a0008a3-53cb-479a-e878-25fbe1b8bd4a"
      },
      "source": [
        "ax = sns.barplot(x=\"StoreType\", y=\"Sales\", data=df_new,estimator=np.size)"
      ],
      "execution_count": 26,
      "outputs": [
        {
          "output_type": "display_data",
          "data": {
            "image/png": "[encoded data removed]",
            "text/plain": [
              "<Figure size 432x288 with 1 Axes>"
            ]
          },
          "metadata": {
            "tags": []
          }
        }
      ]
    },
    {
      "cell_type": "markdown",
      "metadata": {
        "id": "F4f6TAJowybZ",
        "colab_type": "text"
      },
      "source": [
        "### Data Engineering"
      ]
    },
    {
      "cell_type": "code",
      "metadata": {
        "id": "2mxEY-mgwybZ",
        "colab_type": "code",
        "colab": {
          "base_uri": "https://localhost:8080/",
          "height": 520
        },
        "outputId": "90287f88-67fe-4485-bf00-e69107338feb"
      },
      "source": [
        "#Define a variable for each type of feature\n",
        "target = [\"Sales\"]\n",
        "numeric_columns = [\"Customers\",\"Open\",\"Promo\",\"Promo2\",\"StateHoliday\",\"SchoolHoliday\",\"CompetitionDistance\"]\n",
        "categorical_columns = [\"DayOfWeek\",\"Quarter\",\"Month\",\"Year\", \"StoreType\",\"Assortment\",\"Season\"]\n",
        "\n",
        "#Define a function that will intake the raw dataframe and the column name and return a one hot encoded DF\n",
        "def create_ohe(df, col):\n",
        "    le = LabelEncoder()\n",
        "    a=le.fit_transform(df_new[col]).reshape(-1,1)\n",
        "    ohe = OneHotEncoder(sparse=False)\n",
        "    column_names = [col+ \"_\"+ str(i) for i in le.classes_]\n",
        "    return(pd.DataFrame(ohe.fit_transform(a),columns =column_names))\n",
        "\n",
        "#Since the above function coverts the column, one at a time\n",
        "#We create a loop to create the final dataset with all features\n",
        "temp = df_new[numeric_columns]\n",
        "for column in categorical_columns:\n",
        "    temp_df = create_ohe(df_new,column)\n",
        "    temp = pd.concat([temp,temp_df],axis=1)\n"
      ],
      "execution_count": 27,
      "outputs": [
        {
          "output_type": "stream",
          "text": [
            "/usr/local/lib/python3.6/dist-packages/sklearn/preprocessing/_encoders.py:415: FutureWarning: The handling of integer data will change in version 0.22. Currently, the categories are determined based on the range [0, max(values)], while in the future they will be determined based on the unique values.\n",
            "If you want the future behaviour and silence this warning, you can specify \"categories='auto'\".\n",
            "In case you used a LabelEncoder before this OneHotEncoder to convert the categories to integers, then you can now use the OneHotEncoder directly.\n",
            "  warnings.warn(msg, FutureWarning)\n",
            "/usr/local/lib/python3.6/dist-packages/sklearn/preprocessing/_encoders.py:415: FutureWarning: The handling of integer data will change in version 0.22. Currently, the categories are determined based on the range [0, max(values)], while in the future they will be determined based on the unique values.\n",
            "If you want the future behaviour and silence this warning, you can specify \"categories='auto'\".\n",
            "In case you used a LabelEncoder before this OneHotEncoder to convert the categories to integers, then you can now use the OneHotEncoder directly.\n",
            "  warnings.warn(msg, FutureWarning)\n",
            "/usr/local/lib/python3.6/dist-packages/sklearn/preprocessing/_encoders.py:415: FutureWarning: The handling of integer data will change in version 0.22. Currently, the categories are determined based on the range [0, max(values)], while in the future they will be determined based on the unique values.\n",
            "If you want the future behaviour and silence this warning, you can specify \"categories='auto'\".\n",
            "In case you used a LabelEncoder before this OneHotEncoder to convert the categories to integers, then you can now use the OneHotEncoder directly.\n",
            "  warnings.warn(msg, FutureWarning)\n",
            "/usr/local/lib/python3.6/dist-packages/sklearn/preprocessing/_encoders.py:415: FutureWarning: The handling of integer data will change in version 0.22. Currently, the categories are determined based on the range [0, max(values)], while in the future they will be determined based on the unique values.\n",
            "If you want the future behaviour and silence this warning, you can specify \"categories='auto'\".\n",
            "In case you used a LabelEncoder before this OneHotEncoder to convert the categories to integers, then you can now use the OneHotEncoder directly.\n",
            "  warnings.warn(msg, FutureWarning)\n",
            "/usr/local/lib/python3.6/dist-packages/sklearn/preprocessing/_encoders.py:415: FutureWarning: The handling of integer data will change in version 0.22. Currently, the categories are determined based on the range [0, max(values)], while in the future they will be determined based on the unique values.\n",
            "If you want the future behaviour and silence this warning, you can specify \"categories='auto'\".\n",
            "In case you used a LabelEncoder before this OneHotEncoder to convert the categories to integers, then you can now use the OneHotEncoder directly.\n",
            "  warnings.warn(msg, FutureWarning)\n",
            "/usr/local/lib/python3.6/dist-packages/sklearn/preprocessing/_encoders.py:415: FutureWarning: The handling of integer data will change in version 0.22. Currently, the categories are determined based on the range [0, max(values)], while in the future they will be determined based on the unique values.\n",
            "If you want the future behaviour and silence this warning, you can specify \"categories='auto'\".\n",
            "In case you used a LabelEncoder before this OneHotEncoder to convert the categories to integers, then you can now use the OneHotEncoder directly.\n",
            "  warnings.warn(msg, FutureWarning)\n",
            "/usr/local/lib/python3.6/dist-packages/sklearn/preprocessing/_encoders.py:415: FutureWarning: The handling of integer data will change in version 0.22. Currently, the categories are determined based on the range [0, max(values)], while in the future they will be determined based on the unique values.\n",
            "If you want the future behaviour and silence this warning, you can specify \"categories='auto'\".\n",
            "In case you used a LabelEncoder before this OneHotEncoder to convert the categories to integers, then you can now use the OneHotEncoder directly.\n",
            "  warnings.warn(msg, FutureWarning)\n"
          ],
          "name": "stderr"
        }
      ]
    },
    {
      "cell_type": "code",
      "metadata": {
        "id": "pnwnmAFCwybc",
        "colab_type": "code",
        "colab": {
          "base_uri": "https://localhost:8080/",
          "height": 51
        },
        "outputId": "a4e28162-8028-43b3-d88b-729a6e7d0a0c"
      },
      "source": [
        "print(\"Shape of Data:\",temp.shape)\n",
        "print(\"Distinct Datatypes:\",temp.dtypes.unique())\n"
      ],
      "execution_count": 28,
      "outputs": [
        {
          "output_type": "stream",
          "text": [
            "Shape of Data: (1017209, 44)\n",
            "Distinct Datatypes: [dtype('int64') dtype('O') dtype('float64')]\n"
          ],
          "name": "stdout"
        }
      ]
    },
    {
      "cell_type": "code",
      "metadata": {
        "id": "I8PWwdbcwybf",
        "colab_type": "code",
        "colab": {
          "base_uri": "https://localhost:8080/",
          "height": 34
        },
        "outputId": "eb92ba2b-b4c8-4dfb-cce1-0455f079da6e"
      },
      "source": [
        "print(temp.columns[temp.dtypes==\"object\"])"
      ],
      "execution_count": 29,
      "outputs": [
        {
          "output_type": "stream",
          "text": [
            "Index(['StateHoliday'], dtype='object')\n"
          ],
          "name": "stdout"
        }
      ]
    },
    {
      "cell_type": "code",
      "metadata": {
        "id": "RsYJOy1Iwybm",
        "colab_type": "code",
        "colab": {
          "base_uri": "https://localhost:8080/",
          "height": 34
        },
        "outputId": "c804f83a-a393-4a5d-c19e-e3f0b993279e"
      },
      "source": [
        "temp[\"StateHoliday\"].unique()"
      ],
      "execution_count": 30,
      "outputs": [
        {
          "output_type": "execute_result",
          "data": {
            "text/plain": [
              "array(['0', 'a', 'b', 'c', 0], dtype=object)"
            ]
          },
          "metadata": {
            "tags": []
          },
          "execution_count": 30
        }
      ]
    },
    {
      "cell_type": "code",
      "metadata": {
        "id": "aUdsu0fjwybo",
        "colab_type": "code",
        "colab": {
          "base_uri": "https://localhost:8080/",
          "height": 34
        },
        "outputId": "ba7a7933-b07a-4492-9814-a1ac1c82185b"
      },
      "source": [
        "temp[\"StateHoliday\"]= np.where(temp[\"StateHoliday\"]== '0',0,1)\n",
        "#One last check the data tpye\n",
        "temp.dtypes.unique()\n",
        "\n"
      ],
      "execution_count": 31,
      "outputs": [
        {
          "output_type": "execute_result",
          "data": {
            "text/plain": [
              "array([dtype('int64'), dtype('float64')], dtype=object)"
            ]
          },
          "metadata": {
            "tags": []
          },
          "execution_count": 31
        }
      ]
    },
    {
      "cell_type": "code",
      "metadata": {
        "id": "Yr8BpkcYwybq",
        "colab_type": "code",
        "colab": {
          "base_uri": "https://localhost:8080/",
          "height": 120
        },
        "outputId": "4d228be6-7aad-4b13-dac0-34ff07414316"
      },
      "source": [
        "#Create train and test dataset with an 80:20 split\n",
        "x_train, x_test, y_train, y_test = train_test_split(temp,df_new[target],test_size=0.2,random_state=2018)\n",
        "#Further divide training dataset into train and validation dataset with an 90:10 split\n",
        "x_train, x_val, y_train, y_val = train_test_split(x_train,y_train,test_size=0.1,random_state=2018)\n",
        "\n",
        "#Check the sizes of all newly created datasets\n",
        "print(\"Shape of x_train:\",x_train.shape)\n",
        "print(\"Shape of x_val:\",x_val.shape)\n",
        "print(\"Shape of x_test:\",x_test.shape)\n",
        "print(\"Shape of y_train:\",y_train.shape)\n",
        "print(\"Shape of y_val:\",y_val.shape)\n",
        "print(\"Shape of y_test:\",y_test.shape)\n"
      ],
      "execution_count": 32,
      "outputs": [
        {
          "output_type": "stream",
          "text": [
            "Shape of x_train: (732390, 44)\n",
            "Shape of x_val: (81377, 44)\n",
            "Shape of x_test: (203442, 44)\n",
            "Shape of y_train: (732390, 1)\n",
            "Shape of y_val: (81377, 1)\n",
            "Shape of y_test: (203442, 1)\n"
          ],
          "name": "stdout"
        }
      ]
    },
    {
      "cell_type": "markdown",
      "metadata": {
        "id": "5qS7LIZuwybs",
        "colab_type": "text"
      },
      "source": [
        "### Creating Baseline Accuracy"
      ]
    },
    {
      "cell_type": "code",
      "metadata": {
        "id": "OIx7nPT6wybs",
        "colab_type": "code",
        "colab": {
          "base_uri": "https://localhost:8080/",
          "height": 51
        },
        "outputId": "3f762554-da95-4afc-d9aa-2b4286ec8b2e"
      },
      "source": [
        "#calcualte the average score of the train dataset\n",
        "mean_sales = y_train.mean()\n",
        "print(\"Average Sales :\",mean_sales) \n",
        "\n"
      ],
      "execution_count": 33,
      "outputs": [
        {
          "output_type": "stream",
          "text": [
            "Average Sales : Sales    5773.099997\n",
            "dtype: float64\n"
          ],
          "name": "stdout"
        }
      ]
    },
    {
      "cell_type": "code",
      "metadata": {
        "id": "X3Zp2F10wybu",
        "colab_type": "code",
        "colab": {
          "base_uri": "https://localhost:8080/",
          "height": 34
        },
        "outputId": "53dd3414-8f8b-4218-91e5-c59a97bed34f"
      },
      "source": [
        "#Calculate the Mean Absolute Error on the test dataset\n",
        "print(\"MAE for Test Data:\",abs(y_test - mean_sales).mean()[0])\n"
      ],
      "execution_count": 34,
      "outputs": [
        {
          "output_type": "stream",
          "text": [
            "MAE for Test Data: 2883.587604303215\n"
          ],
          "name": "stdout"
        }
      ]
    },
    {
      "cell_type": "markdown",
      "metadata": {
        "id": "1wamBrCLwybw",
        "colab_type": "text"
      },
      "source": [
        "### Designing the Deep Neural Network"
      ]
    },
    {
      "cell_type": "code",
      "metadata": {
        "id": "QadDxgKFwybw",
        "colab_type": "code",
        "colab": {
          "base_uri": "https://localhost:8080/",
          "height": 895
        },
        "outputId": "fe6ccd1d-7bba-47d4-e1b3-6e64bdaafbaf"
      },
      "source": [
        "#Create Deep Neural Network Architecuture\n",
        "from keras import Sequential\n",
        "from keras.layers import Dense, Dropout\n",
        "\n",
        "model = Sequential()\n",
        "model.add(Dense(150,input_dim = 44,activation=\"relu\"))\n",
        "#The input_dim =44, since the width of the training data=44 (refer data engg section)\n",
        "model.add(Dense(1,activation = \"linear\"))\n",
        "\n",
        "#Configure the model\n",
        "model.compile(optimizer='adam', loss=\"mean_absolute_error\", \n",
        "metrics=[\"mean_absolute_error\"])\n",
        "\n",
        "#Train the model\n",
        "model.fit(x_train,y_train, validation_data=(x_val,y_val),epochs=10,batch_size=64)\n"
      ],
      "execution_count": 35,
      "outputs": [
        {
          "output_type": "stream",
          "text": [
            "Using TensorFlow backend.\n"
          ],
          "name": "stderr"
        },
        {
          "output_type": "display_data",
          "data": {
            "text/html": [
              "<p style=\"color: red;\">\n",
              "The default version of TensorFlow in Colab will soon switch to TensorFlow 2.x.<br>\n",
              "We recommend you <a href=\"https://www.tensorflow.org/guide/migrate\" target=\"_blank\">upgrade</a> now \n",
              "or ensure your notebook will continue to use TensorFlow 1.x via the <code>%tensorflow_version 1.x</code> magic:\n",
              "<a href=\"https://colab.research.google.com/notebooks/tensorflow_version.ipynb\" target=\"_blank\">more info</a>.</p>\n"
            ],
            "text/plain": [
              "<IPython.core.display.HTML object>"
            ]
          },
          "metadata": {
            "tags": []
          }
        },
        {
          "output_type": "stream",
          "text": [
            "WARNING:tensorflow:From /usr/local/lib/python3.6/dist-packages/keras/backend/tensorflow_backend.py:66: The name tf.get_default_graph is deprecated. Please use tf.compat.v1.get_default_graph instead.\n",
            "\n",
            "WARNING:tensorflow:From /usr/local/lib/python3.6/dist-packages/keras/backend/tensorflow_backend.py:541: The name tf.placeholder is deprecated. Please use tf.compat.v1.placeholder instead.\n",
            "\n",
            "WARNING:tensorflow:From /usr/local/lib/python3.6/dist-packages/keras/backend/tensorflow_backend.py:4432: The name tf.random_uniform is deprecated. Please use tf.random.uniform instead.\n",
            "\n",
            "WARNING:tensorflow:From /usr/local/lib/python3.6/dist-packages/keras/optimizers.py:793: The name tf.train.Optimizer is deprecated. Please use tf.compat.v1.train.Optimizer instead.\n",
            "\n",
            "WARNING:tensorflow:From /usr/local/lib/python3.6/dist-packages/keras/backend/tensorflow_backend.py:1033: The name tf.assign_add is deprecated. Please use tf.compat.v1.assign_add instead.\n",
            "\n",
            "WARNING:tensorflow:From /usr/local/lib/python3.6/dist-packages/keras/backend/tensorflow_backend.py:1020: The name tf.assign is deprecated. Please use tf.compat.v1.assign instead.\n",
            "\n",
            "WARNING:tensorflow:From /usr/local/lib/python3.6/dist-packages/keras/backend/tensorflow_backend.py:3005: The name tf.Session is deprecated. Please use tf.compat.v1.Session instead.\n",
            "\n",
            "Train on 732390 samples, validate on 81377 samples\n",
            "Epoch 1/10\n",
            "WARNING:tensorflow:From /usr/local/lib/python3.6/dist-packages/keras/backend/tensorflow_backend.py:190: The name tf.get_default_session is deprecated. Please use tf.compat.v1.get_default_session instead.\n",
            "\n",
            "WARNING:tensorflow:From /usr/local/lib/python3.6/dist-packages/keras/backend/tensorflow_backend.py:197: The name tf.ConfigProto is deprecated. Please use tf.compat.v1.ConfigProto instead.\n",
            "\n",
            "WARNING:tensorflow:From /usr/local/lib/python3.6/dist-packages/keras/backend/tensorflow_backend.py:207: The name tf.global_variables is deprecated. Please use tf.compat.v1.global_variables instead.\n",
            "\n",
            "WARNING:tensorflow:From /usr/local/lib/python3.6/dist-packages/keras/backend/tensorflow_backend.py:216: The name tf.is_variable_initialized is deprecated. Please use tf.compat.v1.is_variable_initialized instead.\n",
            "\n",
            "WARNING:tensorflow:From /usr/local/lib/python3.6/dist-packages/keras/backend/tensorflow_backend.py:223: The name tf.variables_initializer is deprecated. Please use tf.compat.v1.variables_initializer instead.\n",
            "\n",
            "732390/732390 [==============================] - 16s 21us/step - loss: 950.3386 - mean_absolute_error: 950.3386 - val_loss: 831.9064 - val_mean_absolute_error: 831.9064\n",
            "Epoch 2/10\n",
            "732390/732390 [==============================] - 15s 20us/step - loss: 783.2903 - mean_absolute_error: 783.2903 - val_loss: 749.1575 - val_mean_absolute_error: 749.1575\n",
            "Epoch 3/10\n",
            "732390/732390 [==============================] - 14s 20us/step - loss: 740.1860 - mean_absolute_error: 740.1860 - val_loss: 745.5380 - val_mean_absolute_error: 745.5380\n",
            "Epoch 4/10\n",
            "732390/732390 [==============================] - 14s 20us/step - loss: 722.8651 - mean_absolute_error: 722.8651 - val_loss: 737.1031 - val_mean_absolute_error: 737.1031\n",
            "Epoch 5/10\n",
            "732390/732390 [==============================] - 14s 20us/step - loss: 712.2371 - mean_absolute_error: 712.2371 - val_loss: 697.7586 - val_mean_absolute_error: 697.7586\n",
            "Epoch 6/10\n",
            "732390/732390 [==============================] - 14s 20us/step - loss: 704.3088 - mean_absolute_error: 704.3088 - val_loss: 722.3533 - val_mean_absolute_error: 722.3533\n",
            "Epoch 7/10\n",
            "732390/732390 [==============================] - 14s 20us/step - loss: 697.5700 - mean_absolute_error: 697.5700 - val_loss: 703.8325 - val_mean_absolute_error: 703.8325\n",
            "Epoch 8/10\n",
            "732390/732390 [==============================] - 14s 20us/step - loss: 692.4707 - mean_absolute_error: 692.4707 - val_loss: 687.6813 - val_mean_absolute_error: 687.6813\n",
            "Epoch 9/10\n",
            "732390/732390 [==============================] - 14s 20us/step - loss: 687.8348 - mean_absolute_error: 687.8348 - val_loss: 694.4152 - val_mean_absolute_error: 694.4152\n",
            "Epoch 10/10\n",
            "732390/732390 [==============================] - 14s 20us/step - loss: 683.9297 - mean_absolute_error: 683.9297 - val_loss: 697.8697 - val_mean_absolute_error: 697.8697\n"
          ],
          "name": "stdout"
        },
        {
          "output_type": "execute_result",
          "data": {
            "text/plain": [
              "<keras.callbacks.History at 0x7ffb1debb358>"
            ]
          },
          "metadata": {
            "tags": []
          },
          "execution_count": 35
        }
      ]
    },
    {
      "cell_type": "code",
      "metadata": {
        "id": "5RUSl8qrwyby",
        "colab_type": "code",
        "colab": {
          "base_uri": "https://localhost:8080/",
          "height": 68
        },
        "outputId": "029a930e-fa32-42d0-826c-166551326f1d"
      },
      "source": [
        "#Use the model's evaluate method to predict and evaluate the test datasets\n",
        "result = model.evaluate(x_test,y_test)\n",
        "\n",
        "#Print the results\n",
        "for i in range(len(model.metrics_names)):\n",
        "    print(\"Metric \",model.metrics_names[i],\":\",str(round(result[i],2)))"
      ],
      "execution_count": 36,
      "outputs": [
        {
          "output_type": "stream",
          "text": [
            "203442/203442 [==============================] - 3s 15us/step\n",
            "Metric  loss : 694.51\n",
            "Metric  mean_absolute_error : 694.51\n"
          ],
          "name": "stdout"
        }
      ]
    },
    {
      "cell_type": "code",
      "metadata": {
        "id": "bCgCabxqwybz",
        "colab_type": "code",
        "colab": {
          "base_uri": "https://localhost:8080/",
          "height": 434
        },
        "outputId": "dd73425a-2116-4f3b-d904-486cbcf5b6d7"
      },
      "source": [
        "model = Sequential()\n",
        "model.add(Dense(150,input_dim = 44,activation=\"relu\"))\n",
        "model.add(Dense(150,activation=\"relu\"))\n",
        "model.add(Dense(150,activation=\"relu\"))\n",
        "model.add(Dense(1,activation = \"linear\"))\n",
        "\n",
        "model.compile(optimizer='adam',loss=\"mean_squared_error\",metrics=[\"mean_absolute_error\"])\n",
        "\n",
        "history = model.fit(x_train,y_train, validation_data=(x_val,y_val),epochs=10,batch_size=64)\n",
        "\n",
        "#result = model.evaluate(x_test,y_test)\n",
        "for i in range(len(model.metrics_names)):\n",
        "    print(\"Metric \",model.metrics_names[i],\":\",str(round(result[i],2)))\n"
      ],
      "execution_count": 37,
      "outputs": [
        {
          "output_type": "stream",
          "text": [
            "Train on 732390 samples, validate on 81377 samples\n",
            "Epoch 1/10\n",
            "732390/732390 [==============================] - 25s 34us/step - loss: 1746283.3144 - mean_absolute_error: 854.8915 - val_loss: 1449362.3534 - val_mean_absolute_error: 846.8654\n",
            "Epoch 2/10\n",
            "732390/732390 [==============================] - 25s 34us/step - loss: 1151979.7400 - mean_absolute_error: 719.8854 - val_loss: 1071293.0792 - val_mean_absolute_error: 694.9676\n",
            "Epoch 3/10\n",
            "732390/732390 [==============================] - 25s 34us/step - loss: 1078792.1451 - mean_absolute_error: 696.3822 - val_loss: 1091681.6433 - val_mean_absolute_error: 697.6296\n",
            "Epoch 4/10\n",
            "732390/732390 [==============================] - 25s 34us/step - loss: 1047089.5105 - mean_absolute_error: 686.1935 - val_loss: 1014101.9943 - val_mean_absolute_error: 675.4682\n",
            "Epoch 5/10\n",
            "732390/732390 [==============================] - 25s 34us/step - loss: 1024511.9588 - mean_absolute_error: 679.1225 - val_loss: 954107.6262 - val_mean_absolute_error: 660.6194\n",
            "Epoch 6/10\n",
            "732390/732390 [==============================] - 25s 34us/step - loss: 1006597.2276 - mean_absolute_error: 674.7377 - val_loss: 1004437.3239 - val_mean_absolute_error: 685.1936\n",
            "Epoch 7/10\n",
            "732390/732390 [==============================] - 25s 35us/step - loss: 982545.2662 - mean_absolute_error: 667.1593 - val_loss: 909435.9011 - val_mean_absolute_error: 648.2058\n",
            "Epoch 8/10\n",
            "732390/732390 [==============================] - 26s 35us/step - loss: 965083.4326 - mean_absolute_error: 662.0320 - val_loss: 889292.3256 - val_mean_absolute_error: 642.5626\n",
            "Epoch 9/10\n",
            "732390/732390 [==============================] - 25s 34us/step - loss: 941539.2106 - mean_absolute_error: 654.4303 - val_loss: 902919.2750 - val_mean_absolute_error: 647.0172\n",
            "Epoch 10/10\n",
            "732390/732390 [==============================] - 25s 34us/step - loss: 925244.4478 - mean_absolute_error: 649.3005 - val_loss: 932182.6972 - val_mean_absolute_error: 659.7151\n",
            "Metric  loss : 694.51\n",
            "Metric  mean_absolute_error : 694.51\n"
          ],
          "name": "stdout"
        }
      ]
    },
    {
      "cell_type": "code",
      "metadata": {
        "id": "NUUCj64fwyb1",
        "colab_type": "code",
        "colab": {
          "base_uri": "https://localhost:8080/",
          "height": 624
        },
        "outputId": "8e108e3e-d2b9-4b1f-f544-ee3b845b965d"
      },
      "source": [
        "model = Sequential()\n",
        "model.add(Dense(150,input_dim = 44,activation=\"relu\"))\n",
        "model.add(Dense(150,activation=\"relu\"))\n",
        "model.add(Dense(150,activation=\"relu\"))\n",
        "model.add(Dense(150,activation=\"relu\"))\n",
        "model.add(Dense(150,activation=\"relu\"))\n",
        "model.add(Dense(1,activation = \"linear\"))\n",
        "\n",
        "model.compile(optimizer='adam',loss=\"mean_squared_error\",metrics=[\"mean_absolute_error\"])\n",
        "\n",
        "model.fit(x_train,y_train, validation_data=(x_val,y_val),epochs=15,batch_size=64)\n",
        "\n",
        "result = model.evaluate(x_test,y_test)\n",
        "for i in range(len(model.metrics_names)):\n",
        "    print(\"Metric \",model.metrics_names[i],\":\",str(round(result[i],2)))"
      ],
      "execution_count": 38,
      "outputs": [
        {
          "output_type": "stream",
          "text": [
            "Train on 732390 samples, validate on 81377 samples\n",
            "Epoch 1/15\n",
            "732390/732390 [==============================] - 35s 48us/step - loss: 1724214.9344 - mean_absolute_error: 852.7169 - val_loss: 1122491.8621 - val_mean_absolute_error: 710.3473\n",
            "Epoch 2/15\n",
            "732390/732390 [==============================] - 35s 47us/step - loss: 1170711.5150 - mean_absolute_error: 724.6007 - val_loss: 1431290.1011 - val_mean_absolute_error: 835.7307\n",
            "Epoch 3/15\n",
            "732390/732390 [==============================] - 35s 47us/step - loss: 1095664.4395 - mean_absolute_error: 701.0892 - val_loss: 1121341.5201 - val_mean_absolute_error: 705.1508\n",
            "Epoch 4/15\n",
            "732390/732390 [==============================] - 35s 47us/step - loss: 1068799.2015 - mean_absolute_error: 692.3789 - val_loss: 1025893.1800 - val_mean_absolute_error: 684.8198\n",
            "Epoch 5/15\n",
            "732390/732390 [==============================] - 34s 47us/step - loss: 1041021.8700 - mean_absolute_error: 683.7622 - val_loss: 1055298.9770 - val_mean_absolute_error: 694.1915\n",
            "Epoch 6/15\n",
            "732390/732390 [==============================] - 35s 47us/step - loss: 1022577.0902 - mean_absolute_error: 678.2629 - val_loss: 983117.1464 - val_mean_absolute_error: 669.0318\n",
            "Epoch 7/15\n",
            "732390/732390 [==============================] - 35s 48us/step - loss: 1001903.4402 - mean_absolute_error: 672.3946 - val_loss: 993415.9899 - val_mean_absolute_error: 669.0466\n",
            "Epoch 8/15\n",
            "732390/732390 [==============================] - 35s 48us/step - loss: 993068.5458 - mean_absolute_error: 669.0143 - val_loss: 1024368.9613 - val_mean_absolute_error: 696.1696\n",
            "Epoch 9/15\n",
            "732390/732390 [==============================] - 34s 47us/step - loss: 975154.9638 - mean_absolute_error: 664.2781 - val_loss: 924531.2187 - val_mean_absolute_error: 658.5467\n",
            "Epoch 10/15\n",
            "732390/732390 [==============================] - 34s 47us/step - loss: 956623.9413 - mean_absolute_error: 658.2607 - val_loss: 916818.7950 - val_mean_absolute_error: 649.6450\n",
            "Epoch 11/15\n",
            "732390/732390 [==============================] - 34s 47us/step - loss: 943639.0800 - mean_absolute_error: 654.4063 - val_loss: 904118.2178 - val_mean_absolute_error: 642.8377\n",
            "Epoch 12/15\n",
            "732390/732390 [==============================] - 34s 47us/step - loss: 927958.9352 - mean_absolute_error: 649.2569 - val_loss: 926406.2533 - val_mean_absolute_error: 646.6441\n",
            "Epoch 13/15\n",
            "732390/732390 [==============================] - 34s 47us/step - loss: 910365.8516 - mean_absolute_error: 643.5269 - val_loss: 933587.2819 - val_mean_absolute_error: 644.4740\n",
            "Epoch 14/15\n",
            "732390/732390 [==============================] - 35s 47us/step - loss: 901456.7882 - mean_absolute_error: 639.8818 - val_loss: 904284.9787 - val_mean_absolute_error: 656.6544\n",
            "Epoch 15/15\n",
            "732390/732390 [==============================] - 34s 47us/step - loss: 890369.1836 - mean_absolute_error: 635.6188 - val_loss: 853055.3994 - val_mean_absolute_error: 623.8493\n",
            "203442/203442 [==============================] - 5s 25us/step\n",
            "Metric  loss : 853843.24\n",
            "Metric  mean_absolute_error : 620.85\n"
          ],
          "name": "stdout"
        }
      ]
    },
    {
      "cell_type": "code",
      "metadata": {
        "id": "N12JRhN9wyb4",
        "colab_type": "code",
        "colab": {
          "base_uri": "https://localhost:8080/",
          "height": 624
        },
        "outputId": "8eee9da5-3277-4b79-f1b3-d209610c257a"
      },
      "source": [
        "model = Sequential()\n",
        "model.add(Dense(350,input_dim = 44,activation=\"relu\"))\n",
        "model.add(Dense(350,activation=\"relu\"))\n",
        "model.add(Dense(1,activation = \"linear\"))\n",
        "\n",
        "model.compile(optimizer='adam',loss=\"mean_squared_error\",metrics=[\"mean_absolute_error\"])\n",
        "\n",
        "model.fit(x_train,y_train, validation_data=(x_val,y_val),epochs=15,batch_size=64)\n",
        "\n",
        "result = model.evaluate(x_test,y_test)\n",
        "for i in range(len(model.metrics_names)):\n",
        "    print(\"Metric \",model.metrics_names[i],\":\",str(round(result[i],2)))\n"
      ],
      "execution_count": 39,
      "outputs": [
        {
          "output_type": "stream",
          "text": [
            "Train on 732390 samples, validate on 81377 samples\n",
            "Epoch 1/15\n",
            "732390/732390 [==============================] - 62s 85us/step - loss: 1713544.4838 - mean_absolute_error: 851.3415 - val_loss: 1166352.8576 - val_mean_absolute_error: 744.7852\n",
            "Epoch 2/15\n",
            "732390/732390 [==============================] - 59s 80us/step - loss: 1168122.9341 - mean_absolute_error: 728.1908 - val_loss: 1063555.3813 - val_mean_absolute_error: 706.7151\n",
            "Epoch 3/15\n",
            "732390/732390 [==============================] - 61s 83us/step - loss: 1086448.9195 - mean_absolute_error: 701.4109 - val_loss: 1019655.5116 - val_mean_absolute_error: 676.4159\n",
            "Epoch 4/15\n",
            "732390/732390 [==============================] - 59s 80us/step - loss: 1061124.0351 - mean_absolute_error: 692.5169 - val_loss: 988144.7141 - val_mean_absolute_error: 672.8532\n",
            "Epoch 5/15\n",
            "732390/732390 [==============================] - 60s 82us/step - loss: 1038761.4439 - mean_absolute_error: 684.0143 - val_loss: 989065.1041 - val_mean_absolute_error: 675.2169\n",
            "Epoch 6/15\n",
            "732390/732390 [==============================] - 61s 84us/step - loss: 1021590.1160 - mean_absolute_error: 677.5569 - val_loss: 944457.5944 - val_mean_absolute_error: 655.3806\n",
            "Epoch 7/15\n",
            "732390/732390 [==============================] - 60s 81us/step - loss: 998232.2622 - mean_absolute_error: 670.7845 - val_loss: 942591.6739 - val_mean_absolute_error: 660.1440\n",
            "Epoch 8/15\n",
            "732390/732390 [==============================] - 60s 82us/step - loss: 983219.5510 - mean_absolute_error: 665.6864 - val_loss: 973936.3819 - val_mean_absolute_error: 661.3553\n",
            "Epoch 9/15\n",
            "732390/732390 [==============================] - 59s 80us/step - loss: 970507.7727 - mean_absolute_error: 662.4253 - val_loss: 912814.7657 - val_mean_absolute_error: 646.0915\n",
            "Epoch 10/15\n",
            "732390/732390 [==============================] - 61s 84us/step - loss: 953818.2786 - mean_absolute_error: 657.2109 - val_loss: 1050471.8631 - val_mean_absolute_error: 701.5539\n",
            "Epoch 11/15\n",
            "732390/732390 [==============================] - 62s 84us/step - loss: 945059.9477 - mean_absolute_error: 654.6958 - val_loss: 911696.7831 - val_mean_absolute_error: 655.3474\n",
            "Epoch 12/15\n",
            "732390/732390 [==============================] - 60s 81us/step - loss: 929981.4385 - mean_absolute_error: 650.0695 - val_loss: 939032.4224 - val_mean_absolute_error: 667.8655\n",
            "Epoch 13/15\n",
            "732390/732390 [==============================] - 60s 81us/step - loss: 919060.1136 - mean_absolute_error: 646.4309 - val_loss: 1010981.1861 - val_mean_absolute_error: 673.1381\n",
            "Epoch 14/15\n",
            "732390/732390 [==============================] - 62s 84us/step - loss: 908991.2591 - mean_absolute_error: 643.4424 - val_loss: 871897.1504 - val_mean_absolute_error: 640.0713\n",
            "Epoch 15/15\n",
            "732390/732390 [==============================] - 61s 83us/step - loss: 901979.6492 - mean_absolute_error: 641.3454 - val_loss: 878909.5082 - val_mean_absolute_error: 642.5040\n",
            "203442/203442 [==============================] - 6s 30us/step\n",
            "Metric  loss : 878308.26\n",
            "Metric  mean_absolute_error : 638.82\n"
          ],
          "name": "stdout"
        }
      ]
    },
    {
      "cell_type": "markdown",
      "metadata": {
        "id": "GbAsyBpiwyb6",
        "colab_type": "text"
      },
      "source": [
        "### Training the model with increased number of epochs"
      ]
    },
    {
      "cell_type": "code",
      "metadata": {
        "id": "hrsWTb4dwyb6",
        "colab_type": "code",
        "colab": {
          "base_uri": "https://localhost:8080/",
          "height": 624
        },
        "outputId": "adc8e05b-63c7-4e84-e4e4-19ab8d792c9f"
      },
      "source": [
        "from keras.callbacks import History \n",
        "history = History()\n",
        "\n",
        "model = Sequential()\n",
        "model.add(Dense(350,input_dim = 44,activation=\"relu\"))\n",
        "model.add(Dense(350,activation=\"relu\"))\n",
        "model.add(Dense(350,activation=\"relu\"))\n",
        "model.add(Dense(350,activation=\"relu\"))\n",
        "model.add(Dense(350,activation=\"relu\"))\n",
        "model.add(Dense(1,activation = \"linear\"))\n",
        "\n",
        "model.compile(optimizer='adam',loss=\"mean_squared_error\",metrics=[\"mean_absolute_error\"])\n",
        "\n",
        "model.fit(x_train,y_train, validation_data=(x_val,y_val), \n",
        "epochs=15,batch_size=64,callbacks=[history])\n",
        "\n",
        "result = model.evaluate(x_test,y_test)\n",
        "\n",
        "for i in range(len(model.metrics_names)):\n",
        "    print(\"Metric \",model.metrics_names[i],\":\",str(round(result[i],2)))\n"
      ],
      "execution_count": 40,
      "outputs": [
        {
          "output_type": "stream",
          "text": [
            "Train on 732390 samples, validate on 81377 samples\n",
            "Epoch 1/15\n",
            "732390/732390 [==============================] - 177s 241us/step - loss: 1675209.9682 - mean_absolute_error: 846.6198 - val_loss: 1076467.5619 - val_mean_absolute_error: 701.8956\n",
            "Epoch 2/15\n",
            "732390/732390 [==============================] - 175s 239us/step - loss: 1172423.8966 - mean_absolute_error: 724.0395 - val_loss: 1183693.9186 - val_mean_absolute_error: 739.1635\n",
            "Epoch 3/15\n",
            "732390/732390 [==============================] - 176s 240us/step - loss: 1097406.6404 - mean_absolute_error: 700.5457 - val_loss: 1008027.6692 - val_mean_absolute_error: 671.3870\n",
            "Epoch 4/15\n",
            "732390/732390 [==============================] - 193s 263us/step - loss: 1059745.8575 - mean_absolute_error: 689.2848 - val_loss: 976450.3924 - val_mean_absolute_error: 666.7380\n",
            "Epoch 5/15\n",
            "732390/732390 [==============================] - 194s 265us/step - loss: 1035507.6433 - mean_absolute_error: 681.4582 - val_loss: 1372699.2615 - val_mean_absolute_error: 789.4044\n",
            "Epoch 6/15\n",
            "732390/732390 [==============================] - 184s 251us/step - loss: 1019017.8774 - mean_absolute_error: 676.0237 - val_loss: 1096102.0994 - val_mean_absolute_error: 711.3197\n",
            "Epoch 7/15\n",
            "732390/732390 [==============================] - 186s 254us/step - loss: 995257.4010 - mean_absolute_error: 669.1250 - val_loss: 914679.0475 - val_mean_absolute_error: 650.7880\n",
            "Epoch 8/15\n",
            "732390/732390 [==============================] - 175s 239us/step - loss: 975550.7216 - mean_absolute_error: 663.4591 - val_loss: 946681.2789 - val_mean_absolute_error: 652.0693\n",
            "Epoch 9/15\n",
            "732390/732390 [==============================] - 165s 226us/step - loss: 965237.3757 - mean_absolute_error: 660.7336 - val_loss: 946144.3298 - val_mean_absolute_error: 662.1091\n",
            "Epoch 10/15\n",
            "732390/732390 [==============================] - 172s 235us/step - loss: 942988.3661 - mean_absolute_error: 653.4465 - val_loss: 964075.4544 - val_mean_absolute_error: 657.9261\n",
            "Epoch 11/15\n",
            "732390/732390 [==============================] - 172s 235us/step - loss: 926624.0442 - mean_absolute_error: 647.4843 - val_loss: 890487.5772 - val_mean_absolute_error: 646.2658\n",
            "Epoch 12/15\n",
            "732390/732390 [==============================] - 168s 230us/step - loss: 905658.4036 - mean_absolute_error: 640.4167 - val_loss: 894421.0419 - val_mean_absolute_error: 644.3485\n",
            "Epoch 13/15\n",
            "732390/732390 [==============================] - 166s 227us/step - loss: 891080.0438 - mean_absolute_error: 635.4757 - val_loss: 1163833.3842 - val_mean_absolute_error: 762.7201\n",
            "Epoch 14/15\n",
            "732390/732390 [==============================] - 171s 234us/step - loss: 873656.3312 - mean_absolute_error: 628.7521 - val_loss: 802641.6477 - val_mean_absolute_error: 607.0676\n",
            "Epoch 15/15\n",
            "732390/732390 [==============================] - 179s 245us/step - loss: 860488.9979 - mean_absolute_error: 624.0871 - val_loss: 887175.4086 - val_mean_absolute_error: 637.1720\n",
            "203442/203442 [==============================] - 11s 55us/step\n",
            "Metric  loss : 884096.58\n",
            "Metric  mean_absolute_error : 632.18\n"
          ],
          "name": "stdout"
        }
      ]
    },
    {
      "cell_type": "markdown",
      "metadata": {
        "id": "Jhxx_9UJwyb8",
        "colab_type": "text"
      },
      "source": [
        "### Visualing the final results"
      ]
    },
    {
      "cell_type": "code",
      "metadata": {
        "id": "froDMrwawyb8",
        "colab_type": "code",
        "colab": {
          "base_uri": "https://localhost:8080/",
          "height": 301
        },
        "outputId": "0fad5f5e-a36c-4d74-864c-d096344f67d0"
      },
      "source": [
        "plt.plot(history.history['loss'])\n",
        "plt.plot(history.history['val_loss'])\n",
        "plt.title(\"Model's Training & Validation loss across epochs\")\n",
        "plt.ylabel('Loss')\n",
        "plt.xlabel('Epochs')\n",
        "plt.legend(['Train', 'Validation'], loc='upper right')\n",
        "plt.show()\n"
      ],
      "execution_count": 41,
      "outputs": [
        {
          "output_type": "display_data",
          "data": {
            "image/png": "[encoded data removed]",
            "text/plain": [
              "<Figure size 432x288 with 1 Axes>"
            ]
          },
          "metadata": {
            "tags": []
          }
        }
      ]
    },
    {
      "cell_type": "code",
      "metadata": {
        "id": "quUCaXVBwyb-",
        "colab_type": "code",
        "colab": {
          "base_uri": "https://localhost:8080/",
          "height": 241
        },
        "outputId": "6f779cca-4759-4b6e-8e8b-d3d317555fe6"
      },
      "source": [
        "#Manually predicting from the model, instead of using model's evaluate function\n",
        "y_test[\"Prediction\"] = model.predict(x_test)\n",
        "y_test.columns = [\"Actual Sales\",\"Predicted Sales\"]\n",
        "print(y_test.head(10))\n",
        "\n",
        "#Manually predicting from the model, instead of using model's evaluate function\n",
        "from sklearn.metrics import mean_squared_error, mean_absolute_error\n",
        "print(\"MSE :\",mean_squared_error(y_test[\"Actual Sales\"].values,y_test[\"Predicted Sales\"].values))\n",
        "print(\"MAE :\",mean_absolute_error(y_test[\"Actual Sales\"].values,y_test[\"Predicted Sales\"].values))"
      ],
      "execution_count": 42,
      "outputs": [
        {
          "output_type": "stream",
          "text": [
            "        Actual Sales  Predicted Sales\n",
            "115563             0         1.272268\n",
            "832654             0         1.272268\n",
            "769112          2933      3287.899170\n",
            "350588          8602      7523.803223\n",
            "141556          6975      6460.162109\n",
            "84435           9239      9779.285156\n",
            "53018              0         1.272268\n",
            "262419             0         1.272268\n",
            "702267          5885      6231.907715\n",
            "981431             0         1.272268\n",
            "MSE : 884096.5841113148\n",
            "MAE : 632.1796026718035\n"
          ],
          "name": "stdout"
        }
      ]
    }
  ]
}