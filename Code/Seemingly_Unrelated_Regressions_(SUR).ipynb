{
  "nbformat": 4,
  "nbformat_minor": 0,
  "metadata": {
    "colab": {
      "name": "Seemingly Unrelated Regressions (SUR).ipynb",
      "version": "0.3.2",
      "provenance": []
    },
    "kernelspec": {
      "name": "python3",
      "display_name": "Python 3"
    }
  },
  "cells": [
    {
      "cell_type": "code",
      "metadata": {
        "id": "ncP8XzJM_q--",
        "colab_type": "code",
        "colab": {
          "base_uri": "https://localhost:8080/",
          "height": 422
        },
        "outputId": "92e74ce2-06ce-4e66-94b5-350e6d3ea0c8"
      },
      "source": [
        "pip install linearmodels"
      ],
      "execution_count": 1,
      "outputs": [
        {
          "output_type": "stream",
          "text": [
            "Collecting linearmodels\n",
            "\u001b[?25l  Downloading https://files.pythonhosted.org/packages/80/e4/6ef7dda964a968225f32522ea2210c008b967130af5ac2e92c0e6efc2008/linearmodels-4.13.tar.gz (1.2MB)\n",
            "\u001b[K     |████████████████████████████████| 1.2MB 4.7MB/s \n",
            "\u001b[?25hRequirement already satisfied: numpy>=1.13 in /usr/local/lib/python3.6/dist-packages (from linearmodels) (1.16.4)\n",
            "Requirement already satisfied: pandas>=0.20 in /usr/local/lib/python3.6/dist-packages (from linearmodels) (0.24.2)\n",
            "Requirement already satisfied: scipy>=0.18 in /usr/local/lib/python3.6/dist-packages (from linearmodels) (1.3.0)\n",
            "Requirement already satisfied: patsy in /usr/local/lib/python3.6/dist-packages (from linearmodels) (0.5.1)\n",
            "Requirement already satisfied: statsmodels>=0.8 in /usr/local/lib/python3.6/dist-packages (from linearmodels) (0.10.1)\n",
            "Collecting cached_property>=1.5.1 (from linearmodels)\n",
            "  Downloading https://files.pythonhosted.org/packages/3b/86/85c1be2e8db9e13ef9a350aecd6dea292bd612fa288c2f40d035bb750ded/cached_property-1.5.1-py2.py3-none-any.whl\n",
            "Collecting mypy_extensions>=0.4 (from linearmodels)\n",
            "  Downloading https://files.pythonhosted.org/packages/4d/72/8d54e2b296631b9b14961d583e56e90d9d7fba8a240d5ce7f1113cc5e887/mypy_extensions-0.4.1-py2.py3-none-any.whl\n",
            "Requirement already satisfied: pytz>=2011k in /usr/local/lib/python3.6/dist-packages (from pandas>=0.20->linearmodels) (2018.9)\n",
            "Requirement already satisfied: python-dateutil>=2.5.0 in /usr/local/lib/python3.6/dist-packages (from pandas>=0.20->linearmodels) (2.5.3)\n",
            "Requirement already satisfied: six in /usr/local/lib/python3.6/dist-packages (from patsy->linearmodels) (1.12.0)\n",
            "Building wheels for collected packages: linearmodels\n",
            "  Building wheel for linearmodels (setup.py) ... \u001b[?25l\u001b[?25hdone\n",
            "  Created wheel for linearmodels: filename=linearmodels-4.13-py2.py3-none-any.whl size=802535 sha256=3ff8eb629bb967f16297ebb78e7c8cc921496e56456094033c473d5c86cc9a12\n",
            "  Stored in directory: /root/.cache/pip/wheels/92/33/3a/5efd7cb50597ff3dc29256ba54e36e2a2c820fd1d1069ea967\n",
            "Successfully built linearmodels\n",
            "Installing collected packages: cached-property, mypy-extensions, linearmodels\n",
            "Successfully installed cached-property-1.5.1 linearmodels-4.13 mypy-extensions-0.4.1\n"
          ],
          "name": "stdout"
        }
      ]
    },
    {
      "cell_type": "code",
      "metadata": {
        "id": "eOmkwUHZ_fEe",
        "colab_type": "code",
        "colab": {}
      },
      "source": [
        "import numpy as np\n",
        "import statsmodels.api as sm\n",
        "import pandas as pd"
      ],
      "execution_count": 0,
      "outputs": []
    },
    {
      "cell_type": "code",
      "metadata": {
        "id": "VwjFz_Fp5lX8",
        "colab_type": "code",
        "colab": {
          "base_uri": "https://localhost:8080/",
          "height": 224
        },
        "outputId": "bab6256c-bf0e-4733-cf64-673102ca53be"
      },
      "source": [
        "file=\"https://github.com/VitorKamada/ECO7110/raw/master/Data/mus05surdata.dta\"\n",
        "df = pd.read_stata(file)\n",
        "df.head()"
      ],
      "execution_count": 3,
      "outputs": [
        {
          "output_type": "execute_result",
          "data": {
            "text/html": [
              "<div>\n",
              "<style scoped>\n",
              "    .dataframe tbody tr th:only-of-type {\n",
              "        vertical-align: middle;\n",
              "    }\n",
              "\n",
              "    .dataframe tbody tr th {\n",
              "        vertical-align: top;\n",
              "    }\n",
              "\n",
              "    .dataframe thead th {\n",
              "        text-align: right;\n",
              "    }\n",
              "</style>\n",
              "<table border=\"1\" class=\"dataframe\">\n",
              "  <thead>\n",
              "    <tr style=\"text-align: right;\">\n",
              "      <th></th>\n",
              "      <th>ssiratio</th>\n",
              "      <th>year03</th>\n",
              "      <th>age</th>\n",
              "      <th>educyr</th>\n",
              "      <th>drugexp</th>\n",
              "      <th>drugslf</th>\n",
              "      <th>totslf</th>\n",
              "      <th>totexp</th>\n",
              "      <th>medicare</th>\n",
              "      <th>medicaid</th>\n",
              "      <th>private</th>\n",
              "      <th>female</th>\n",
              "      <th>actlim</th>\n",
              "      <th>income</th>\n",
              "      <th>totchr</th>\n",
              "      <th>age2</th>\n",
              "      <th>noopexp</th>\n",
              "      <th>oopexp</th>\n",
              "      <th>totothr</th>\n",
              "      <th>loopexp</th>\n",
              "      <th>lnoopexp</th>\n",
              "      <th>ldrugexp</th>\n",
              "      <th>ltotothr</th>\n",
              "    </tr>\n",
              "  </thead>\n",
              "  <tbody>\n",
              "    <tr>\n",
              "      <th>0</th>\n",
              "      <td>0.394506</td>\n",
              "      <td>1</td>\n",
              "      <td>85</td>\n",
              "      <td>15</td>\n",
              "      <td>1754</td>\n",
              "      <td>1754</td>\n",
              "      <td>1754</td>\n",
              "      <td>2054</td>\n",
              "      <td>1</td>\n",
              "      <td>0</td>\n",
              "      <td>1</td>\n",
              "      <td>1</td>\n",
              "      <td>0</td>\n",
              "      <td>27.882999</td>\n",
              "      <td>3</td>\n",
              "      <td>7225.0</td>\n",
              "      <td>300.0</td>\n",
              "      <td>1754.0</td>\n",
              "      <td>300.0</td>\n",
              "      <td>7.469654</td>\n",
              "      <td>5.703783</td>\n",
              "      <td>7.469654</td>\n",
              "      <td>5.703783</td>\n",
              "    </tr>\n",
              "    <tr>\n",
              "      <th>1</th>\n",
              "      <td>1.000000</td>\n",
              "      <td>1</td>\n",
              "      <td>83</td>\n",
              "      <td>8</td>\n",
              "      <td>240</td>\n",
              "      <td>240</td>\n",
              "      <td>381</td>\n",
              "      <td>1880</td>\n",
              "      <td>1</td>\n",
              "      <td>0</td>\n",
              "      <td>0</td>\n",
              "      <td>1</td>\n",
              "      <td>1</td>\n",
              "      <td>11.628000</td>\n",
              "      <td>2</td>\n",
              "      <td>6889.0</td>\n",
              "      <td>1499.0</td>\n",
              "      <td>381.0</td>\n",
              "      <td>1640.0</td>\n",
              "      <td>5.942800</td>\n",
              "      <td>7.312553</td>\n",
              "      <td>5.480639</td>\n",
              "      <td>7.402452</td>\n",
              "    </tr>\n",
              "    <tr>\n",
              "      <th>2</th>\n",
              "      <td>1.000000</td>\n",
              "      <td>1</td>\n",
              "      <td>82</td>\n",
              "      <td>11</td>\n",
              "      <td>453</td>\n",
              "      <td>102</td>\n",
              "      <td>102</td>\n",
              "      <td>656</td>\n",
              "      <td>1</td>\n",
              "      <td>1</td>\n",
              "      <td>0</td>\n",
              "      <td>1</td>\n",
              "      <td>0</td>\n",
              "      <td>3.456000</td>\n",
              "      <td>2</td>\n",
              "      <td>6724.0</td>\n",
              "      <td>554.0</td>\n",
              "      <td>102.0</td>\n",
              "      <td>203.0</td>\n",
              "      <td>4.624973</td>\n",
              "      <td>6.317165</td>\n",
              "      <td>6.115892</td>\n",
              "      <td>5.313206</td>\n",
              "    </tr>\n",
              "    <tr>\n",
              "      <th>3</th>\n",
              "      <td>0.205162</td>\n",
              "      <td>1</td>\n",
              "      <td>77</td>\n",
              "      <td>13</td>\n",
              "      <td>1729</td>\n",
              "      <td>722</td>\n",
              "      <td>744</td>\n",
              "      <td>8350</td>\n",
              "      <td>1</td>\n",
              "      <td>0</td>\n",
              "      <td>1</td>\n",
              "      <td>0</td>\n",
              "      <td>0</td>\n",
              "      <td>38.973999</td>\n",
              "      <td>3</td>\n",
              "      <td>5929.0</td>\n",
              "      <td>7606.0</td>\n",
              "      <td>744.0</td>\n",
              "      <td>6621.0</td>\n",
              "      <td>6.612041</td>\n",
              "      <td>8.936692</td>\n",
              "      <td>7.455298</td>\n",
              "      <td>8.798001</td>\n",
              "    </tr>\n",
              "    <tr>\n",
              "      <th>4</th>\n",
              "      <td>0.216923</td>\n",
              "      <td>1</td>\n",
              "      <td>76</td>\n",
              "      <td>14</td>\n",
              "      <td>1814</td>\n",
              "      <td>510</td>\n",
              "      <td>817</td>\n",
              "      <td>3380</td>\n",
              "      <td>1</td>\n",
              "      <td>0</td>\n",
              "      <td>1</td>\n",
              "      <td>1</td>\n",
              "      <td>0</td>\n",
              "      <td>36.861000</td>\n",
              "      <td>1</td>\n",
              "      <td>5776.0</td>\n",
              "      <td>2563.0</td>\n",
              "      <td>817.0</td>\n",
              "      <td>1566.0</td>\n",
              "      <td>6.705639</td>\n",
              "      <td>7.848934</td>\n",
              "      <td>7.503290</td>\n",
              "      <td>7.356280</td>\n",
              "    </tr>\n",
              "  </tbody>\n",
              "</table>\n",
              "</div>"
            ],
            "text/plain": [
              "   ssiratio  year03  age  educyr  ...   loopexp  lnoopexp  ldrugexp  ltotothr\n",
              "0  0.394506       1   85      15  ...  7.469654  5.703783  7.469654  5.703783\n",
              "1  1.000000       1   83       8  ...  5.942800  7.312553  5.480639  7.402452\n",
              "2  1.000000       1   82      11  ...  4.624973  6.317165  6.115892  5.313206\n",
              "3  0.205162       1   77      13  ...  6.612041  8.936692  7.455298  8.798001\n",
              "4  0.216923       1   76      14  ...  6.705639  7.848934  7.503290  7.356280\n",
              "\n",
              "[5 rows x 23 columns]"
            ]
          },
          "metadata": {
            "tags": []
          },
          "execution_count": 3
        }
      ]
    },
    {
      "cell_type": "code",
      "metadata": {
        "id": "jwL2Nxj45lam",
        "colab_type": "code",
        "colab": {
          "base_uri": "https://localhost:8080/",
          "height": 72
        },
        "outputId": "8d980f9c-3906-4922-e316-ab1b8b9053d1"
      },
      "source": [
        "X1 = sm.add_constant(df[['age', 'age2', \n",
        " 'actlim', 'totchr', 'medicaid', 'private']])\n",
        "X2 = sm.add_constant(df[['age', 'age2', \n",
        " 'actlim','totchr', 'educyr', 'private']])"
      ],
      "execution_count": 4,
      "outputs": [
        {
          "output_type": "stream",
          "text": [
            "/usr/local/lib/python3.6/dist-packages/numpy/core/fromnumeric.py:2389: FutureWarning: Method .ptp is deprecated and will be removed in a future version. Use numpy.ptp instead.\n",
            "  return ptp(axis=axis, out=out, **kwargs)\n"
          ],
          "name": "stderr"
        }
      ]
    },
    {
      "cell_type": "code",
      "metadata": {
        "id": "7og3jPyNJKBd",
        "colab_type": "code",
        "colab": {
          "base_uri": "https://localhost:8080/",
          "height": 577
        },
        "outputId": "3310c3fb-dc3c-4fc0-be9c-394c5f7f6b4c"
      },
      "source": [
        "OLS1 = sm.OLS(df.ldrugexp, X1,\n",
        " missing='drop').fit(cov_type='HC1')\n",
        "print(OLS1.summary())"
      ],
      "execution_count": 5,
      "outputs": [
        {
          "output_type": "stream",
          "text": [
            "                            OLS Regression Results                            \n",
            "==============================================================================\n",
            "Dep. Variable:               ldrugexp   R-squared:                       0.227\n",
            "Model:                            OLS   Adj. R-squared:                  0.226\n",
            "Method:                 Least Squares   F-statistic:                     170.4\n",
            "Date:                Thu, 08 Aug 2019   Prob (F-statistic):          4.52e-189\n",
            "Time:                        21:51:06   Log-Likelihood:                -5100.5\n",
            "No. Observations:                3285   AIC:                         1.021e+04\n",
            "Df Residuals:                    3278   BIC:                         1.026e+04\n",
            "Df Model:                           6                                         \n",
            "Covariance Type:                  HC1                                         \n",
            "==============================================================================\n",
            "                 coef    std err          z      P>|z|      [0.025      0.975]\n",
            "------------------------------------------------------------------------------\n",
            "const         -4.4022      2.972     -1.481      0.139     -10.228       1.424\n",
            "age            0.2764      0.079      3.484      0.000       0.121       0.432\n",
            "age2          -0.0018      0.001     -3.475      0.001      -0.003      -0.001\n",
            "actlim         0.3574      0.046      7.854      0.000       0.268       0.447\n",
            "totchr         0.4035      0.016     24.768      0.000       0.372       0.435\n",
            "medicaid       0.0893      0.062      1.435      0.151      -0.033       0.211\n",
            "private        0.0775      0.044      1.750      0.080      -0.009       0.164\n",
            "==============================================================================\n",
            "Omnibus:                      343.755   Durbin-Watson:                   1.880\n",
            "Prob(Omnibus):                  0.000   Jarque-Bera (JB):              514.557\n",
            "Skew:                          -0.780   Prob(JB):                    1.84e-112\n",
            "Kurtosis:                       4.152   Cond. No.                     8.47e+05\n",
            "==============================================================================\n",
            "\n",
            "Warnings:\n",
            "[1] Standard Errors are heteroscedasticity robust (HC1)\n",
            "[2] The condition number is large, 8.47e+05. This might indicate that there are\n",
            "strong multicollinearity or other numerical problems.\n"
          ],
          "name": "stdout"
        }
      ]
    },
    {
      "cell_type": "code",
      "metadata": {
        "id": "AVOmv07HNMx1",
        "colab_type": "code",
        "colab": {
          "base_uri": "https://localhost:8080/",
          "height": 577
        },
        "outputId": "58ce9bd5-e8d4-4ac9-d897-a95048215920"
      },
      "source": [
        "OLS2 = sm.OLS(df.ltotothr, X2,\n",
        " missing='drop').fit(cov_type='HC1')\n",
        "print(OLS2.summary())"
      ],
      "execution_count": 6,
      "outputs": [
        {
          "output_type": "stream",
          "text": [
            "                            OLS Regression Results                            \n",
            "==============================================================================\n",
            "Dep. Variable:               ltotothr   R-squared:                       0.154\n",
            "Model:                            OLS   Adj. R-squared:                  0.153\n",
            "Method:                 Least Squares   F-statistic:                     103.2\n",
            "Date:                Thu, 08 Aug 2019   Prob (F-statistic):          1.54e-119\n",
            "Time:                        21:51:06   Log-Likelihood:                -6074.4\n",
            "No. Observations:                3350   AIC:                         1.216e+04\n",
            "Df Residuals:                    3343   BIC:                         1.221e+04\n",
            "Df Model:                           6                                         \n",
            "Covariance Type:                  HC1                                         \n",
            "==============================================================================\n",
            "                 coef    std err          z      P>|z|      [0.025      0.975]\n",
            "------------------------------------------------------------------------------\n",
            "const         -6.1414      3.853     -1.594      0.111     -13.693       1.411\n",
            "age            0.3174      0.103      3.081      0.002       0.115       0.519\n",
            "age2          -0.0021      0.001     -3.047      0.002      -0.003      -0.001\n",
            "actlim         0.7421      0.064     11.664      0.000       0.617       0.867\n",
            "totchr         0.2960      0.020     14.460      0.000       0.256       0.336\n",
            "educyr         0.0650      0.008      8.531      0.000       0.050       0.080\n",
            "private        0.2590      0.054      4.773      0.000       0.153       0.365\n",
            "==============================================================================\n",
            "Omnibus:                        1.632   Durbin-Watson:                   1.963\n",
            "Prob(Omnibus):                  0.442   Jarque-Bera (JB):                1.677\n",
            "Skew:                          -0.050   Prob(JB):                        0.432\n",
            "Kurtosis:                       2.955   Cond. No.                     8.47e+05\n",
            "==============================================================================\n",
            "\n",
            "Warnings:\n",
            "[1] Standard Errors are heteroscedasticity robust (HC1)\n",
            "[2] The condition number is large, 8.47e+05. This might indicate that there are\n",
            "strong multicollinearity or other numerical problems.\n"
          ],
          "name": "stdout"
        }
      ]
    },
    {
      "cell_type": "code",
      "metadata": {
        "id": "VE3gwKA25lc3",
        "colab_type": "code",
        "colab": {
          "base_uri": "https://localhost:8080/",
          "height": 682
        },
        "outputId": "89a469f1-b5fd-4ff5-98ae-4869f1e9fc87"
      },
      "source": [
        "from linearmodels.system import SUR\n",
        "from collections import OrderedDict\n",
        "Equation = OrderedDict()\n",
        "Equation['ldrugexp'] = {'dependent': df.ldrugexp, 'exog': X1}\n",
        "Equation['ltotothr'] = {'dependent': df.ltotothr, 'exog': X2}\n",
        "SUR_Reg = SUR(Equation).fit()\n",
        "print(SUR_Reg)"
      ],
      "execution_count": 7,
      "outputs": [
        {
          "output_type": "stream",
          "text": [
            "                        System GLS Estimation Summary                         \n",
            "==============================================================================\n",
            "Estimator:                        GLS   Overall R-squared:              0.1800\n",
            "No. Equations.:                     2   Cov. Estimator:                 robust\n",
            "No. Observations:                3251   Num. Constraints:                 None\n",
            "Date:                Thu, Aug 08 2019                                         \n",
            "Time:                        21:51:06                                         \n",
            "                                                                              \n",
            "                                                                              \n",
            "               Equation: ldrugexp, Dependent Variable: ldrugexp               \n",
            "==============================================================================\n",
            "            Parameter  Std. Err.     T-stat    P-value    Lower CI    Upper CI\n",
            "------------------------------------------------------------------------------\n",
            "const         -3.8913     2.6290    -1.4802     0.1388     -9.0439      1.2614\n",
            "age            0.2630     0.0702     3.7478     0.0002      0.1255      0.4006\n",
            "age2          -0.0017     0.0005    -3.7387     0.0002     -0.0027     -0.0008\n",
            "actlim         0.3547     0.0400     8.8715     0.0000      0.2763      0.4330\n",
            "totchr         0.4005     0.0144     27.828     0.0000      0.3723      0.4287\n",
            "medicaid       0.1068     0.0539     1.9798     0.0477      0.0011      0.2125\n",
            "private        0.0810     0.0390     2.0788     0.0376      0.0046      0.1574\n",
            "               Equation: ltotothr, Dependent Variable: ltotothr               \n",
            "==============================================================================\n",
            "            Parameter  Std. Err.     T-stat    P-value    Lower CI    Upper CI\n",
            "------------------------------------------------------------------------------\n",
            "const         -5.1983     2.6469    -1.9640     0.0495     -10.386     -0.0106\n",
            "age            0.2928     0.0707     4.1399     0.0000      0.1542      0.4314\n",
            "age2          -0.0019     0.0005    -4.0930     0.0000     -0.0028     -0.0010\n",
            "actlim         0.7387     0.0431     17.143     0.0000      0.6542      0.8231\n",
            "totchr         0.2874     0.0141     20.318     0.0000      0.2596      0.3151\n",
            "educyr         0.0653     0.0053     12.238     0.0000      0.0548      0.0757\n",
            "private        0.2689     0.0373     7.2116     0.0000      0.1958      0.3420\n",
            "==============================================================================\n",
            "\n",
            "Covariance Estimator:\n",
            "Heteroskedastic (Robust) Covariance (Debiased: False, GLS: True)\n"
          ],
          "name": "stdout"
        },
        {
          "output_type": "stream",
          "text": [
            "/usr/local/lib/python3.6/dist-packages/linearmodels/utility.py:478: MissingValueWarning: \n",
            "Inputs contain missing values. Dropping rows with missing observations.\n",
            "  warnings.warn(missing_value_warning_msg, MissingValueWarning)\n"
          ],
          "name": "stderr"
        }
      ]
    },
    {
      "cell_type": "code",
      "metadata": {
        "id": "fN2-rGp75lff",
        "colab_type": "code",
        "colab": {
          "base_uri": "https://localhost:8080/",
          "height": 52
        },
        "outputId": "609e9ace-9e30-43a6-ee95-bdd40aac4e4e"
      },
      "source": [
        "res1 = SUR_Reg.equations['ldrugexp'].resids\n",
        "res2 = SUR_Reg.equations['ltotothr'].resids\n",
        "np.corrcoef(res1, res2)"
      ],
      "execution_count": 8,
      "outputs": [
        {
          "output_type": "execute_result",
          "data": {
            "text/plain": [
              "array([[1.        , 0.17427516],\n",
              "       [0.17427516, 1.        ]])"
            ]
          },
          "metadata": {
            "tags": []
          },
          "execution_count": 8
        }
      ]
    }
  ]
}